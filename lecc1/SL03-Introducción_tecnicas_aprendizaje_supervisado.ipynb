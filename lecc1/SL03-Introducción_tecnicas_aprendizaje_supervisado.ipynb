{
 "cells": [
  {
   "cell_type": "markdown",
   "metadata": {
    "id": "gSX8kyqjIL9C"
   },
   "source": [
    "# **Aprendizaje supervisado**\n",
    "# SL03. Introducción a las técnicas de Aprendizaje Supervisado"
   ]
  },
  {
   "cell_type": "markdown",
   "metadata": {
    "id": "FgAlA2IQfZSk"
   },
   "source": [
    "## <font color='blue'>**Conceptos básicos de aprendizaje supervisado**</font>\n",
    "\n",
    "**Ejemplo 1**: Una banco recibe nuevos pedidos para acceder a una tarjeta de crédito. Cada pedido tiene información acerca del solicitante:\n",
    "* Liquidación de sueldo\n",
    "* Edad\n",
    "* Estado Civil\n",
    "* DICOM\n",
    "* Situación crediticia\n",
    "* Otras variables\n",
    "\n",
    "*Problema*: Determinar si aceptar o rechazar la solicitud de tarjeta de crédito.\n",
    "\n",
    "**Ejemplo 2**: El servicio de correo de la empresa recibe cientos de mails por día.\n",
    "\n",
    "*Problema*: Clasificar cada mail como correo basura (spam) o correo deseado, para filtrar y aligerar el servicio.\n",
    "\n"
   ]
  },
  {
   "cell_type": "markdown",
   "metadata": {
    "id": "4ASH7IjVL7Bb"
   },
   "source": [
    "En las **técnicas de aprendizaje supervisado** se dispone de un conjunto de registros (o ejemplos, o instancias) descritos por $n$ atributos: $A_{1}, A_{2}, ... , A_{n}$ y cada instancia está anotada con una etiqueta, pudiendo ser una clase (Spam / No Spam), o un valor numérico (score crediticio).\n",
    "\n",
    "**El objetivo** es aprender un modelo (o función) a partir de los datos, buscando predecir sus etiquetas a partir de los atributos. Este modelo puede ser utilizado para predecir las etiquetas de nuevos registros sin anotar."
   ]
  },
  {
   "cell_type": "markdown",
   "metadata": {
    "id": "nBbD0jw3hmLe"
   },
   "source": [
    "### Problemas de regresión\n",
    "\n",
    "Dados $(x_{1}, y_{1}), (x_{2}, y_{2}), …, (x_{n}, y_{n})$\n",
    "\n",
    "Aprender una $f(x)$ que permita predecir $y$ a partir de $x$\n",
    "\n",
    "Si $y$ ϵ $ℝ^{n}$: **Es un problema de regresión**.\n",
    "\n",
    "![Link](https://i.ibb.co/RYcdQqJ/regresion.png)\n",
    "\n"
   ]
  },
  {
   "cell_type": "markdown",
   "metadata": {
    "id": "jr6nVuGDjiYl"
   },
   "source": [
    "### Problemas de clasificación\n",
    "\n",
    "Dados $(x_{1}, y_{1}), (x_{2}, y_{2}), …, (x_{n}, y_{n})$\n",
    "\n",
    "Aprender una $f(x)$ que permita predecir $y$ a partir de $x$\n",
    "\n",
    "Si $y$ es categórica: **Es un problema de clasificación**.\n",
    "\n",
    "![Link](https://i.ibb.co/P4hLkGt/clasificaci-n.png)"
   ]
  },
  {
   "cell_type": "markdown",
   "metadata": {
    "id": "OtmXLUPIHMlb"
   },
   "source": [
    "La variable $x$ puede ser multidimensional.\n",
    "\n",
    "Cada dimensión corresponde a un atributo:\n",
    "* Edad del paciente\n",
    "* Tamaño del tumor\n",
    "* Uniformidad en la forma de la célula\n",
    "* Etcétera\n",
    "\n",
    "**La regresión busca “acercar” los datos a una función (lineal, polinomial, etc.)**.\n",
    "\n",
    "**La clasificación busca separar los datos mediante ciertos “bordes”**."
   ]
  },
  {
   "cell_type": "markdown",
   "metadata": {
    "id": "9HoodYBHIKIm"
   },
   "source": [
    "### Elección de hiperparámetros\n",
    "\n",
    "Dividir el conjunto total de ejemplos en tres subconjuntos:\n",
    "\n",
    "* **Entrenamiento**: aprendizaje de variables del modelo.\n",
    "* **Validación**: ajuste/elección de hiperparámetros.\n",
    "* **Prueba**: estimación final del desempeño del modelo entrenado (y con hiperparámetros elegidos adecuadamente).\n",
    "![Link](https://i.ibb.co/mXY2Kfc/sets.png)"
   ]
  },
  {
   "cell_type": "markdown",
   "metadata": {
    "id": "cRE5wFDsLJ0D"
   },
   "source": [
    "## <font color='blue'>**Modelos de Regresión Lineal y Polinomial**</font>\n",
    "\n",
    "### Regresión Lineal\n",
    "\n",
    "Busca ajustar los datos de entrenamiento mediante una **función que sea un hiperplano**.\n",
    "\n",
    "$$y = \\theta_{0}+\\theta_{1}x_{1}+\\theta_{2}x_{2}+...+\\theta_{d}x_{d}=\n",
    "\\sum_{j=0}^{d}\\theta_{j}x_{j}$$\n",
    "\n",
    "Los valores 𝜃 son los pesos de los atributos (o features en inglés). Se entrena minimizando la suma del error cuadrático."
   ]
  },
  {
   "cell_type": "markdown",
   "metadata": {
    "id": "Fxq-HuPgNERL"
   },
   "source": [
    "### Regresión Polinomial\n",
    "\n",
    "Busca ajustar los datos de entrenamiento mediante una **función polinomial**.\n",
    "\n",
    "$$y(x,w) = w_{0}+w_{1}x+w_{2}x^{2}+...+w_{M}x^{M}=\n",
    "\\sum_{j=0}^{M}w_{j}x^{j}$$\n",
    "\n",
    "Mientras **más alto el grado del polinomio**, más se ajusta a los datos, pero se vuelve más complejo y **tiende a sobreajustar**."
   ]
  },
  {
   "cell_type": "code",
   "execution_count": 30,
   "metadata": {
    "executionInfo": {
     "elapsed": 1226,
     "status": "ok",
     "timestamp": 1680089731457,
     "user": {
      "displayName": "Héctor Allende-Cid",
      "userId": "00621000603327740758"
     },
     "user_tz": 180
    },
    "id": "8xoC8iPoc8tj"
   },
   "outputs": [],
   "source": [
    "import pandas as pd\n",
    "import numpy as np\n",
    "import matplotlib.pyplot as plt\n",
    "from sklearn import datasets, linear_model\n",
    "from sklearn.metrics import mean_squared_error, r2_score\n",
    "%matplotlib inline"
   ]
  },
  {
   "cell_type": "markdown",
   "metadata": {
    "id": "F82c_KuNc8tk"
   },
   "source": [
    "### Aplicación de Regresión Lineal\n",
    "\n",
    "\n",
    "Ejemplo en este [link](https://scikit-learn.org/stable/auto_examples/linear_model/plot_ols.html#sphx-glr-auto-examples-linear-model-plot-ols-py)"
   ]
  },
  {
   "cell_type": "markdown",
   "metadata": {
    "id": "fCGCx9mpc8tl"
   },
   "source": [
    "En el siguiente ejemplo utilizaremos la primera característica del conjunto de datos de diabetes, de manera de implementar un modelo de regresión lineal.\n",
    "\n",
    "![Link](https://i.ibb.co/rGRWYzm/regresion1.png)"
   ]
  },
  {
   "cell_type": "code",
   "execution_count": 31,
   "metadata": {
    "executionInfo": {
     "elapsed": 10,
     "status": "ok",
     "timestamp": 1680089731457,
     "user": {
      "displayName": "Héctor Allende-Cid",
      "userId": "00621000603327740758"
     },
     "user_tz": 180
    },
    "id": "dIsJCYG3c8tl"
   },
   "outputs": [],
   "source": [
    "# Cargar el dataset de diabetes\n",
    "diabetes = datasets.load_diabetes()"
   ]
  },
  {
   "cell_type": "code",
   "execution_count": 32,
   "metadata": {
    "executionInfo": {
     "elapsed": 9,
     "status": "ok",
     "timestamp": 1680089731457,
     "user": {
      "displayName": "Héctor Allende-Cid",
      "userId": "00621000603327740758"
     },
     "user_tz": 180
    },
    "id": "gG3-u50TdX-g"
   },
   "outputs": [],
   "source": [
    "# Utilizar una característica\n",
    "diabetes_X = diabetes.data[:, np.newaxis, 2]"
   ]
  },
  {
   "cell_type": "code",
   "execution_count": 33,
   "metadata": {
    "executionInfo": {
     "elapsed": 9,
     "status": "ok",
     "timestamp": 1680089731457,
     "user": {
      "displayName": "Héctor Allende-Cid",
      "userId": "00621000603327740758"
     },
     "user_tz": 180
    },
    "id": "y9Xg3Khgc8tm"
   },
   "outputs": [],
   "source": [
    "# Dividir los datos en conjuntos de training/testing\n",
    "diabetes_X_train = diabetes_X[:-20]\n",
    "diabetes_X_test = diabetes_X[-20:]\n",
    "\n",
    "# Dividir las salidas en conjuntos de training/testing\n",
    "diabetes_y_train = diabetes.target[:-20]\n",
    "diabetes_y_test = diabetes.target[-20:]"
   ]
  },
  {
   "cell_type": "code",
   "execution_count": 34,
   "metadata": {
    "executionInfo": {
     "elapsed": 9,
     "status": "ok",
     "timestamp": 1680089731457,
     "user": {
      "displayName": "Héctor Allende-Cid",
      "userId": "00621000603327740758"
     },
     "user_tz": 180
    },
    "id": "Gk_xKalYc8tn"
   },
   "outputs": [],
   "source": [
    "# Crear la Regresión Lineal\n",
    "regr = linear_model.LinearRegression()"
   ]
  },
  {
   "cell_type": "code",
   "execution_count": 35,
   "metadata": {
    "colab": {
     "base_uri": "https://localhost:8080/",
     "height": 94
    },
    "executionInfo": {
     "elapsed": 9,
     "status": "ok",
     "timestamp": 1680089731457,
     "user": {
      "displayName": "Héctor Allende-Cid",
      "userId": "00621000603327740758"
     },
     "user_tz": 180
    },
    "id": "jhO6iZusc8tn",
    "outputId": "74c43c43-94c9-4a57-b585-4a80cf81494a"
   },
   "outputs": [
    {
     "data": {
      "text/html": [
       "<style>#sk-container-id-1 {color: black;background-color: white;}#sk-container-id-1 pre{padding: 0;}#sk-container-id-1 div.sk-toggleable {background-color: white;}#sk-container-id-1 label.sk-toggleable__label {cursor: pointer;display: block;width: 100%;margin-bottom: 0;padding: 0.3em;box-sizing: border-box;text-align: center;}#sk-container-id-1 label.sk-toggleable__label-arrow:before {content: \"▸\";float: left;margin-right: 0.25em;color: #696969;}#sk-container-id-1 label.sk-toggleable__label-arrow:hover:before {color: black;}#sk-container-id-1 div.sk-estimator:hover label.sk-toggleable__label-arrow:before {color: black;}#sk-container-id-1 div.sk-toggleable__content {max-height: 0;max-width: 0;overflow: hidden;text-align: left;background-color: #f0f8ff;}#sk-container-id-1 div.sk-toggleable__content pre {margin: 0.2em;color: black;border-radius: 0.25em;background-color: #f0f8ff;}#sk-container-id-1 input.sk-toggleable__control:checked~div.sk-toggleable__content {max-height: 200px;max-width: 100%;overflow: auto;}#sk-container-id-1 input.sk-toggleable__control:checked~label.sk-toggleable__label-arrow:before {content: \"▾\";}#sk-container-id-1 div.sk-estimator input.sk-toggleable__control:checked~label.sk-toggleable__label {background-color: #d4ebff;}#sk-container-id-1 div.sk-label input.sk-toggleable__control:checked~label.sk-toggleable__label {background-color: #d4ebff;}#sk-container-id-1 input.sk-hidden--visually {border: 0;clip: rect(1px 1px 1px 1px);clip: rect(1px, 1px, 1px, 1px);height: 1px;margin: -1px;overflow: hidden;padding: 0;position: absolute;width: 1px;}#sk-container-id-1 div.sk-estimator {font-family: monospace;background-color: #f0f8ff;border: 1px dotted black;border-radius: 0.25em;box-sizing: border-box;margin-bottom: 0.5em;}#sk-container-id-1 div.sk-estimator:hover {background-color: #d4ebff;}#sk-container-id-1 div.sk-parallel-item::after {content: \"\";width: 100%;border-bottom: 1px solid gray;flex-grow: 1;}#sk-container-id-1 div.sk-label:hover label.sk-toggleable__label {background-color: #d4ebff;}#sk-container-id-1 div.sk-serial::before {content: \"\";position: absolute;border-left: 1px solid gray;box-sizing: border-box;top: 0;bottom: 0;left: 50%;z-index: 0;}#sk-container-id-1 div.sk-serial {display: flex;flex-direction: column;align-items: center;background-color: white;padding-right: 0.2em;padding-left: 0.2em;position: relative;}#sk-container-id-1 div.sk-item {position: relative;z-index: 1;}#sk-container-id-1 div.sk-parallel {display: flex;align-items: stretch;justify-content: center;background-color: white;position: relative;}#sk-container-id-1 div.sk-item::before, #sk-container-id-1 div.sk-parallel-item::before {content: \"\";position: absolute;border-left: 1px solid gray;box-sizing: border-box;top: 0;bottom: 0;left: 50%;z-index: -1;}#sk-container-id-1 div.sk-parallel-item {display: flex;flex-direction: column;z-index: 1;position: relative;background-color: white;}#sk-container-id-1 div.sk-parallel-item:first-child::after {align-self: flex-end;width: 50%;}#sk-container-id-1 div.sk-parallel-item:last-child::after {align-self: flex-start;width: 50%;}#sk-container-id-1 div.sk-parallel-item:only-child::after {width: 0;}#sk-container-id-1 div.sk-dashed-wrapped {border: 1px dashed gray;margin: 0 0.4em 0.5em 0.4em;box-sizing: border-box;padding-bottom: 0.4em;background-color: white;}#sk-container-id-1 div.sk-label label {font-family: monospace;font-weight: bold;display: inline-block;line-height: 1.2em;}#sk-container-id-1 div.sk-label-container {text-align: center;}#sk-container-id-1 div.sk-container {/* jupyter's `normalize.less` sets `[hidden] { display: none; }` but bootstrap.min.css set `[hidden] { display: none !important; }` so we also need the `!important` here to be able to override the default hidden behavior on the sphinx rendered scikit-learn.org. See: https://github.com/scikit-learn/scikit-learn/issues/21755 */display: inline-block !important;position: relative;}#sk-container-id-1 div.sk-text-repr-fallback {display: none;}</style><div id=\"sk-container-id-1\" class=\"sk-top-container\"><div class=\"sk-text-repr-fallback\"><pre>LinearRegression()</pre><b>In a Jupyter environment, please rerun this cell to show the HTML representation or trust the notebook. <br />On GitHub, the HTML representation is unable to render, please try loading this page with nbviewer.org.</b></div><div class=\"sk-container\" hidden><div class=\"sk-item\"><div class=\"sk-estimator sk-toggleable\"><input class=\"sk-toggleable__control sk-hidden--visually\" id=\"sk-estimator-id-1\" type=\"checkbox\" checked><label for=\"sk-estimator-id-1\" class=\"sk-toggleable__label sk-toggleable__label-arrow\">LinearRegression</label><div class=\"sk-toggleable__content\"><pre>LinearRegression()</pre></div></div></div></div></div>"
      ],
      "text/plain": [
       "LinearRegression()"
      ]
     },
     "execution_count": 35,
     "metadata": {},
     "output_type": "execute_result"
    }
   ],
   "source": [
    "# Entrenar el modelo usando los datos de entrenamiento (training)\n",
    "regr.fit(diabetes_X_train, diabetes_y_train)"
   ]
  },
  {
   "cell_type": "code",
   "execution_count": 38,
   "metadata": {},
   "outputs": [
    {
     "data": {
      "text/plain": [
       "(422, 1)"
      ]
     },
     "execution_count": 38,
     "metadata": {},
     "output_type": "execute_result"
    }
   ],
   "source": [
    "diabetes_X_train.shape"
   ]
  },
  {
   "cell_type": "code",
   "execution_count": 36,
   "metadata": {
    "executionInfo": {
     "elapsed": 9,
     "status": "ok",
     "timestamp": 1680089731458,
     "user": {
      "displayName": "Héctor Allende-Cid",
      "userId": "00621000603327740758"
     },
     "user_tz": 180
    },
    "id": "WjPWWspec8to"
   },
   "outputs": [],
   "source": [
    "# Predecir usando el conjunto de test\n",
    "diabetes_y_pred = regr.predict(diabetes_X_test)"
   ]
  },
  {
   "cell_type": "code",
   "execution_count": 8,
   "metadata": {
    "colab": {
     "base_uri": "https://localhost:8080/",
     "height": 321
    },
    "executionInfo": {
     "elapsed": 9,
     "status": "ok",
     "timestamp": 1680089731458,
     "user": {
      "displayName": "Héctor Allende-Cid",
      "userId": "00621000603327740758"
     },
     "user_tz": 180
    },
    "id": "QAtvm-Ztc8to",
    "outputId": "7da37b20-cff8-434f-a85c-90ec4ccfa40f"
   },
   "outputs": [
    {
     "name": "stdout",
     "output_type": "stream",
     "text": [
      "w = [938.23786125], b = 152.91886182616113\n",
      "Mean squared error (MSE): 2548.07\n",
      "Variance score: 0.47\n"
     ]
    },
    {
     "data": {
      "image/png": "[encoded data removed]",
      "text/plain": [
       "<Figure size 432x288 with 1 Axes>"
      ]
     },
     "metadata": {},
     "output_type": "display_data"
    }
   ],
   "source": [
    "# Coeficientes\n",
    "print('w = ' + str(regr.coef_) + ', b = ' + str(regr.intercept_))\n",
    "# Error Cuadrático Medio\n",
    "print(\"Mean squared error (MSE): %.2f\"\n",
    "      % mean_squared_error(diabetes_y_test, diabetes_y_pred))\n",
    "# Score de Varianza: 1 es predicción perfecta\n",
    "print('Variance score: %.2f' % r2_score(diabetes_y_test, diabetes_y_pred))\n",
    "\n",
    "# Gráfico de salidas\n",
    "plt.scatter(diabetes_X_train, diabetes_y_train,  color='green')\n",
    "plt.scatter(diabetes_X_test, diabetes_y_test,  color='black')\n",
    "plt.plot(diabetes_X_test, diabetes_y_pred, color='blue', linewidth=3)\n",
    "\n",
    "plt.xticks(())\n",
    "plt.yticks(())\n",
    "\n",
    "plt.show()"
   ]
  },
  {
   "cell_type": "markdown",
   "metadata": {
    "id": "LCZQqJWDVZrp"
   },
   "source": [
    "## <font color='green'>Actividad 1</font>\n",
    "\n",
    "Utilizaremos el dataset longley, el cual es ideal para realizar regresiones. El conjunto de datos de Longley contiene varias variables macroeconómicas de USA. Que se sabe que son altamente colineales.\n",
    "\n",
    "1. Implementar un modelo de regresión lineal entre el producto interno bruto (GNP) y el número total de gente empleada (Employed).\n",
    "2. Calcule las métricas del modelo: MSE, RMSE y R2.\n",
    "2. Graficar los datos utilizados y el resultado de la regresión lineal."
   ]
  },
  {
   "cell_type": "code",
   "execution_count": 12,
   "metadata": {
    "colab": {
     "base_uri": "https://localhost:8080/",
     "height": 270
    },
    "executionInfo": {
     "elapsed": 505,
     "status": "ok",
     "timestamp": 1680089731959,
     "user": {
      "displayName": "Héctor Allende-Cid",
      "userId": "00621000603327740758"
     },
     "user_tz": 180
    },
    "id": "godi56Q7W5f7",
    "outputId": "fdfbe55d-8218-43c0-eef6-b2098674dbd9"
   },
   "outputs": [
    {
     "data": {
      "text/html": [
       "<div>\n",
       "<style scoped>\n",
       "    .dataframe tbody tr th:only-of-type {\n",
       "        vertical-align: middle;\n",
       "    }\n",
       "\n",
       "    .dataframe tbody tr th {\n",
       "        vertical-align: top;\n",
       "    }\n",
       "\n",
       "    .dataframe thead th {\n",
       "        text-align: right;\n",
       "    }\n",
       "</style>\n",
       "<table border=\"1\" class=\"dataframe\">\n",
       "  <thead>\n",
       "    <tr style=\"text-align: right;\">\n",
       "      <th></th>\n",
       "      <th>GNP.deflator</th>\n",
       "      <th>GNP</th>\n",
       "      <th>Unemployed</th>\n",
       "      <th>Armed.Forces</th>\n",
       "      <th>Population</th>\n",
       "      <th>Year</th>\n",
       "      <th>Employed</th>\n",
       "    </tr>\n",
       "  </thead>\n",
       "  <tbody>\n",
       "    <tr>\n",
       "      <th>1947</th>\n",
       "      <td>83.0</td>\n",
       "      <td>234.289</td>\n",
       "      <td>235.6</td>\n",
       "      <td>159.0</td>\n",
       "      <td>107.608</td>\n",
       "      <td>1947</td>\n",
       "      <td>60.323</td>\n",
       "    </tr>\n",
       "    <tr>\n",
       "      <th>1948</th>\n",
       "      <td>88.5</td>\n",
       "      <td>259.426</td>\n",
       "      <td>232.5</td>\n",
       "      <td>145.6</td>\n",
       "      <td>108.632</td>\n",
       "      <td>1948</td>\n",
       "      <td>61.122</td>\n",
       "    </tr>\n",
       "    <tr>\n",
       "      <th>1949</th>\n",
       "      <td>88.2</td>\n",
       "      <td>258.054</td>\n",
       "      <td>368.2</td>\n",
       "      <td>161.6</td>\n",
       "      <td>109.773</td>\n",
       "      <td>1949</td>\n",
       "      <td>60.171</td>\n",
       "    </tr>\n",
       "    <tr>\n",
       "      <th>1950</th>\n",
       "      <td>89.5</td>\n",
       "      <td>284.599</td>\n",
       "      <td>335.1</td>\n",
       "      <td>165.0</td>\n",
       "      <td>110.929</td>\n",
       "      <td>1950</td>\n",
       "      <td>61.187</td>\n",
       "    </tr>\n",
       "    <tr>\n",
       "      <th>1951</th>\n",
       "      <td>96.2</td>\n",
       "      <td>328.975</td>\n",
       "      <td>209.9</td>\n",
       "      <td>309.9</td>\n",
       "      <td>112.075</td>\n",
       "      <td>1951</td>\n",
       "      <td>63.221</td>\n",
       "    </tr>\n",
       "  </tbody>\n",
       "</table>\n",
       "</div>"
      ],
      "text/plain": [
       "      GNP.deflator      GNP  Unemployed  Armed.Forces  Population  Year  \\\n",
       "1947          83.0  234.289       235.6         159.0     107.608  1947   \n",
       "1948          88.5  259.426       232.5         145.6     108.632  1948   \n",
       "1949          88.2  258.054       368.2         161.6     109.773  1949   \n",
       "1950          89.5  284.599       335.1         165.0     110.929  1950   \n",
       "1951          96.2  328.975       209.9         309.9     112.075  1951   \n",
       "\n",
       "      Employed  \n",
       "1947    60.323  \n",
       "1948    61.122  \n",
       "1949    60.171  \n",
       "1950    61.187  \n",
       "1951    63.221  "
      ]
     },
     "execution_count": 12,
     "metadata": {},
     "output_type": "execute_result"
    }
   ],
   "source": [
    "# importanto la api de statsmodels\n",
    "import statsmodels.formula.api as smf\n",
    "import statsmodels.api as sm\n",
    "import pandas as pd\n",
    "import numpy as np\n",
    "\n",
    "# Creando un DataFrame de pandas.\n",
    "df = pd.read_csv('https://vincentarelbundock.github.io/Rdatasets/csv/datasets/longley.csv', index_col=0)\n",
    "df.head() # longley dataset"
   ]
  },
  {
   "cell_type": "code",
   "execution_count": 72,
   "metadata": {
    "executionInfo": {
     "elapsed": 9,
     "status": "ok",
     "timestamp": 1680089731960,
     "user": {
      "displayName": "Héctor Allende-Cid",
      "userId": "00621000603327740758"
     },
     "user_tz": 180
    },
    "id": "9ZNQIrbpX7Jv"
   },
   "outputs": [],
   "source": [
    "# Solución\n",
    "from sklearn.model_selection import train_test_split\n",
    "from sklearn import datasets, linear_model\n",
    "from sklearn.metrics import mean_squared_error, r2_score\n",
    "import matplotlib.pyplot as plt\n",
    "import math\n",
    "\n",
    "# Caracteristica y target\n",
    "x = df[['GNP']]\n",
    "y = df[['Employed']]\n",
    "\n",
    "#split de train y test\n",
    "x_train , x_test, y_train , y_test = train_test_split(x , y , test_size= 0.3)\n",
    "\n",
    "#instanciar la regresion y entrenarla\n",
    "regr = linear_model.LinearRegression()\n",
    "regr.fit(x_train, y_train)\n",
    "\n",
    "#realizar las predicciones\n",
    "y_pred = regr.predict(x_test)"
   ]
  },
  {
   "cell_type": "code",
   "execution_count": 73,
   "metadata": {},
   "outputs": [
    {
     "name": "stdout",
     "output_type": "stream",
     "text": [
      "Mean squared error (MSE): 0.45\n",
      "Root-mean squared error (RMSE): 0.67\n",
      "Variance score: 0.95\n"
     ]
    },
    {
     "data": {
      "image/png": "[encoded data removed]",
      "text/plain": [
       "<Figure size 640x480 with 1 Axes>"
      ]
     },
     "metadata": {},
     "output_type": "display_data"
    }
   ],
   "source": [
    "# Error Cuadrático Medio\n",
    "print(\"Mean squared error (MSE): %.2f\"\n",
    "      % mean_squared_error(y_test, y_pred))\n",
    "\n",
    "print(\"Root-mean squared error (RMSE): %.2f\"\n",
    "      % math.sqrt(mean_squared_error(y_test, y_pred)))\n",
    "\n",
    "# Score de Varianza: 1 es predicción perfecta\n",
    "print('Variance score: %.2f' % r2_score(y_test, y_pred))\n",
    "\n",
    "# Gráfico de salidas\n",
    "plt.scatter(x_train, y_train,  color='green')\n",
    "plt.scatter(x_test, y_test,  color='black')\n",
    "plt.plot(x_test, y_pred, color='blue', linewidth=3)\n",
    "\n",
    "plt.xticks(())\n",
    "plt.yticks(())\n",
    "\n",
    "plt.show()"
   ]
  },
  {
   "cell_type": "markdown",
   "metadata": {
    "id": "oqXaRhXrvz9d"
   },
   "source": [
    "<font color='green'>Fin Actividad 1</font>"
   ]
  },
  {
   "cell_type": "markdown",
   "metadata": {
    "id": "R9kJIvE9cRn1"
   },
   "source": [
    "## <font color='blue'>**Modelo de Regresión Logística**</font>\n",
    "\n",
    "Usa un **enfoque probabilístico**.\n",
    "\n",
    "$h_{\\theta}(x)$ debería ser $p(y=1/x;\\theta)$.\n",
    "\n",
    "Modelo de regresión logística:\n",
    "\n",
    "$$h_{\\theta}(x)=g(\\theta^{T}x)$$\n",
    "$$g(z) = \\frac{1}{1+e^{-z}}$$\n",
    "$$h_{\\theta}(x) = \\frac{1}{1+e^{-\\theta^{T}x}}$$\n",
    "\n",
    "![Link](https://i.ibb.co/V3kRWhG/reglog.png)\n",
    "\n",
    "$\\theta^{T}x$ debería tener valores **negativos** grandes para instancias negativas y valores **positivos** grandes para instancias positivas.\n",
    "\n",
    "Definir un umbral:\n",
    "\n",
    "* Predecir $y=1$ si $h_{\\theta}(x) \t\\geq0.5$\n",
    "* Predecir $y=0$ si $h_{\\theta}(x) \t< 0.5$\n",
    "\n",
    "![Link](https://i.ibb.co/WWLprKq/reglog2.png)"
   ]
  },
  {
   "cell_type": "markdown",
   "metadata": {
    "id": "4OIxYeH2jO4y"
   },
   "source": [
    "### Aplicación de Regresión Logística\n",
    "\n",
    "\n",
    "Ejemplo basado en este [link](https://scikit-learn.org/stable/auto_examples/linear_model/plot_iris_logistic.html)."
   ]
  },
  {
   "cell_type": "markdown",
   "metadata": {
    "id": "1P4VYlfzjJRT"
   },
   "source": [
    "Definiremos los límites de decisión de un clasificador de regresión logística para las dos primeras dimensiones (longitud y ancho del sépalo) del conjunto de datos de la flor de iris. Los puntos de datos están coloreados de acuerdo con sus etiquetas.\n",
    "\n",
    "![Link](https://i.ibb.co/pL5RVNR/reglog3.png)"
   ]
  },
  {
   "cell_type": "code",
   "execution_count": 1,
   "metadata": {
    "executionInfo": {
     "elapsed": 9,
     "status": "ok",
     "timestamp": 1680089731960,
     "user": {
      "displayName": "Héctor Allende-Cid",
      "userId": "00621000603327740758"
     },
     "user_tz": 180
    },
    "id": "otTy8-LAi0vS"
   },
   "outputs": [],
   "source": [
    "import warnings\n",
    "warnings.filterwarnings('ignore')"
   ]
  },
  {
   "cell_type": "code",
   "execution_count": 2,
   "metadata": {
    "executionInfo": {
     "elapsed": 8,
     "status": "ok",
     "timestamp": 1680089731960,
     "user": {
      "displayName": "Héctor Allende-Cid",
      "userId": "00621000603327740758"
     },
     "user_tz": 180
    },
    "id": "cRzg-mZVindl"
   },
   "outputs": [],
   "source": [
    "import numpy as np\n",
    "import matplotlib.pyplot as plt\n",
    "from sklearn.linear_model import LogisticRegression\n",
    "from sklearn import datasets"
   ]
  },
  {
   "cell_type": "code",
   "execution_count": 3,
   "metadata": {
    "executionInfo": {
     "elapsed": 8,
     "status": "ok",
     "timestamp": 1680089731960,
     "user": {
      "displayName": "Héctor Allende-Cid",
      "userId": "00621000603327740758"
     },
     "user_tz": 180
    },
    "id": "rO4kkzGjkG2B"
   },
   "outputs": [],
   "source": [
    "# importar la data de la flor iris\n",
    "iris = datasets.load_iris()"
   ]
  },
  {
   "cell_type": "code",
   "execution_count": 19,
   "metadata": {
    "executionInfo": {
     "elapsed": 8,
     "status": "ok",
     "timestamp": 1680089731960,
     "user": {
      "displayName": "Héctor Allende-Cid",
      "userId": "00621000603327740758"
     },
     "user_tz": 180
    },
    "id": "Q6DO1sWikNQF"
   },
   "outputs": [],
   "source": [
    "X = iris.data[:, :2]  # seleccionar las 2 primeras características.\n",
    "y = iris.target\n",
    "X = X[y<2]            # usaremos solo 2 clases\n",
    "y = y[y<2]            # usaremos solo 2 clases"
   ]
  },
  {
   "cell_type": "code",
   "execution_count": 5,
   "metadata": {
    "executionInfo": {
     "elapsed": 8,
     "status": "ok",
     "timestamp": 1680089731961,
     "user": {
      "displayName": "Héctor Allende-Cid",
      "userId": "00621000603327740758"
     },
     "user_tz": 180
    },
    "id": "zfKFIq8bkZM1"
   },
   "outputs": [],
   "source": [
    "def plot_decision_boundary(X, y, regression):\n",
    "    # Gráfico de los límites de decisión. Para eso, asignaremos un color a cada\n",
    "    # punto en la malla [x_min, x_max]x[y_min, y_max].\n",
    "    x_min, x_max = X[:, 0].min() - .5, X[:, 0].max() + .5\n",
    "    y_min, y_max = X[:, 1].min() - .5, X[:, 1].max() + .5\n",
    "    h = .02  # tamaño de paso en la malla\n",
    "    xx, yy = np.meshgrid(np.arange(x_min, x_max, h), np.arange(y_min, y_max, h))\n",
    "    Z = regression.predict(np.c_[xx.ravel(), yy.ravel()])\n",
    "\n",
    "    # Poner el resultado en un gráfico de color\n",
    "    Z = Z.reshape(xx.shape)\n",
    "    plt.figure(1, figsize=(4, 3))\n",
    "    plt.pcolormesh(xx, yy, Z, cmap=plt.cm.Paired)\n",
    "\n",
    "    # Plotear los puntos de entrenamiento\n",
    "    plt.scatter(X[:, 0], X[:, 1], c=y, edgecolors='k', cmap=plt.cm.Paired)\n",
    "    plt.xlabel('Sepal length')\n",
    "    plt.ylabel('Sepal width')\n",
    "\n",
    "    plt.xlim(xx.min(), xx.max())\n",
    "    plt.ylim(yy.min(), yy.max())\n",
    "    plt.xticks(())\n",
    "    plt.yticks(())\n",
    "\n",
    "    plt.show()"
   ]
  },
  {
   "cell_type": "code",
   "execution_count": 20,
   "metadata": {
    "colab": {
     "base_uri": "https://localhost:8080/",
     "height": 229
    },
    "executionInfo": {
     "elapsed": 8,
     "status": "ok",
     "timestamp": 1680089731961,
     "user": {
      "displayName": "Héctor Allende-Cid",
      "userId": "00621000603327740758"
     },
     "user_tz": 180
    },
    "id": "dqI0O955lZMp",
    "outputId": "28b5ef8d-4660-4690-c0b2-9106201fd979"
   },
   "outputs": [
    {
     "data": {
      "image/png": "[encoded data removed]",
      "text/plain": [
       "<Figure size 400x300 with 1 Axes>"
      ]
     },
     "metadata": {},
     "output_type": "display_data"
    }
   ],
   "source": [
    "# crear una instancia de clasificador de regresión logística\n",
    "logreg = LogisticRegression(C=1e+3, solver='lbfgs', max_iter=2).fit(X, y)\n",
    "plot_decision_boundary(X, y, logreg)"
   ]
  },
  {
   "cell_type": "markdown",
   "metadata": {
    "id": "C4AndA1qmYwt"
   },
   "source": [
    "## <font color='green'>Actividad 2</font>\n",
    "\n",
    "1. Utilizando el modelo de regresión logística anterior, varíe los parámetros del modelo y vea los efectos sobre los límites de clasificación.\n",
    "2. Aplique el modelo sobre las mismas 2 características usadas anteriomente, pero utilice las 3 clases que existen para la flor de iris."
   ]
  },
  {
   "cell_type": "code",
   "execution_count": 21,
   "metadata": {
    "executionInfo": {
     "elapsed": 7,
     "status": "ok",
     "timestamp": 1680089731961,
     "user": {
      "displayName": "Héctor Allende-Cid",
      "userId": "00621000603327740758"
     },
     "user_tz": 180
    },
    "id": "MVGENpwLmWI7"
   },
   "outputs": [
    {
     "data": {
      "image/png": "[encoded data removed]",
      "text/plain": [
       "<Figure size 400x300 with 1 Axes>"
      ]
     },
     "metadata": {},
     "output_type": "display_data"
    },
    {
     "data": {
      "image/png": "[encoded data removed]",
      "text/plain": [
       "<Figure size 400x300 with 1 Axes>"
      ]
     },
     "metadata": {},
     "output_type": "display_data"
    }
   ],
   "source": [
    "# Solución\n",
    "# 1.\n",
    "logreg = LogisticRegression(C=1e+3, solver='lbfgs', max_iter=7).fit(X, y)\n",
    "plot_decision_boundary(X, y, logreg)\n",
    "\n",
    "logreg = LogisticRegression(C=1e+3, solver='liblinear', max_iter=7).fit(X, y)\n",
    "plot_decision_boundary(X, y, logreg)\n",
    "\n",
    "## Aumentar las iteraciones permite una mejor separacion de los datos,\n",
    "## al igual que cambiar el solver a liblinear que funciona mejor con datasets pequeños\n",
    "\n"
   ]
  },
  {
   "cell_type": "code",
   "execution_count": 28,
   "metadata": {},
   "outputs": [
    {
     "data": {
      "image/png": "[encoded data removed]",
      "text/plain": [
       "<Figure size 400x300 with 1 Axes>"
      ]
     },
     "metadata": {},
     "output_type": "display_data"
    }
   ],
   "source": [
    "# 2.\n",
    "\n",
    "X = iris.data[:, :2]  # seleccionar las 2 primeras características.\n",
    "y = iris.target\n",
    "\n",
    "logreg = LogisticRegression(C=1e+3, solver='liblinear', max_iter=10).fit(X, y)\n",
    "plot_decision_boundary(X, y, logreg)\n",
    "\n"
   ]
  },
  {
   "cell_type": "markdown",
   "metadata": {
    "id": "6meHOT0zvv88"
   },
   "source": [
    "<font color='green'>Fin Actividad 2</font>"
   ]
  },
  {
   "cell_type": "markdown",
   "metadata": {
    "id": "QIj_br7jm5o6"
   },
   "source": [
    "## <font color='blue'>**Naive Bayes**</font>\n",
    "\n",
    "Es un clasificador basado en el teorema de Bayes, con una asunción “naive” sobre los datos. Es muy sencillo de programar y entender.\n",
    "\n",
    "Sirve mucho como baseline y, aunque simplista, puede tener resultados que sobrepasan a algoritmos mucho más complejos. Es rápido de entrenar y funciona con datos de mucha dimensionalidad, por ejemplo es muy útil a la hora de clasificar documentos.\n",
    "\n",
    "El algoritmo de “Naive Bayes”  está fuertemente ligado al teorema de Bayes.\n",
    "El Teorema de Bayes establece:\n",
    "\n",
    "$$P(A\\mid B)=\\frac{P(B\\mid A)P(A)}{P(B)}$$\n",
    "\n",
    "El teorema establece que se puede encontrar la probabilidad de **A** (una clase objetivo) dada la ocurrencia de **B** (un conjunto de características). Es decir, **B** es la evidencia y **A** es la hipótesis.\n",
    "\n",
    "Bajo el teorema de Bayes, el principal supuesto es que **los atributos son independientes entre sí**\n",
    ". \n",
    "La presencia de un feature no afecta a los otros. Este supuesto es “naive” (ingenuo), por eso el nombre del algoritmo. Un segundo supuesto, es que todos los atributos tienen el mismo efecto en la salida del algoritmo.\n",
    "\n",
    "En base a lo establecido, se puede utilizar el teorema de Bayes para calcular la probabilidad de una clase $y$ de la siguiente manera:\n",
    "\n",
    "$$P(y\\mid X)=\\frac{P(X\\mid y)P(y)}{P(X)}$$\n",
    "\n",
    "donde $y$ representa la clase y $X$ representa el vector de características $X=(x_{1}, x_{2},x_{3},...,x_{n})$\n",
    "\n",
    "Reemplanzando $X$ en la ecuación nos queda:\n",
    "\n",
    "$$P(y\\mid x_{1}, x_{2},x_{3},...,x_{n})=\\frac{P(x_{1}\\mid y)P(x_{2}\\mid y)...P(x_{n}\\mid y)P(y)}{P(x_{1})P(x_{2})...P(x_{n})}$$\n",
    "\n",
    "$$P(y\\mid x_{1}, x_{2},x_{3},...,x_{n}) \\alpha P(y)\\prod_{i=1}^{n}P(x_{i}\\mid y)$$\n",
    "\n",
    "**Tipos de Algoritmos**\n",
    "\n",
    "* **Bernoulli Naive Bayes**: Para casos donde los atributos son variables binarias, por ejemplo si una palabra ocurre o no en un documento.\n",
    "\n",
    "* **Multinomial Naive Bayes**: Para casos donde los atributos representan frecuencias, por ejemplo la cantidad de veces que una palabra ocurre en un documento.\n",
    "\n",
    "* **Gaussian Naive Bayes**: Para casos donde los atributos toman valores continuos, se asume que los valores son muestras de una distribución gaussiana. Esto se usa para calcular las probabilidades condicionales en el algoritmo."
   ]
  },
  {
   "cell_type": "markdown",
   "metadata": {
    "id": "fGLkKG9IrT8t"
   },
   "source": [
    "### Aplicación de Naive Bayes"
   ]
  },
  {
   "cell_type": "code",
   "execution_count": 18,
   "metadata": {
    "colab": {
     "base_uri": "https://localhost:8080/"
    },
    "executionInfo": {
     "elapsed": 2430,
     "status": "ok",
     "timestamp": 1680089734384,
     "user": {
      "displayName": "Héctor Allende-Cid",
      "userId": "00621000603327740758"
     },
     "user_tz": 180
    },
    "id": "LPeaIQIGsBfI",
    "outputId": "7d43ce49-ee1e-4fb5-8db4-b09031742ea3"
   },
   "outputs": [
    {
     "name": "stdout",
     "output_type": "stream",
     "text": [
      "Drive already mounted at /content/drive; to attempt to forcibly remount, call drive.mount(\"/content/drive\", force_remount=True).\n"
     ]
    }
   ],
   "source": [
    "from google.colab import drive\n",
    "drive.mount('/content/drive')"
   ]
  },
  {
   "cell_type": "code",
   "execution_count": 19,
   "metadata": {
    "executionInfo": {
     "elapsed": 5,
     "status": "ok",
     "timestamp": 1680089734384,
     "user": {
      "displayName": "Héctor Allende-Cid",
      "userId": "00621000603327740758"
     },
     "user_tz": 180
    },
    "id": "rdNo2VGqq7Ob"
   },
   "outputs": [],
   "source": [
    "import warnings\n",
    "warnings.filterwarnings(\"ignore\")"
   ]
  },
  {
   "cell_type": "code",
   "execution_count": 20,
   "metadata": {
    "executionInfo": {
     "elapsed": 4,
     "status": "ok",
     "timestamp": 1680089734385,
     "user": {
      "displayName": "Héctor Allende-Cid",
      "userId": "00621000603327740758"
     },
     "user_tz": 180
    },
    "id": "0N2WgYr-rZql"
   },
   "outputs": [],
   "source": [
    "import numpy as np\n",
    "import pandas as pd\n",
    "\n",
    "from sklearn.feature_extraction.text import CountVectorizer\n",
    "from sklearn.metrics import classification_report\n",
    "from sklearn.naive_bayes import MultinomialNB\n",
    "from sklearn.model_selection import train_test_split"
   ]
  },
  {
   "cell_type": "code",
   "execution_count": 40,
   "metadata": {
    "colab": {
     "base_uri": "https://localhost:8080/",
     "height": 226
    },
    "executionInfo": {
     "elapsed": 444,
     "status": "ok",
     "timestamp": 1680089734825,
     "user": {
      "displayName": "Héctor Allende-Cid",
      "userId": "00621000603327740758"
     },
     "user_tz": 180
    },
    "id": "bELaCewGr_Sg",
    "outputId": "5597b5a6-8906-4021-ba56-8aa1b6d6c37a"
   },
   "outputs": [
    {
     "data": {
      "text/html": [
       "<div>\n",
       "<style scoped>\n",
       "    .dataframe tbody tr th:only-of-type {\n",
       "        vertical-align: middle;\n",
       "    }\n",
       "\n",
       "    .dataframe tbody tr th {\n",
       "        vertical-align: top;\n",
       "    }\n",
       "\n",
       "    .dataframe thead th {\n",
       "        text-align: right;\n",
       "    }\n",
       "</style>\n",
       "<table border=\"1\" class=\"dataframe\">\n",
       "  <thead>\n",
       "    <tr style=\"text-align: right;\">\n",
       "      <th></th>\n",
       "      <th>target</th>\n",
       "      <th>text</th>\n",
       "    </tr>\n",
       "  </thead>\n",
       "  <tbody>\n",
       "    <tr>\n",
       "      <th>0</th>\n",
       "      <td>ham</td>\n",
       "      <td>Go until jurong point, crazy.. Available only ...</td>\n",
       "    </tr>\n",
       "    <tr>\n",
       "      <th>1</th>\n",
       "      <td>ham</td>\n",
       "      <td>Ok lar... Joking wif u oni...</td>\n",
       "    </tr>\n",
       "    <tr>\n",
       "      <th>2</th>\n",
       "      <td>spam</td>\n",
       "      <td>Free entry in 2 a wkly comp to win FA Cup fina...</td>\n",
       "    </tr>\n",
       "    <tr>\n",
       "      <th>3</th>\n",
       "      <td>ham</td>\n",
       "      <td>U dun say so early hor... U c already then say...</td>\n",
       "    </tr>\n",
       "    <tr>\n",
       "      <th>4</th>\n",
       "      <td>ham</td>\n",
       "      <td>Nah I don't think he goes to usf, he lives aro...</td>\n",
       "    </tr>\n",
       "  </tbody>\n",
       "</table>\n",
       "</div>"
      ],
      "text/plain": [
       "  target                                               text\n",
       "0    ham  Go until jurong point, crazy.. Available only ...\n",
       "1    ham                      Ok lar... Joking wif u oni...\n",
       "2   spam  Free entry in 2 a wkly comp to win FA Cup fina...\n",
       "3    ham  U dun say so early hor... U c already then say...\n",
       "4    ham  Nah I don't think he goes to usf, he lives aro..."
      ]
     },
     "execution_count": 40,
     "metadata": {},
     "output_type": "execute_result"
    }
   ],
   "source": [
    "dataset = pd.read_table(\"spam_or_ham.txt\", header=None, names=[\"target\", \"text\"])\n",
    "dataset.head()"
   ]
  },
  {
   "cell_type": "code",
   "execution_count": 41,
   "metadata": {
    "executionInfo": {
     "elapsed": 5,
     "status": "ok",
     "timestamp": 1680089734825,
     "user": {
      "displayName": "Héctor Allende-Cid",
      "userId": "00621000603327740758"
     },
     "user_tz": 180
    },
    "id": "sOG4trr0sorD"
   },
   "outputs": [],
   "source": [
    "vectorized_data = CountVectorizer().fit_transform(dataset[\"text\"])"
   ]
  },
  {
   "cell_type": "code",
   "execution_count": 42,
   "metadata": {
    "executionInfo": {
     "elapsed": 5,
     "status": "ok",
     "timestamp": 1680089734825,
     "user": {
      "displayName": "Héctor Allende-Cid",
      "userId": "00621000603327740758"
     },
     "user_tz": 180
    },
    "id": "_m6Mv-6lsyOC"
   },
   "outputs": [],
   "source": [
    "X_train, X_test, y_train, y_test = train_test_split(vectorized_data, dataset.target, test_size=0.2)"
   ]
  },
  {
   "cell_type": "code",
   "execution_count": 43,
   "metadata": {
    "executionInfo": {
     "elapsed": 754,
     "status": "ok",
     "timestamp": 1680089735575,
     "user": {
      "displayName": "Héctor Allende-Cid",
      "userId": "00621000603327740758"
     },
     "user_tz": 180
    },
    "id": "KKXaDsE_s0HA"
   },
   "outputs": [],
   "source": [
    "clf = MultinomialNB().fit(X_train, y_train)"
   ]
  },
  {
   "cell_type": "code",
   "execution_count": 44,
   "metadata": {
    "colab": {
     "base_uri": "https://localhost:8080/"
    },
    "executionInfo": {
     "elapsed": 5,
     "status": "ok",
     "timestamp": 1680089735576,
     "user": {
      "displayName": "Héctor Allende-Cid",
      "userId": "00621000603327740758"
     },
     "user_tz": 180
    },
    "id": "xgZGcG1ds2J3",
    "outputId": "3a80ea06-5871-4c17-d695-94f8cf7b6a73"
   },
   "outputs": [
    {
     "name": "stdout",
     "output_type": "stream",
     "text": [
      "              precision    recall  f1-score   support\n",
      "\n",
      "         ham       0.99      0.98      0.99       962\n",
      "        spam       0.91      0.95      0.93       153\n",
      "\n",
      "    accuracy                           0.98      1115\n",
      "   macro avg       0.95      0.97      0.96      1115\n",
      "weighted avg       0.98      0.98      0.98      1115\n",
      "\n"
     ]
    }
   ],
   "source": [
    "print(classification_report(y_test, clf.predict(X_test)))"
   ]
  },
  {
   "cell_type": "markdown",
   "metadata": {
    "id": "ogbu6JfBuhut"
   },
   "source": [
    "## <font color='green'>Actividad 3</font>\n",
    "\n",
    "Utilizando el conjunto de datos de la flor de iris, implementar un modelo de Gaussian Naive Bayes para clasificar los datos en cada una de las 3 especies de la flor de iris.\n",
    "\n",
    "1. Implemente el modelo de GNB\n",
    "2. Cálcule las métricas del modelo y la matriz de confusión\n"
   ]
  },
  {
   "cell_type": "code",
   "execution_count": 52,
   "metadata": {},
   "outputs": [
    {
     "name": "stdout",
     "output_type": "stream",
     "text": [
      "              precision    recall  f1-score   support\n",
      "\n",
      "           0       1.00      1.00      1.00        12\n",
      "           1       0.71      1.00      0.83         5\n",
      "           2       1.00      0.85      0.92        13\n",
      "\n",
      "    accuracy                           0.93        30\n",
      "   macro avg       0.90      0.95      0.92        30\n",
      "weighted avg       0.95      0.93      0.94        30\n",
      "\n",
      "Mean squared error (MSE): 0.07\n",
      "Root-mean squared error (RMSE): 0.26\n",
      "Variance score: 0.92\n"
     ]
    }
   ],
   "source": [
    "import numpy as np\n",
    "import pandas as pd\n",
    "import math\n",
    "\n",
    "from sklearn.feature_extraction.text import CountVectorizer\n",
    "from sklearn.metrics import classification_report, mean_squared_error, r2_score\n",
    "from sklearn.naive_bayes import GaussianNB\n",
    "from sklearn.model_selection import train_test_split\n",
    "\n",
    "iris = datasets.load_iris()\n",
    "\n",
    "X = iris.data \n",
    "y = iris.target\n",
    "\n",
    "X_train, X_test, y_train, y_test = train_test_split(X, y, test_size=0.2)\n",
    "\n",
    "clf = GaussianNB().fit(X_train, y_train)\n",
    "\n",
    "print(classification_report(y_test, clf.predict(X_test)))\n",
    "\n",
    "#realizar las predicciones\n",
    "y_pred = clf.predict(X_test)\n",
    "\n",
    "# Error Cuadrático Medio\n",
    "print(\"Mean squared error (MSE): %.2f\"\n",
    "      % mean_squared_error(y_test, y_pred))\n",
    "\n",
    "print(\"Root-mean squared error (RMSE): %.2f\"\n",
    "      % math.sqrt(mean_squared_error(y_test, y_pred)))\n",
    "\n",
    "# Score de Varianza: 1 es predicción perfecta\n",
    "print('Variance score: %.2f' % r2_score(y_test, y_pred))\n",
    "\n",
    "\n",
    "# Debido a la poca cantidad de datos la clasificacion dependera de como se realice el split"
   ]
  },
  {
   "cell_type": "markdown",
   "metadata": {
    "id": "upCQCz72vnp-"
   },
   "source": [
    "<font color='green'>Fin Actividad 3</font>"
   ]
  },
  {
   "cell_type": "markdown",
   "metadata": {
    "id": "1VsqtqEJv5E8"
   },
   "source": [
    "## <font color='blue'>**Redes Neuronales**</font>\n",
    "\n",
    "Una red neuronal es \"un sistema para el tratamiento de la información, cuya unidad básica de procesamiento está inspirada en la célula fundamental del sistema nervioso humano: **la neurona**\".\n",
    "\n",
    "Las neuronas son un componente relativamente simple pero conectadas de a miles forman un poderoso sistema.\n",
    "\n",
    "El cerebro humano contiene más de cien mil millones de neuronas. La clave para el procesamiento de la información son las conexiones entre ellas llamadas **sinápsis**.\n",
    "\n",
    "Las **dendritas** son la vía de entrada de las señales que se combinan en el cuerpo de la neurona. El **axón** es el camino de salida de la señal generada por la neurona. En las terminaciones sinápticas se encuentran unas vesículas que contienen unas sustancias químicas llamadas **neurotransmisores**, que propagan señales electroquímicas de una neurona a otra. La neurona es estimulada por sus entradas y cuando alcanza cierto umbral, se dispara o activa pasando una señal hacia el axón.\n",
    "\n",
    "![Link](https://i.ibb.co/k29k3N7/rna.png)\n",
    "\n",
    "Las características principales de una red neuronal artifical son:\n",
    "\n",
    "* Topología:\n",
    "  * Número de capas.\n",
    "  * Número de neuronas por capa.\n",
    "  * Tipo de conexiones.\n",
    "\n",
    "* Tipo de aprendizaje.\n",
    "\n",
    "![Link](https://i.ibb.co/Qv109J7/rna2.jpg)\n",
    "\n"
   ]
  },
  {
   "cell_type": "markdown",
   "metadata": {
    "id": "6NqKc6Mb7n3H"
   },
   "source": [
    "### Aplicación de Redes Neuronales\n",
    "\n",
    "Utilizaremos las compuertas XOR, las que funcionan de la siguiente manera:\n",
    "\n",
    "Tenemos dos entradas binarias (1 ó 0) y la salida será 1 sólo si una de las entradas es verdadera (1) y la otra falsa (0).\n",
    "\n",
    "Es decir que de cuatro combinaciones posibles, sólo dos tienen salida 1 y las otras dos serán 0, como vemos aquí:\n",
    "\n",
    "* XOR(0,0) = 0\n",
    "* XOR(0,1) = 1\n",
    "* XOR(1,0) = 1\n",
    "* XOR(1,1) = 0"
   ]
  },
  {
   "cell_type": "markdown",
   "metadata": {
    "id": "FGPkdGmi-Pag"
   },
   "source": [
    "Utilizaremos **Keras** que es una librería de alto nivel, para que nos sea más fácil describir las capas de la red que creamos y en background es decir, el motor que ejecutará la red neuronal y la entrenará estará la implementación de Google llamada **Tensorflow**."
   ]
  },
  {
   "cell_type": "code",
   "execution_count": null,
   "metadata": {
    "executionInfo": {
     "elapsed": 14,
     "status": "aborted",
     "timestamp": 1680089824161,
     "user": {
      "displayName": "Héctor Allende-Cid",
      "userId": "00621000603327740758"
     },
     "user_tz": 180
    },
    "id": "PCbgJvFh-U6F"
   },
   "outputs": [],
   "source": [
    "import numpy as np\n",
    "from keras.models import Sequential\n",
    "from keras.layers.core import Dense"
   ]
  },
  {
   "cell_type": "markdown",
   "metadata": {
    "id": "BWysp-RC-Zjm"
   },
   "source": [
    "Utilizaremos numpy para el manejo de arrays. De Keras importamos el tipo de modelo Sequential y el tipo de capa Dense que es la “normal”.\n",
    "\n",
    "Creamos los arrays de entrada y salida."
   ]
  },
  {
   "cell_type": "code",
   "execution_count": null,
   "metadata": {
    "executionInfo": {
     "elapsed": 14,
     "status": "aborted",
     "timestamp": 1680089824162,
     "user": {
      "displayName": "Héctor Allende-Cid",
      "userId": "00621000603327740758"
     },
     "user_tz": 180
    },
    "id": "QwzWmBLF-aAR"
   },
   "outputs": [],
   "source": [
    "# cargamos las 4 combinaciones de las compuertas XOR\n",
    "training_data = np.array([[0,0],[0,1],[1,0],[1,1]], \"float32\")\n",
    " \n",
    "# y estos son los resultados que se obtienen, en el mismo orden\n",
    "target_data = np.array([[0],[1],[1],[0]], \"float32\")"
   ]
  },
  {
   "cell_type": "markdown",
   "metadata": {
    "id": "esa5crgf-ed7"
   },
   "source": [
    "Como se puede ver son las cuatro entradas posibles de la función XOR [0,0], [0,1], [1,0],[1,1] y sus cuatro salidas: 0, 1,1,0.\n",
    "\n",
    "Ahora crearemos la arquitectura de nuestra red neuronal:"
   ]
  },
  {
   "cell_type": "code",
   "execution_count": null,
   "metadata": {
    "executionInfo": {
     "elapsed": 14,
     "status": "aborted",
     "timestamp": 1680089824162,
     "user": {
      "displayName": "Héctor Allende-Cid",
      "userId": "00621000603327740758"
     },
     "user_tz": 180
    },
    "id": "l5FNJvJs-gYe"
   },
   "outputs": [],
   "source": [
    "model = Sequential()\n",
    "model.add(Dense(16, input_dim=2, activation='relu'))\n",
    "model.add(Dense(1, activation='sigmoid'))"
   ]
  },
  {
   "cell_type": "markdown",
   "metadata": {
    "id": "m_1Sgqwu-kjo"
   },
   "source": [
    "Primero creamos un modelo vació de tipo Sequential. Este modelo se refiere a que crearemos una serie de capas de neuronas secuenciales, “una delante de otra”.\n",
    "\n",
    "Agregamos dos capas Dense con “model.add()”. Realmente serán 3 capas, pues al poner input_dim=2 estamos definiendo la capa de entrada con 2 neuronas (para nuestras entradas de la función XOR) y la primer capa oculta (hidden) de 16 neuronas. Como función de activación utilizaremos “relu” que sabemos que da buenos resultados. Podría ser otra función, esto es un mero ejemplo, y según la implementación de la red que haremos, deberemos variar la cantidad de neuronas, capas y sus funciones de activación.\n",
    "\n",
    "Y agregamos una capa con 1 neurona de salida y función de activación sigmoid.\n",
    "\n",
    "![Link](https://i.ibb.co/cL7xdM1/red-eje2.png)\n",
    "\n",
    "Antes de de entrenar la red haremos unos ajustes de nuestro modelo:"
   ]
  },
  {
   "cell_type": "code",
   "execution_count": null,
   "metadata": {
    "executionInfo": {
     "elapsed": 13,
     "status": "aborted",
     "timestamp": 1680089824162,
     "user": {
      "displayName": "Héctor Allende-Cid",
      "userId": "00621000603327740758"
     },
     "user_tz": 180
    },
    "id": "r89JIjuZ-mB7"
   },
   "outputs": [],
   "source": [
    "model.compile(loss='mean_squared_error',\n",
    "              optimizer='adam',\n",
    "              metrics=['binary_accuracy'])"
   ]
  },
  {
   "cell_type": "markdown",
   "metadata": {
    "id": "ZA-e7BM3-45I"
   },
   "source": [
    "Con esto indicamos el tipo de pérdida (loss) que utilizaremos, el “optimizador” de los pesos de las conexiones de las neuronas y las métricas que queremos obtener.\n",
    "\n",
    "Ahora sí que entrenaremos la red:"
   ]
  },
  {
   "cell_type": "markdown",
   "metadata": {
    "id": "72YROU33-8PE"
   },
   "source": [
    "Indicamos con model.fit() las entradas y sus salidas y la cantidad de iteraciones de aprendizaje (epochs) de entrenamiento. Este es un ejemplo sencillo, pero recuerda que en modelos más grandes y complejos, necesitarán más iteraciones y a la vez será más lento el entrenamiento."
   ]
  },
  {
   "cell_type": "code",
   "execution_count": null,
   "metadata": {
    "executionInfo": {
     "elapsed": 13,
     "status": "aborted",
     "timestamp": 1680089824162,
     "user": {
      "displayName": "Héctor Allende-Cid",
      "userId": "00621000603327740758"
     },
     "user_tz": 180
    },
    "id": "TGrxQDSu-6eD"
   },
   "outputs": [],
   "source": [
    "model.fit(training_data, target_data, epochs=50)"
   ]
  },
  {
   "cell_type": "code",
   "execution_count": null,
   "metadata": {
    "executionInfo": {
     "elapsed": 13,
     "status": "aborted",
     "timestamp": 1680089824162,
     "user": {
      "displayName": "Héctor Allende-Cid",
      "userId": "00621000603327740758"
     },
     "user_tz": 180
    },
    "id": "zLZEDmvt_Hsl"
   },
   "outputs": [],
   "source": [
    "# evaluamos el modelo\n",
    "scores = model.evaluate(training_data, target_data)\n",
    "print(\"\\n%s: %.2f%%\" % (model.metrics_names[1], scores[1]*100))"
   ]
  },
  {
   "cell_type": "code",
   "execution_count": null,
   "metadata": {
    "executionInfo": {
     "elapsed": 13,
     "status": "aborted",
     "timestamp": 1680089824163,
     "user": {
      "displayName": "Héctor Allende-Cid",
      "userId": "00621000603327740758"
     },
     "user_tz": 180
    },
    "id": "BOQFbK_M_KgL"
   },
   "outputs": [],
   "source": [
    "print (model.predict(training_data).round())"
   ]
  },
  {
   "cell_type": "markdown",
   "metadata": {
    "id": "lMjPX8zk_SYN"
   },
   "source": [
    "## <font color='green'>Actividad 4</font>\n",
    "\n",
    "Una empresa agrícola quiere automatizar su proceso productivo, para ello requiere implementar un modelo de machine learning, específicamente una red neuronal artificial (RNA). Se le ha solicitado a Ud implementar un modelo que permita clasificar entre cuatro (4) tipos de frutas, considerando la forma, la textura, el peso y la tonalidad (color principal). El diseño del sistema donde debe incorporarse la RNA se muestra en la siguiente figura.\n",
    "\n",
    "![Link](https://i.ibb.co/ZL8f7YH/rna3.png)\n",
    "\n",
    "El vector de entrada para la RNA tiene la siguiente forma: $P = [forma, textura, peso, tonalidad]$.\n",
    "\n",
    "Los valores de cada parámetro son:\n",
    "* Forma:\n",
    "  * 1, si la fruta es redonda\n",
    "  * 0, si la fruta es alargada\n",
    "  * -1, si la fruta es elíptica\n",
    "* Textura:\n",
    "  * 1, si la superficie de la fruta es suave\n",
    "  * -1, si la superficie de la fruta es rugosa\n",
    "* Peso:\n",
    "  * 1, si el peso de la fruta es ≥ 200 gr\n",
    "  * 0, si el peso de la fruta es < 200 gr y ≥ 50 gr\n",
    "  * -1, si el peso de la fruta es < 50 gr\n",
    "* Tonalidad:\n",
    "  * 1, si la tonalidad es roja o naranja\n",
    "  * 0, si la tonalidad es amarilla\n",
    "  * -1, si la tonalidad es verde\n",
    "\n",
    "La salida de la red es de la siguiente forma:\n",
    "* Manzana = [0, 0]\n",
    "* Naranja = [1, 1]\n",
    "* Sandía = [1, 0]\n",
    "* Plátano = [0, 1]\n",
    "\n",
    "Otros datos: \n",
    "\n",
    "* Las manzanas y naranjas son redondas\n",
    "* La sandía es elíptica\n",
    "* La sandía pesa 1,5 kgr, las manzanas y naranjas pesan 0,15 kgr y un plátano pesa 0,04 kgr"
   ]
  },
  {
   "cell_type": "markdown",
   "metadata": {
    "id": "55NpX7ONB5IR"
   },
   "source": [
    "Diseñe una RNA perceptron multicapa que entregue la solución al problema planteado."
   ]
  },
  {
   "cell_type": "code",
   "execution_count": null,
   "metadata": {
    "executionInfo": {
     "elapsed": 13,
     "status": "aborted",
     "timestamp": 1680089824163,
     "user": {
      "displayName": "Héctor Allende-Cid",
      "userId": "00621000603327740758"
     },
     "user_tz": 180
    },
    "id": "fh9Ip6phIn0O"
   },
   "outputs": [],
   "source": [
    "# Solución"
   ]
  },
  {
   "cell_type": "markdown",
   "metadata": {
    "id": "7iyWXb_7CHQw"
   },
   "source": [
    "<font color='green'>Fin Actividad 4</font>\n",
    "\n"
   ]
  },
  {
   "cell_type": "markdown",
   "metadata": {
    "id": "45otLVfnCNnq"
   },
   "source": [
    "## <font color='blue'>**Máquinas de Soporte Vectorial (SVM)**</font>\n",
    "\n",
    "Las **máquinas de soporte vectorial (SVM)** son una clase particularmente poderosa y flexible de **algoritmos supervisados** tanto para clasificación como para regresión.\n",
    "\n",
    "SVM corresponde a un tipo de clasificación **discriminativa**, que es la que busca modelar cada clase, encontrando una línea o curva (en dos dimensiones) o un plano (en N-dimensiones) que divide las clases entre sí.\n"
   ]
  },
  {
   "cell_type": "markdown",
   "metadata": {
    "id": "zFo1e3kUDhDG"
   },
   "source": [
    "### Aplicación de SVM\n",
    "\n",
    "\n",
    "Como ejemplo de esto, considere el caso simple de una tarea de clasificación, en la que las dos clases de puntos están bien separadas."
   ]
  },
  {
   "cell_type": "code",
   "execution_count": null,
   "metadata": {
    "executionInfo": {
     "elapsed": 13,
     "status": "aborted",
     "timestamp": 1680089824163,
     "user": {
      "displayName": "Héctor Allende-Cid",
      "userId": "00621000603327740758"
     },
     "user_tz": 180
    },
    "id": "Y5z33VF5CpSx"
   },
   "outputs": [],
   "source": [
    "import numpy as np\n",
    "import matplotlib.pyplot as plt\n",
    "from scipy import stats\n",
    "\n",
    "# use seaborn plotting defaults\n",
    "import seaborn as sns; sns.set()"
   ]
  },
  {
   "cell_type": "code",
   "execution_count": null,
   "metadata": {
    "executionInfo": {
     "elapsed": 13,
     "status": "aborted",
     "timestamp": 1680089824163,
     "user": {
      "displayName": "Héctor Allende-Cid",
      "userId": "00621000603327740758"
     },
     "user_tz": 180
    },
    "id": "B52hYHSDCqxp"
   },
   "outputs": [],
   "source": [
    "from sklearn.datasets import make_blobs\n",
    "X, y = make_blobs(n_samples=50, centers=2,\n",
    "                  random_state=0, cluster_std=0.60)\n",
    "plt.scatter(X[:, 0], X[:, 1], c=y, s=50, cmap='autumn');"
   ]
  },
  {
   "cell_type": "markdown",
   "metadata": {
    "id": "hDhMWNEqCyCj"
   },
   "source": [
    "Un clasificador discriminativo lineal intentaría trazar una línea recta que separe los dos conjuntos de datos y, por lo tanto, crearía un modelo de clasificación. Para datos bidimensionales como el que se muestra aquí, esta es una tarea que podríamos hacer a mano. Pero inmediatamente vemos un problema: **¡hay más de una posible línea divisoria que puede discriminar perfectamente entre las dos clases!**\n",
    "\n",
    "Podemos dibujarlos de la siguiente manera:"
   ]
  },
  {
   "cell_type": "code",
   "execution_count": null,
   "metadata": {
    "executionInfo": {
     "elapsed": 12,
     "status": "aborted",
     "timestamp": 1680089824163,
     "user": {
      "displayName": "Héctor Allende-Cid",
      "userId": "00621000603327740758"
     },
     "user_tz": 180
    },
    "id": "jiLs96FOCy4G"
   },
   "outputs": [],
   "source": [
    "xfit = np.linspace(-1, 3.5)\n",
    "plt.scatter(X[:, 0], X[:, 1], c=y, s=50, cmap='autumn')\n",
    "plt.plot([0.6], [2.1], 'x', color='red', markeredgewidth=2, markersize=10)\n",
    "\n",
    "for m, b in [(1, 0.65), (0.5, 1.6), (-0.2, 2.9)]:\n",
    "    plt.plot(xfit, m * xfit + b, '-k')\n",
    "\n",
    "plt.xlim(-1, 3.5);"
   ]
  },
  {
   "cell_type": "markdown",
   "metadata": {
    "id": "OlaBC8aBC3ML"
   },
   "source": [
    "Se trata de tres separadores muy diferentes que, sin embargo, discriminan perfectamente entre estas muestras. Dependiendo de cuál se elija, a un nuevo punto de datos (por ejemplo, el marcado con la \"X\" en este gráfico) se le asignará una etiqueta diferente. Evidentemente, nuestra simple intuición de \"trazar una línea divisoria entre clases\" no es suficiente, y necesitamos pensar un poco más."
   ]
  },
  {
   "cell_type": "markdown",
   "metadata": {
    "id": "6LtQcuQqC3wd"
   },
   "source": [
    "Las máquinas de soporte vectorial ofrecen una forma mejorada de solucionar este problema.\n",
    "\n",
    "La idea es la siguiente: en lugar de simplemente dibujar una línea de ancho cero entre las clases, podemos dibujar alrededor de cada línea un margen de cierto ancho, hasta el punto más cercano. A continuación, se muestra un ejemplo de cómo podría verse esto:"
   ]
  },
  {
   "cell_type": "code",
   "execution_count": null,
   "metadata": {
    "executionInfo": {
     "elapsed": 13,
     "status": "aborted",
     "timestamp": 1680089824164,
     "user": {
      "displayName": "Héctor Allende-Cid",
      "userId": "00621000603327740758"
     },
     "user_tz": 180
    },
    "id": "Zl0zR_I3C6Bz"
   },
   "outputs": [],
   "source": [
    "xfit = np.linspace(-1, 3.5)\n",
    "plt.scatter(X[:, 0], X[:, 1], c=y, s=50, cmap='autumn')\n",
    "\n",
    "for m, b, d in [(1, 0.65, 0.33), (0.5, 1.6, 0.55), (-0.2, 2.9, 0.2)]:\n",
    "    yfit = m * xfit + b\n",
    "    plt.plot(xfit, yfit, '-k')\n",
    "    plt.fill_between(xfit, yfit - d, yfit + d, edgecolor='none',\n",
    "                     color='#AAAAAA', alpha=0.4)\n",
    "\n",
    "plt.xlim(-1, 3.5);"
   ]
  },
  {
   "cell_type": "markdown",
   "metadata": {
    "id": "HtqV5ww3DClk"
   },
   "source": [
    "En las SVM, la línea que maximiza este margen es la que elegiremos como modelo óptimo. Las SVM son un ejemplo de estimador de margen máximo."
   ]
  },
  {
   "cell_type": "markdown",
   "metadata": {
    "id": "pK-7DGBpDE5N"
   },
   "source": [
    "Veamos el resultado de un ajuste real a los datos del ejemplo: utilizaremos el clasificador de vectores de soporte de Scikit-Learn para entrenar un modelo SVM sobre estos datos. Por el momento, usaremos un kernel lineal y estableceremos el parámetro C en un número muy grande (discutiremos el significado de estos con más profundidad momentáneamente)."
   ]
  },
  {
   "cell_type": "code",
   "execution_count": null,
   "metadata": {
    "executionInfo": {
     "elapsed": 13,
     "status": "aborted",
     "timestamp": 1680089824164,
     "user": {
      "displayName": "Héctor Allende-Cid",
      "userId": "00621000603327740758"
     },
     "user_tz": 180
    },
    "id": "unti9QyDDGiG"
   },
   "outputs": [],
   "source": [
    "from sklearn.svm import SVC # \"Support vector classifier\"\n",
    "model = SVC(kernel='linear', C=1E10)\n",
    "model.fit(X, y)"
   ]
  },
  {
   "cell_type": "code",
   "execution_count": null,
   "metadata": {
    "executionInfo": {
     "elapsed": 13,
     "status": "aborted",
     "timestamp": 1680089824164,
     "user": {
      "displayName": "Héctor Allende-Cid",
      "userId": "00621000603327740758"
     },
     "user_tz": 180
    },
    "id": "3ScSoxnYDJiI"
   },
   "outputs": [],
   "source": [
    "def plot_svc_decision_function(model, ax=None, plot_support=True):\n",
    "    \"\"\"Plot the decision function for a 2D SVC\"\"\"\n",
    "    if ax is None:\n",
    "        ax = plt.gca()\n",
    "    xlim = ax.get_xlim()\n",
    "    ylim = ax.get_ylim()\n",
    "    \n",
    "    # create grid to evaluate model\n",
    "    x = np.linspace(xlim[0], xlim[1], 30)\n",
    "    y = np.linspace(ylim[0], ylim[1], 30)\n",
    "    Y, X = np.meshgrid(y, x)\n",
    "    xy = np.vstack([X.ravel(), Y.ravel()]).T\n",
    "    P = model.decision_function(xy).reshape(X.shape)\n",
    "    \n",
    "    # plot decision boundary and margins\n",
    "    ax.contour(X, Y, P, colors='k',\n",
    "               levels=[-1, 0, 1], alpha=0.5,\n",
    "               linestyles=['--', '-', '--'])\n",
    "    \n",
    "    # plot support vectors\n",
    "    if plot_support:\n",
    "        ax.scatter(model.support_vectors_[:, 0],\n",
    "                   model.support_vectors_[:, 1],\n",
    "                   s=300, linewidth=1, facecolors='none');\n",
    "    ax.set_xlim(xlim)\n",
    "    ax.set_ylim(ylim)"
   ]
  },
  {
   "cell_type": "code",
   "execution_count": null,
   "metadata": {
    "executionInfo": {
     "elapsed": 12,
     "status": "aborted",
     "timestamp": 1680089824164,
     "user": {
      "displayName": "Héctor Allende-Cid",
      "userId": "00621000603327740758"
     },
     "user_tz": 180
    },
    "id": "bmpAAS39DLfM"
   },
   "outputs": [],
   "source": [
    "plt.scatter(X[:, 0], X[:, 1], c=y, s=50, cmap='autumn')\n",
    "plot_svc_decision_function(model);"
   ]
  },
  {
   "cell_type": "code",
   "execution_count": null,
   "metadata": {
    "executionInfo": {
     "elapsed": 12,
     "status": "aborted",
     "timestamp": 1680089824164,
     "user": {
      "displayName": "Héctor Allende-Cid",
      "userId": "00621000603327740758"
     },
     "user_tz": 180
    },
    "id": "CgdQGiiXoL4J"
   },
   "outputs": [],
   "source": []
  },
  {
   "cell_type": "markdown",
   "metadata": {
    "id": "YL0EQDhBDRMq"
   },
   "source": [
    "Esta es la **línea divisoria que maximiza el margen entre los dos conjuntos de puntos**. Observe que algunos de los puntos de entrenamiento solo tocan el margen. Estos puntos son los elementos fundamentales de este ajuste y se conocen como vectores de soporte, y dan nombre al algoritmo. En Scikit-Learn, los valores de estos puntos se almacenan en el atributo *support_vectors_* del clasificador:"
   ]
  },
  {
   "cell_type": "code",
   "execution_count": null,
   "metadata": {
    "executionInfo": {
     "elapsed": 12,
     "status": "aborted",
     "timestamp": 1680089824164,
     "user": {
      "displayName": "Héctor Allende-Cid",
      "userId": "00621000603327740758"
     },
     "user_tz": 180
    },
    "id": "jLnmQLo9DRxM"
   },
   "outputs": [],
   "source": [
    "model.support_vectors_"
   ]
  },
  {
   "cell_type": "markdown",
   "metadata": {
    "id": "e5WhcoUTDryW"
   },
   "source": [
    "## <font color='green'>Actividad 5</font>\n",
    "\n",
    "La manera más simple de realizar la separación es mediante una línea recta, un plano o un hiperplano N-dimensional.\n",
    "\n",
    "Desafortunadamente los universos a estudiar no se suelen presentar en casos idílicos de dos dimensiones como en el ejemplo anterior, sino que un algoritmo SVM debe tratar con a) más de dos variables predictoras, b) curvas no lineales de separación, c) casos donde los conjuntos de datos no pueden ser completamente separados, d) clasificaciones en más de dos categorías."
   ]
  },
  {
   "cell_type": "code",
   "execution_count": null,
   "metadata": {
    "executionInfo": {
     "elapsed": 13,
     "status": "aborted",
     "timestamp": 1680089824165,
     "user": {
      "displayName": "Héctor Allende-Cid",
      "userId": "00621000603327740758"
     },
     "user_tz": 180
    },
    "id": "R55W-433EBrD"
   },
   "outputs": [],
   "source": [
    "from sklearn.datasets import make_circles\n",
    "X, y = make_circles(100, factor=.1, noise=.1)\n",
    "plt.scatter(X[:, 0], X[:, 1], c=y, s=50, cmap='autumn')"
   ]
  },
  {
   "cell_type": "code",
   "execution_count": null,
   "metadata": {
    "executionInfo": {
     "elapsed": 13,
     "status": "aborted",
     "timestamp": 1680089824165,
     "user": {
      "displayName": "Héctor Allende-Cid",
      "userId": "00621000603327740758"
     },
     "user_tz": 180
    },
    "id": "tGmPGFU7oGt7"
   },
   "outputs": [],
   "source": [
    "from sklearn.svm import SVC # \"Support vector classifier\"\n",
    "model = SVC(kernel='rbf', C=1E10)\n",
    "model.fit(X, y)"
   ]
  },
  {
   "cell_type": "code",
   "execution_count": null,
   "metadata": {
    "executionInfo": {
     "elapsed": 13,
     "status": "aborted",
     "timestamp": 1680089824165,
     "user": {
      "displayName": "Héctor Allende-Cid",
      "userId": "00621000603327740758"
     },
     "user_tz": 180
    },
    "id": "kDYYHLRNoM4v"
   },
   "outputs": [],
   "source": [
    "plt.scatter(X[:, 0], X[:, 1], c=y, s=50, cmap='autumn')\n",
    "plot_svc_decision_function(model);"
   ]
  },
  {
   "cell_type": "markdown",
   "metadata": {
    "id": "DMPAGeI6EIDr"
   },
   "source": [
    "Implemente un SVM que sea capaz de separar las clases rojas y amarillas."
   ]
  },
  {
   "cell_type": "markdown",
   "metadata": {
    "id": "MYzDZ3UiDuki"
   },
   "source": [
    "<font color='green'>Fin Actividad 5</font>"
   ]
  },
  {
   "cell_type": "markdown",
   "metadata": {
    "id": "sndS0clxFIXb"
   },
   "source": [
    "## <font color='blue'>**Árboles de Decisión y Random Forest**</font>\n",
    "\n",
    "**Random Forest** es un ejemplo de un método de conjunto o ensamblado, lo que significa que se basa en agregar los resultados de un conjunto de estimadores más simples. El resultado algo sorprendente con tales métodos de conjunto es que la suma puede ser mayor que las partes: es decir, ¡un voto mayoritario entre varios estimadores puede terminar siendo mejor que cualquiera de los estimadores individuales que votan!.\n"
   ]
  },
  {
   "cell_type": "markdown",
   "metadata": {
    "id": "VYoSW1wfFUIr"
   },
   "source": [
    "Random Forests es un ejemplo de un modelo de *emsemble learning* construido sobre árboles de decisión.\n",
    "\n",
    "Los árboles de decisión son formas extremadamente intuitivas de clasificar o etiquetar objetos: simplemente haga una serie de preguntas diseñadas para concentrarse en la clasificación. Por ejemplo, si quisiera construir un árbol de decisiones para clasificar un animal con el que se encuentra durante una caminata, puede construir el que se muestra aquí:"
   ]
  },
  {
   "cell_type": "markdown",
   "metadata": {
    "id": "gD-8iMYcFXSQ"
   },
   "source": [
    "![Link](https://i.ibb.co/nPdf3Cq/05-08-decision-tree.png)"
   ]
  },
  {
   "cell_type": "markdown",
   "metadata": {
    "id": "SL2fiLnMFX5l"
   },
   "source": [
    "La división binaria hace que esto sea extremadamente eficiente: en un árbol bien construido, cada pregunta reducirá el número de opciones a aproximadamente la mitad, reduciendo muy rápidamente las opciones incluso entre un gran número de clases. El truco, por supuesto, está en decidir qué preguntas hacer en cada paso. En las implementaciones de aprendizaje automático de árboles de decisión, las preguntas generalmente toman la forma de divisiones alineadas con el eje en los datos: es decir, cada nodo del árbol divide los datos en dos grupos utilizando un valor de corte dentro de una de las características."
   ]
  },
  {
   "cell_type": "markdown",
   "metadata": {
    "id": "LCC_oijZFdz9"
   },
   "source": [
    "## <font color='blue'>**Aplicación de Árboles de Decisión y Random Forest**</font>\n",
    "\n",
    "Considere los siguientes datos bidimensionales, que tienen una de cuatro etiquetas de clase:"
   ]
  },
  {
   "cell_type": "code",
   "execution_count": null,
   "metadata": {
    "executionInfo": {
     "elapsed": 13,
     "status": "aborted",
     "timestamp": 1680089824165,
     "user": {
      "displayName": "Héctor Allende-Cid",
      "userId": "00621000603327740758"
     },
     "user_tz": 180
    },
    "id": "VFb3FVQmFnXv"
   },
   "outputs": [],
   "source": [
    "import numpy as np\n",
    "import matplotlib.pyplot as plt\n",
    "import seaborn as sns; sns.set()"
   ]
  },
  {
   "cell_type": "code",
   "execution_count": null,
   "metadata": {
    "executionInfo": {
     "elapsed": 12,
     "status": "aborted",
     "timestamp": 1680089824165,
     "user": {
      "displayName": "Héctor Allende-Cid",
      "userId": "00621000603327740758"
     },
     "user_tz": 180
    },
    "id": "eTcenjoFFkiW"
   },
   "outputs": [],
   "source": [
    "from sklearn.datasets import make_blobs\n",
    "\n",
    "X, y = make_blobs(n_samples=300, centers=4,\n",
    "                  random_state=0, cluster_std=1.0)\n",
    "plt.scatter(X[:, 0], X[:, 1], c=y, s=50, cmap='rainbow');"
   ]
  },
  {
   "cell_type": "markdown",
   "metadata": {
    "id": "b9KLHhJSFrkF"
   },
   "source": [
    "Un árbol de decisión simple construido sobre estos datos dividirá iterativamente los datos a lo largo de uno u otro eje de acuerdo con algún criterio cuantitativo, y en cada nivel asignará la etiqueta de la nueva región de acuerdo con un voto mayoritario de puntos dentro de ella. En la figura se presenta una visualización de los primeros cuatro niveles de un clasificador de árbol de decisión para estos datos:\n",
    "\n",
    "![Link](https://i.ibb.co/sWdSfgk/05-08-decision-tree-levels.png)\n",
    "\n",
    "Observe que después de la primera división, todos los puntos de la rama superior permanecen sin cambios, por lo que no es necesario subdividir más esta rama. A excepción de los nodos que contienen todos de un color, en cada nivel cada región se divide nuevamente a lo largo de una de las dos características.\n",
    "\n",
    "Este proceso de ajustar un árbol de decisiones a nuestros datos se puede realizar en Scikit-Learn con el estimador DecisionTreeClassifier."
   ]
  },
  {
   "cell_type": "code",
   "execution_count": null,
   "metadata": {
    "executionInfo": {
     "elapsed": 12,
     "status": "aborted",
     "timestamp": 1680089824165,
     "user": {
      "displayName": "Héctor Allende-Cid",
      "userId": "00621000603327740758"
     },
     "user_tz": 180
    },
    "id": "yf_sXE6tFyPx"
   },
   "outputs": [],
   "source": [
    "from sklearn.tree import DecisionTreeClassifier\n",
    "tree = DecisionTreeClassifier().fit(X, y)"
   ]
  },
  {
   "cell_type": "code",
   "execution_count": null,
   "metadata": {
    "executionInfo": {
     "elapsed": 13,
     "status": "aborted",
     "timestamp": 1680089824166,
     "user": {
      "displayName": "Héctor Allende-Cid",
      "userId": "00621000603327740758"
     },
     "user_tz": 180
    },
    "id": "9ItmvDErF2Wh"
   },
   "outputs": [],
   "source": [
    "def visualize_classifier(model, X, y, ax=None, cmap='rainbow'):\n",
    "    ax = ax or plt.gca()\n",
    "    \n",
    "    # Plot the training points\n",
    "    ax.scatter(X[:, 0], X[:, 1], c=y, s=30, cmap=cmap,\n",
    "               clim=(y.min(), y.max()), zorder=3)\n",
    "    ax.axis('tight')\n",
    "    ax.axis('off')\n",
    "    xlim = ax.get_xlim()\n",
    "    ylim = ax.get_ylim()\n",
    "    \n",
    "    # fit the estimator\n",
    "    model.fit(X, y)\n",
    "    xx, yy = np.meshgrid(np.linspace(*xlim, num=200),\n",
    "                         np.linspace(*ylim, num=200))\n",
    "    Z = model.predict(np.c_[xx.ravel(), yy.ravel()]).reshape(xx.shape)\n",
    "\n",
    "    # Create a color plot with the results\n",
    "    n_classes = len(np.unique(y))\n",
    "    contours = ax.contourf(xx, yy, Z, alpha=0.3,\n",
    "                           levels=np.arange(n_classes + 1) - 0.5,\n",
    "                           cmap=cmap, clim=(y.min(), y.max()),\n",
    "                           zorder=1)\n",
    "\n",
    "    ax.set(xlim=xlim, ylim=ylim)"
   ]
  },
  {
   "cell_type": "code",
   "execution_count": null,
   "metadata": {
    "executionInfo": {
     "elapsed": 13,
     "status": "aborted",
     "timestamp": 1680089824166,
     "user": {
      "displayName": "Héctor Allende-Cid",
      "userId": "00621000603327740758"
     },
     "user_tz": 180
    },
    "id": "CjzIoY9PF4T8"
   },
   "outputs": [],
   "source": [
    "visualize_classifier(DecisionTreeClassifier(), X, y)"
   ]
  },
  {
   "cell_type": "markdown",
   "metadata": {
    "id": "FHXhOUajF8hK"
   },
   "source": [
    "A medida que aumenta la profundidad del árbol, tendemos a obtener regiones de clasificación de formas muy extrañas; por ejemplo, a una profundidad de cinco, hay una región púrpura alta y delgada entre las regiones amarilla y azul. Está claro que esto es menos un resultado de la verdadera distribución intrínseca de los datos y más un resultado de las propiedades particulares de muestreo o ruido de los datos. Es decir, este árbol de decisiones, incluso a solo cinco niveles de profundidad, claramente sobrepasa nuestros datos. **Esto se conoce como sobreajuste (over-fitting).**\n",
    "\n",
    "El sobreajuste resulta ser una propiedad general de los árboles de decisión: es muy fácil profundizar demasiado en el árbol y, por lo tanto, ajustar los detalles de los datos particulares en lugar de las propiedades generales de las distribuciones de las que se extraen. Otra forma de ver este ajuste excesivo es observar modelos entrenados en diferentes subconjuntos de datos; por ejemplo, en esta figura entrenamos dos árboles diferentes, cada uno en la mitad de los datos originales:\n",
    "\n",
    "![Link](https://i.ibb.co/9hxXfRV/05-08-decision-tree-overfitting.png)"
   ]
  },
  {
   "cell_type": "markdown",
   "metadata": {
    "id": "RUUIU3XZGDqK"
   },
   "source": [
    "**Ensembles de estimadores: Random Forests**\n",
    "\n",
    "Esta noción —en que se pueden combinar múltiples estimadores de sobreajuste para reducir el efecto de este sobreajuste— es lo que subyace a un método de conjunto llamado *bagging*. El bagging hace uso de un conjunto de estimadores paralelos, cada uno de los cuales se ajusta en exceso a los datos y promedia los resultados para encontrar una mejor clasificación. Un conjunto de árboles de decisión aleatorios se conoce como **random forests**.\n",
    "\n",
    "Este tipo de clasificación de bagging se puede hacer manualmente usando el metaestimador BaggingClassifier de Scikit-Learn, como se muestra aquí:"
   ]
  },
  {
   "cell_type": "code",
   "execution_count": null,
   "metadata": {
    "executionInfo": {
     "elapsed": 13,
     "status": "aborted",
     "timestamp": 1680089824166,
     "user": {
      "displayName": "Héctor Allende-Cid",
      "userId": "00621000603327740758"
     },
     "user_tz": 180
    },
    "id": "LqBp7PXYGLN7"
   },
   "outputs": [],
   "source": [
    "from sklearn.tree import DecisionTreeClassifier\n",
    "from sklearn.ensemble import BaggingClassifier\n",
    "\n",
    "tree = DecisionTreeClassifier()\n",
    "bag = BaggingClassifier(tree, n_estimators=100, max_samples=0.8,\n",
    "                        random_state=1)\n",
    "\n",
    "bag.fit(X, y)\n",
    "visualize_classifier(bag, X, y)"
   ]
  },
  {
   "cell_type": "code",
   "execution_count": null,
   "metadata": {
    "executionInfo": {
     "elapsed": 13,
     "status": "aborted",
     "timestamp": 1680089824166,
     "user": {
      "displayName": "Héctor Allende-Cid",
      "userId": "00621000603327740758"
     },
     "user_tz": 180
    },
    "id": "TJBh5zP0GPjP"
   },
   "outputs": [],
   "source": [
    "from sklearn.ensemble import RandomForestClassifier\n",
    "\n",
    "model = RandomForestClassifier(n_estimators=100, random_state=0)\n",
    "visualize_classifier(model, X, y);"
   ]
  },
  {
   "cell_type": "markdown",
   "metadata": {
    "id": "RuIRfnPUJsCI"
   },
   "source": [
    "## <font color='green'>Actividad 6</font>\n",
    "\n",
    "Random forests también pueden funcionar en el caso de regresión (es decir, variables continuas en lugar de categóricas). El estimador a utilizar para esto es **RandomForestRegressor**, y la sintaxis es muy similar a la que vimos anteriormente.\n",
    "\n",
    "Considere los siguientes datos, extraídos de la combinación de una oscilación rápida y lenta:"
   ]
  },
  {
   "cell_type": "code",
   "execution_count": null,
   "metadata": {
    "executionInfo": {
     "elapsed": 13,
     "status": "aborted",
     "timestamp": 1680089824166,
     "user": {
      "displayName": "Héctor Allende-Cid",
      "userId": "00621000603327740758"
     },
     "user_tz": 180
    },
    "id": "r04JUrmYGhoE"
   },
   "outputs": [],
   "source": [
    "rng = np.random.RandomState(42)\n",
    "x = 10 * rng.rand(200)\n",
    "\n",
    "def model(x, sigma=0.3):\n",
    "    fast_oscillation = np.sin(5 * x)\n",
    "    slow_oscillation = np.sin(0.5 * x)\n",
    "    noise = sigma * rng.randn(len(x))\n",
    "\n",
    "    return slow_oscillation + fast_oscillation + noise\n",
    "\n",
    "y = model(x)\n",
    "plt.errorbar(x, y, 0.3, fmt='o');"
   ]
  },
  {
   "cell_type": "markdown",
   "metadata": {
    "id": "YVATxsH5GnhT"
   },
   "source": [
    "1. Usando el regresor de random forests encuentre la curva de mejor ajuste a los datos generados anteriormente.\n",
    "2. Grafique su resultado."
   ]
  },
  {
   "cell_type": "code",
   "execution_count": null,
   "metadata": {
    "executionInfo": {
     "elapsed": 13,
     "status": "aborted",
     "timestamp": 1680089824166,
     "user": {
      "displayName": "Héctor Allende-Cid",
      "userId": "00621000603327740758"
     },
     "user_tz": 180
    },
    "id": "Ay7uAJP8Tx9q"
   },
   "outputs": [],
   "source": [
    "# Solución\n",
    "\n",
    "from sklearn.ensemble import RandomForestRegressor\n",
    "\n",
    "regr = RandomForestRegressor(max_depth=10, random_state=0)\n",
    "print(x)\n",
    "x=x.reshape(-1,1)\n",
    "print(x)\n",
    "regr.fit(x, y)\n",
    "y_pred=regr.predict(x)\n",
    "plt.errorbar(x, y, 0.3, fmt='o');\n",
    "plt.errorbar(x, y_pred, 0.3, fmt='o');"
   ]
  },
  {
   "cell_type": "markdown",
   "metadata": {
    "id": "imcDC0GiGX6Y"
   },
   "source": [
    "<font color='green'>Fin Actividad 6</font>"
   ]
  }
 ],
 "metadata": {
  "colab": {
   "provenance": []
  },
  "kernelspec": {
   "display_name": "Python 3 (ipykernel)",
   "language": "python",
   "name": "python3"
  },
  "language_info": {
   "codemirror_mode": {
    "name": "ipython",
    "version": 3
   },
   "file_extension": ".py",
   "mimetype": "text/x-python",
   "name": "python",
   "nbconvert_exporter": "python",
   "pygments_lexer": "ipython3",
   "version": "3.10.9"
  }
 },
 "nbformat": 4,
 "nbformat_minor": 1
}
