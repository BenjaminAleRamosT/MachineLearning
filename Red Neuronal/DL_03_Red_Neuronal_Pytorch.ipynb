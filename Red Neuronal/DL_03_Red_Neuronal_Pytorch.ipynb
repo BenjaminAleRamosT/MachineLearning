{
  "nbformat": 4,
  "nbformat_minor": 0,
  "metadata": {
    "kernelspec": {
      "display_name": "Python 3",
      "language": "python",
      "name": "python3"
    },
    "language_info": {
      "codemirror_mode": {
        "name": "ipython",
        "version": 3
      },
      "file_extension": ".py",
      "mimetype": "text/x-python",
      "name": "python",
      "nbconvert_exporter": "python",
      "pygments_lexer": "ipython3",
      "version": "3.6.10"
    },
    "colab": {
      "provenance": []
    },
    "widgets": {
      "application/vnd.jupyter.widget-state+json": {
        "6793fe7bc1c9464482d00af2c442e5bb": {
          "model_module": "@jupyter-widgets/controls",
          "model_name": "HBoxModel",
          "model_module_version": "1.5.0",
          "state": {
            "_dom_classes": [],
            "_model_module": "@jupyter-widgets/controls",
            "_model_module_version": "1.5.0",
            "_model_name": "HBoxModel",
            "_view_count": null,
            "_view_module": "@jupyter-widgets/controls",
            "_view_module_version": "1.5.0",
            "_view_name": "HBoxView",
            "box_style": "",
            "children": [
              "IPY_MODEL_4557e673944c4e46a8c0620eb9260c3c",
              "IPY_MODEL_1e3bcf38a4ab40798d0ba63859322d7a",
              "IPY_MODEL_cba19cb0d95c4bc88eae9e902fde273c"
            ],
            "layout": "IPY_MODEL_f74f36da871a46ca9624273beb501b48"
          }
        },
        "4557e673944c4e46a8c0620eb9260c3c": {
          "model_module": "@jupyter-widgets/controls",
          "model_name": "HTMLModel",
          "model_module_version": "1.5.0",
          "state": {
            "_dom_classes": [],
            "_model_module": "@jupyter-widgets/controls",
            "_model_module_version": "1.5.0",
            "_model_name": "HTMLModel",
            "_view_count": null,
            "_view_module": "@jupyter-widgets/controls",
            "_view_module_version": "1.5.0",
            "_view_name": "HTMLView",
            "description": "",
            "description_tooltip": null,
            "layout": "IPY_MODEL_ce54e1bfe629417f91f4ff3c01ea37fe",
            "placeholder": "​",
            "style": "IPY_MODEL_66eec23daa844bcb9d4a5b5f76df0e9b",
            "value": "100%"
          }
        },
        "1e3bcf38a4ab40798d0ba63859322d7a": {
          "model_module": "@jupyter-widgets/controls",
          "model_name": "FloatProgressModel",
          "model_module_version": "1.5.0",
          "state": {
            "_dom_classes": [],
            "_model_module": "@jupyter-widgets/controls",
            "_model_module_version": "1.5.0",
            "_model_name": "FloatProgressModel",
            "_view_count": null,
            "_view_module": "@jupyter-widgets/controls",
            "_view_module_version": "1.5.0",
            "_view_name": "ProgressView",
            "bar_style": "success",
            "description": "",
            "description_tooltip": null,
            "layout": "IPY_MODEL_bd9c90c9f49e4af4ae9ff3deed6a98a6",
            "max": 9912422,
            "min": 0,
            "orientation": "horizontal",
            "style": "IPY_MODEL_37e61e591dff40b9a0747ea061d7e016",
            "value": 9912422
          }
        },
        "cba19cb0d95c4bc88eae9e902fde273c": {
          "model_module": "@jupyter-widgets/controls",
          "model_name": "HTMLModel",
          "model_module_version": "1.5.0",
          "state": {
            "_dom_classes": [],
            "_model_module": "@jupyter-widgets/controls",
            "_model_module_version": "1.5.0",
            "_model_name": "HTMLModel",
            "_view_count": null,
            "_view_module": "@jupyter-widgets/controls",
            "_view_module_version": "1.5.0",
            "_view_name": "HTMLView",
            "description": "",
            "description_tooltip": null,
            "layout": "IPY_MODEL_bea7b30b8b874d9ebdcce859999a77cb",
            "placeholder": "​",
            "style": "IPY_MODEL_1aa92d3c92cd46df93a69fdc28faa26f",
            "value": " 9912422/9912422 [00:00&lt;00:00, 25943845.64it/s]"
          }
        },
        "f74f36da871a46ca9624273beb501b48": {
          "model_module": "@jupyter-widgets/base",
          "model_name": "LayoutModel",
          "model_module_version": "1.2.0",
          "state": {
            "_model_module": "@jupyter-widgets/base",
            "_model_module_version": "1.2.0",
            "_model_name": "LayoutModel",
            "_view_count": null,
            "_view_module": "@jupyter-widgets/base",
            "_view_module_version": "1.2.0",
            "_view_name": "LayoutView",
            "align_content": null,
            "align_items": null,
            "align_self": null,
            "border": null,
            "bottom": null,
            "display": null,
            "flex": null,
            "flex_flow": null,
            "grid_area": null,
            "grid_auto_columns": null,
            "grid_auto_flow": null,
            "grid_auto_rows": null,
            "grid_column": null,
            "grid_gap": null,
            "grid_row": null,
            "grid_template_areas": null,
            "grid_template_columns": null,
            "grid_template_rows": null,
            "height": null,
            "justify_content": null,
            "justify_items": null,
            "left": null,
            "margin": null,
            "max_height": null,
            "max_width": null,
            "min_height": null,
            "min_width": null,
            "object_fit": null,
            "object_position": null,
            "order": null,
            "overflow": null,
            "overflow_x": null,
            "overflow_y": null,
            "padding": null,
            "right": null,
            "top": null,
            "visibility": null,
            "width": null
          }
        },
        "ce54e1bfe629417f91f4ff3c01ea37fe": {
          "model_module": "@jupyter-widgets/base",
          "model_name": "LayoutModel",
          "model_module_version": "1.2.0",
          "state": {
            "_model_module": "@jupyter-widgets/base",
            "_model_module_version": "1.2.0",
            "_model_name": "LayoutModel",
            "_view_count": null,
            "_view_module": "@jupyter-widgets/base",
            "_view_module_version": "1.2.0",
            "_view_name": "LayoutView",
            "align_content": null,
            "align_items": null,
            "align_self": null,
            "border": null,
            "bottom": null,
            "display": null,
            "flex": null,
            "flex_flow": null,
            "grid_area": null,
            "grid_auto_columns": null,
            "grid_auto_flow": null,
            "grid_auto_rows": null,
            "grid_column": null,
            "grid_gap": null,
            "grid_row": null,
            "grid_template_areas": null,
            "grid_template_columns": null,
            "grid_template_rows": null,
            "height": null,
            "justify_content": null,
            "justify_items": null,
            "left": null,
            "margin": null,
            "max_height": null,
            "max_width": null,
            "min_height": null,
            "min_width": null,
            "object_fit": null,
            "object_position": null,
            "order": null,
            "overflow": null,
            "overflow_x": null,
            "overflow_y": null,
            "padding": null,
            "right": null,
            "top": null,
            "visibility": null,
            "width": null
          }
        },
        "66eec23daa844bcb9d4a5b5f76df0e9b": {
          "model_module": "@jupyter-widgets/controls",
          "model_name": "DescriptionStyleModel",
          "model_module_version": "1.5.0",
          "state": {
            "_model_module": "@jupyter-widgets/controls",
            "_model_module_version": "1.5.0",
            "_model_name": "DescriptionStyleModel",
            "_view_count": null,
            "_view_module": "@jupyter-widgets/base",
            "_view_module_version": "1.2.0",
            "_view_name": "StyleView",
            "description_width": ""
          }
        },
        "bd9c90c9f49e4af4ae9ff3deed6a98a6": {
          "model_module": "@jupyter-widgets/base",
          "model_name": "LayoutModel",
          "model_module_version": "1.2.0",
          "state": {
            "_model_module": "@jupyter-widgets/base",
            "_model_module_version": "1.2.0",
            "_model_name": "LayoutModel",
            "_view_count": null,
            "_view_module": "@jupyter-widgets/base",
            "_view_module_version": "1.2.0",
            "_view_name": "LayoutView",
            "align_content": null,
            "align_items": null,
            "align_self": null,
            "border": null,
            "bottom": null,
            "display": null,
            "flex": null,
            "flex_flow": null,
            "grid_area": null,
            "grid_auto_columns": null,
            "grid_auto_flow": null,
            "grid_auto_rows": null,
            "grid_column": null,
            "grid_gap": null,
            "grid_row": null,
            "grid_template_areas": null,
            "grid_template_columns": null,
            "grid_template_rows": null,
            "height": null,
            "justify_content": null,
            "justify_items": null,
            "left": null,
            "margin": null,
            "max_height": null,
            "max_width": null,
            "min_height": null,
            "min_width": null,
            "object_fit": null,
            "object_position": null,
            "order": null,
            "overflow": null,
            "overflow_x": null,
            "overflow_y": null,
            "padding": null,
            "right": null,
            "top": null,
            "visibility": null,
            "width": null
          }
        },
        "37e61e591dff40b9a0747ea061d7e016": {
          "model_module": "@jupyter-widgets/controls",
          "model_name": "ProgressStyleModel",
          "model_module_version": "1.5.0",
          "state": {
            "_model_module": "@jupyter-widgets/controls",
            "_model_module_version": "1.5.0",
            "_model_name": "ProgressStyleModel",
            "_view_count": null,
            "_view_module": "@jupyter-widgets/base",
            "_view_module_version": "1.2.0",
            "_view_name": "StyleView",
            "bar_color": null,
            "description_width": ""
          }
        },
        "bea7b30b8b874d9ebdcce859999a77cb": {
          "model_module": "@jupyter-widgets/base",
          "model_name": "LayoutModel",
          "model_module_version": "1.2.0",
          "state": {
            "_model_module": "@jupyter-widgets/base",
            "_model_module_version": "1.2.0",
            "_model_name": "LayoutModel",
            "_view_count": null,
            "_view_module": "@jupyter-widgets/base",
            "_view_module_version": "1.2.0",
            "_view_name": "LayoutView",
            "align_content": null,
            "align_items": null,
            "align_self": null,
            "border": null,
            "bottom": null,
            "display": null,
            "flex": null,
            "flex_flow": null,
            "grid_area": null,
            "grid_auto_columns": null,
            "grid_auto_flow": null,
            "grid_auto_rows": null,
            "grid_column": null,
            "grid_gap": null,
            "grid_row": null,
            "grid_template_areas": null,
            "grid_template_columns": null,
            "grid_template_rows": null,
            "height": null,
            "justify_content": null,
            "justify_items": null,
            "left": null,
            "margin": null,
            "max_height": null,
            "max_width": null,
            "min_height": null,
            "min_width": null,
            "object_fit": null,
            "object_position": null,
            "order": null,
            "overflow": null,
            "overflow_x": null,
            "overflow_y": null,
            "padding": null,
            "right": null,
            "top": null,
            "visibility": null,
            "width": null
          }
        },
        "1aa92d3c92cd46df93a69fdc28faa26f": {
          "model_module": "@jupyter-widgets/controls",
          "model_name": "DescriptionStyleModel",
          "model_module_version": "1.5.0",
          "state": {
            "_model_module": "@jupyter-widgets/controls",
            "_model_module_version": "1.5.0",
            "_model_name": "DescriptionStyleModel",
            "_view_count": null,
            "_view_module": "@jupyter-widgets/base",
            "_view_module_version": "1.2.0",
            "_view_name": "StyleView",
            "description_width": ""
          }
        },
        "3c5d549cf4054e58a07366653873f70e": {
          "model_module": "@jupyter-widgets/controls",
          "model_name": "HBoxModel",
          "model_module_version": "1.5.0",
          "state": {
            "_dom_classes": [],
            "_model_module": "@jupyter-widgets/controls",
            "_model_module_version": "1.5.0",
            "_model_name": "HBoxModel",
            "_view_count": null,
            "_view_module": "@jupyter-widgets/controls",
            "_view_module_version": "1.5.0",
            "_view_name": "HBoxView",
            "box_style": "",
            "children": [
              "IPY_MODEL_1ab5aceeb0ad45449288ea6731615764",
              "IPY_MODEL_7c9fd875188243e7943d221ff350cca5",
              "IPY_MODEL_2fe9a0387116407b9b62ffd6db81ed78"
            ],
            "layout": "IPY_MODEL_d810fc67c96548d7b7d7a7d30551361c"
          }
        },
        "1ab5aceeb0ad45449288ea6731615764": {
          "model_module": "@jupyter-widgets/controls",
          "model_name": "HTMLModel",
          "model_module_version": "1.5.0",
          "state": {
            "_dom_classes": [],
            "_model_module": "@jupyter-widgets/controls",
            "_model_module_version": "1.5.0",
            "_model_name": "HTMLModel",
            "_view_count": null,
            "_view_module": "@jupyter-widgets/controls",
            "_view_module_version": "1.5.0",
            "_view_name": "HTMLView",
            "description": "",
            "description_tooltip": null,
            "layout": "IPY_MODEL_685f5f9367ac4baebe9b618f34035009",
            "placeholder": "​",
            "style": "IPY_MODEL_4e3acd91a9f844d18e1d32ab1c80d7f4",
            "value": "100%"
          }
        },
        "7c9fd875188243e7943d221ff350cca5": {
          "model_module": "@jupyter-widgets/controls",
          "model_name": "FloatProgressModel",
          "model_module_version": "1.5.0",
          "state": {
            "_dom_classes": [],
            "_model_module": "@jupyter-widgets/controls",
            "_model_module_version": "1.5.0",
            "_model_name": "FloatProgressModel",
            "_view_count": null,
            "_view_module": "@jupyter-widgets/controls",
            "_view_module_version": "1.5.0",
            "_view_name": "ProgressView",
            "bar_style": "success",
            "description": "",
            "description_tooltip": null,
            "layout": "IPY_MODEL_b44c7a53f14345c7971194978b059b6c",
            "max": 28881,
            "min": 0,
            "orientation": "horizontal",
            "style": "IPY_MODEL_9a8c933491b5454f834feb326aa5ecca",
            "value": 28881
          }
        },
        "2fe9a0387116407b9b62ffd6db81ed78": {
          "model_module": "@jupyter-widgets/controls",
          "model_name": "HTMLModel",
          "model_module_version": "1.5.0",
          "state": {
            "_dom_classes": [],
            "_model_module": "@jupyter-widgets/controls",
            "_model_module_version": "1.5.0",
            "_model_name": "HTMLModel",
            "_view_count": null,
            "_view_module": "@jupyter-widgets/controls",
            "_view_module_version": "1.5.0",
            "_view_name": "HTMLView",
            "description": "",
            "description_tooltip": null,
            "layout": "IPY_MODEL_09d33b2a40414bdeaff5557cc3ed23ff",
            "placeholder": "​",
            "style": "IPY_MODEL_f0a6fb78f14d4ee3936d0241b043b000",
            "value": " 28881/28881 [00:00&lt;00:00, 665921.01it/s]"
          }
        },
        "d810fc67c96548d7b7d7a7d30551361c": {
          "model_module": "@jupyter-widgets/base",
          "model_name": "LayoutModel",
          "model_module_version": "1.2.0",
          "state": {
            "_model_module": "@jupyter-widgets/base",
            "_model_module_version": "1.2.0",
            "_model_name": "LayoutModel",
            "_view_count": null,
            "_view_module": "@jupyter-widgets/base",
            "_view_module_version": "1.2.0",
            "_view_name": "LayoutView",
            "align_content": null,
            "align_items": null,
            "align_self": null,
            "border": null,
            "bottom": null,
            "display": null,
            "flex": null,
            "flex_flow": null,
            "grid_area": null,
            "grid_auto_columns": null,
            "grid_auto_flow": null,
            "grid_auto_rows": null,
            "grid_column": null,
            "grid_gap": null,
            "grid_row": null,
            "grid_template_areas": null,
            "grid_template_columns": null,
            "grid_template_rows": null,
            "height": null,
            "justify_content": null,
            "justify_items": null,
            "left": null,
            "margin": null,
            "max_height": null,
            "max_width": null,
            "min_height": null,
            "min_width": null,
            "object_fit": null,
            "object_position": null,
            "order": null,
            "overflow": null,
            "overflow_x": null,
            "overflow_y": null,
            "padding": null,
            "right": null,
            "top": null,
            "visibility": null,
            "width": null
          }
        },
        "685f5f9367ac4baebe9b618f34035009": {
          "model_module": "@jupyter-widgets/base",
          "model_name": "LayoutModel",
          "model_module_version": "1.2.0",
          "state": {
            "_model_module": "@jupyter-widgets/base",
            "_model_module_version": "1.2.0",
            "_model_name": "LayoutModel",
            "_view_count": null,
            "_view_module": "@jupyter-widgets/base",
            "_view_module_version": "1.2.0",
            "_view_name": "LayoutView",
            "align_content": null,
            "align_items": null,
            "align_self": null,
            "border": null,
            "bottom": null,
            "display": null,
            "flex": null,
            "flex_flow": null,
            "grid_area": null,
            "grid_auto_columns": null,
            "grid_auto_flow": null,
            "grid_auto_rows": null,
            "grid_column": null,
            "grid_gap": null,
            "grid_row": null,
            "grid_template_areas": null,
            "grid_template_columns": null,
            "grid_template_rows": null,
            "height": null,
            "justify_content": null,
            "justify_items": null,
            "left": null,
            "margin": null,
            "max_height": null,
            "max_width": null,
            "min_height": null,
            "min_width": null,
            "object_fit": null,
            "object_position": null,
            "order": null,
            "overflow": null,
            "overflow_x": null,
            "overflow_y": null,
            "padding": null,
            "right": null,
            "top": null,
            "visibility": null,
            "width": null
          }
        },
        "4e3acd91a9f844d18e1d32ab1c80d7f4": {
          "model_module": "@jupyter-widgets/controls",
          "model_name": "DescriptionStyleModel",
          "model_module_version": "1.5.0",
          "state": {
            "_model_module": "@jupyter-widgets/controls",
            "_model_module_version": "1.5.0",
            "_model_name": "DescriptionStyleModel",
            "_view_count": null,
            "_view_module": "@jupyter-widgets/base",
            "_view_module_version": "1.2.0",
            "_view_name": "StyleView",
            "description_width": ""
          }
        },
        "b44c7a53f14345c7971194978b059b6c": {
          "model_module": "@jupyter-widgets/base",
          "model_name": "LayoutModel",
          "model_module_version": "1.2.0",
          "state": {
            "_model_module": "@jupyter-widgets/base",
            "_model_module_version": "1.2.0",
            "_model_name": "LayoutModel",
            "_view_count": null,
            "_view_module": "@jupyter-widgets/base",
            "_view_module_version": "1.2.0",
            "_view_name": "LayoutView",
            "align_content": null,
            "align_items": null,
            "align_self": null,
            "border": null,
            "bottom": null,
            "display": null,
            "flex": null,
            "flex_flow": null,
            "grid_area": null,
            "grid_auto_columns": null,
            "grid_auto_flow": null,
            "grid_auto_rows": null,
            "grid_column": null,
            "grid_gap": null,
            "grid_row": null,
            "grid_template_areas": null,
            "grid_template_columns": null,
            "grid_template_rows": null,
            "height": null,
            "justify_content": null,
            "justify_items": null,
            "left": null,
            "margin": null,
            "max_height": null,
            "max_width": null,
            "min_height": null,
            "min_width": null,
            "object_fit": null,
            "object_position": null,
            "order": null,
            "overflow": null,
            "overflow_x": null,
            "overflow_y": null,
            "padding": null,
            "right": null,
            "top": null,
            "visibility": null,
            "width": null
          }
        },
        "9a8c933491b5454f834feb326aa5ecca": {
          "model_module": "@jupyter-widgets/controls",
          "model_name": "ProgressStyleModel",
          "model_module_version": "1.5.0",
          "state": {
            "_model_module": "@jupyter-widgets/controls",
            "_model_module_version": "1.5.0",
            "_model_name": "ProgressStyleModel",
            "_view_count": null,
            "_view_module": "@jupyter-widgets/base",
            "_view_module_version": "1.2.0",
            "_view_name": "StyleView",
            "bar_color": null,
            "description_width": ""
          }
        },
        "09d33b2a40414bdeaff5557cc3ed23ff": {
          "model_module": "@jupyter-widgets/base",
          "model_name": "LayoutModel",
          "model_module_version": "1.2.0",
          "state": {
            "_model_module": "@jupyter-widgets/base",
            "_model_module_version": "1.2.0",
            "_model_name": "LayoutModel",
            "_view_count": null,
            "_view_module": "@jupyter-widgets/base",
            "_view_module_version": "1.2.0",
            "_view_name": "LayoutView",
            "align_content": null,
            "align_items": null,
            "align_self": null,
            "border": null,
            "bottom": null,
            "display": null,
            "flex": null,
            "flex_flow": null,
            "grid_area": null,
            "grid_auto_columns": null,
            "grid_auto_flow": null,
            "grid_auto_rows": null,
            "grid_column": null,
            "grid_gap": null,
            "grid_row": null,
            "grid_template_areas": null,
            "grid_template_columns": null,
            "grid_template_rows": null,
            "height": null,
            "justify_content": null,
            "justify_items": null,
            "left": null,
            "margin": null,
            "max_height": null,
            "max_width": null,
            "min_height": null,
            "min_width": null,
            "object_fit": null,
            "object_position": null,
            "order": null,
            "overflow": null,
            "overflow_x": null,
            "overflow_y": null,
            "padding": null,
            "right": null,
            "top": null,
            "visibility": null,
            "width": null
          }
        },
        "f0a6fb78f14d4ee3936d0241b043b000": {
          "model_module": "@jupyter-widgets/controls",
          "model_name": "DescriptionStyleModel",
          "model_module_version": "1.5.0",
          "state": {
            "_model_module": "@jupyter-widgets/controls",
            "_model_module_version": "1.5.0",
            "_model_name": "DescriptionStyleModel",
            "_view_count": null,
            "_view_module": "@jupyter-widgets/base",
            "_view_module_version": "1.2.0",
            "_view_name": "StyleView",
            "description_width": ""
          }
        },
        "be8372c6017546d8920ad789e8b7f8a5": {
          "model_module": "@jupyter-widgets/controls",
          "model_name": "HBoxModel",
          "model_module_version": "1.5.0",
          "state": {
            "_dom_classes": [],
            "_model_module": "@jupyter-widgets/controls",
            "_model_module_version": "1.5.0",
            "_model_name": "HBoxModel",
            "_view_count": null,
            "_view_module": "@jupyter-widgets/controls",
            "_view_module_version": "1.5.0",
            "_view_name": "HBoxView",
            "box_style": "",
            "children": [
              "IPY_MODEL_b0c594fc6be948d288458dd6c4dcb8c2",
              "IPY_MODEL_322fe5accf5a4a1d99cb76dac252d490",
              "IPY_MODEL_1d26e4d3ca284373859813eacc277ed8"
            ],
            "layout": "IPY_MODEL_2be310dea90f48be8d06b5777d2f2ee8"
          }
        },
        "b0c594fc6be948d288458dd6c4dcb8c2": {
          "model_module": "@jupyter-widgets/controls",
          "model_name": "HTMLModel",
          "model_module_version": "1.5.0",
          "state": {
            "_dom_classes": [],
            "_model_module": "@jupyter-widgets/controls",
            "_model_module_version": "1.5.0",
            "_model_name": "HTMLModel",
            "_view_count": null,
            "_view_module": "@jupyter-widgets/controls",
            "_view_module_version": "1.5.0",
            "_view_name": "HTMLView",
            "description": "",
            "description_tooltip": null,
            "layout": "IPY_MODEL_48fc61e1cbc4492eb955dc8c767308eb",
            "placeholder": "​",
            "style": "IPY_MODEL_29bf1f75858b4009bed0add9c708fead",
            "value": "100%"
          }
        },
        "322fe5accf5a4a1d99cb76dac252d490": {
          "model_module": "@jupyter-widgets/controls",
          "model_name": "FloatProgressModel",
          "model_module_version": "1.5.0",
          "state": {
            "_dom_classes": [],
            "_model_module": "@jupyter-widgets/controls",
            "_model_module_version": "1.5.0",
            "_model_name": "FloatProgressModel",
            "_view_count": null,
            "_view_module": "@jupyter-widgets/controls",
            "_view_module_version": "1.5.0",
            "_view_name": "ProgressView",
            "bar_style": "success",
            "description": "",
            "description_tooltip": null,
            "layout": "IPY_MODEL_367d9b541dfc4c2caa08572d9dae141b",
            "max": 1648877,
            "min": 0,
            "orientation": "horizontal",
            "style": "IPY_MODEL_22f5f6ca571d46b7b5358a18a9fdb38b",
            "value": 1648877
          }
        },
        "1d26e4d3ca284373859813eacc277ed8": {
          "model_module": "@jupyter-widgets/controls",
          "model_name": "HTMLModel",
          "model_module_version": "1.5.0",
          "state": {
            "_dom_classes": [],
            "_model_module": "@jupyter-widgets/controls",
            "_model_module_version": "1.5.0",
            "_model_name": "HTMLModel",
            "_view_count": null,
            "_view_module": "@jupyter-widgets/controls",
            "_view_module_version": "1.5.0",
            "_view_name": "HTMLView",
            "description": "",
            "description_tooltip": null,
            "layout": "IPY_MODEL_66182674b3ac43abace3e55339da5863",
            "placeholder": "​",
            "style": "IPY_MODEL_3cd0cb3122c54f4faed38549bd17e0e7",
            "value": " 1648877/1648877 [00:00&lt;00:00, 10483070.69it/s]"
          }
        },
        "2be310dea90f48be8d06b5777d2f2ee8": {
          "model_module": "@jupyter-widgets/base",
          "model_name": "LayoutModel",
          "model_module_version": "1.2.0",
          "state": {
            "_model_module": "@jupyter-widgets/base",
            "_model_module_version": "1.2.0",
            "_model_name": "LayoutModel",
            "_view_count": null,
            "_view_module": "@jupyter-widgets/base",
            "_view_module_version": "1.2.0",
            "_view_name": "LayoutView",
            "align_content": null,
            "align_items": null,
            "align_self": null,
            "border": null,
            "bottom": null,
            "display": null,
            "flex": null,
            "flex_flow": null,
            "grid_area": null,
            "grid_auto_columns": null,
            "grid_auto_flow": null,
            "grid_auto_rows": null,
            "grid_column": null,
            "grid_gap": null,
            "grid_row": null,
            "grid_template_areas": null,
            "grid_template_columns": null,
            "grid_template_rows": null,
            "height": null,
            "justify_content": null,
            "justify_items": null,
            "left": null,
            "margin": null,
            "max_height": null,
            "max_width": null,
            "min_height": null,
            "min_width": null,
            "object_fit": null,
            "object_position": null,
            "order": null,
            "overflow": null,
            "overflow_x": null,
            "overflow_y": null,
            "padding": null,
            "right": null,
            "top": null,
            "visibility": null,
            "width": null
          }
        },
        "48fc61e1cbc4492eb955dc8c767308eb": {
          "model_module": "@jupyter-widgets/base",
          "model_name": "LayoutModel",
          "model_module_version": "1.2.0",
          "state": {
            "_model_module": "@jupyter-widgets/base",
            "_model_module_version": "1.2.0",
            "_model_name": "LayoutModel",
            "_view_count": null,
            "_view_module": "@jupyter-widgets/base",
            "_view_module_version": "1.2.0",
            "_view_name": "LayoutView",
            "align_content": null,
            "align_items": null,
            "align_self": null,
            "border": null,
            "bottom": null,
            "display": null,
            "flex": null,
            "flex_flow": null,
            "grid_area": null,
            "grid_auto_columns": null,
            "grid_auto_flow": null,
            "grid_auto_rows": null,
            "grid_column": null,
            "grid_gap": null,
            "grid_row": null,
            "grid_template_areas": null,
            "grid_template_columns": null,
            "grid_template_rows": null,
            "height": null,
            "justify_content": null,
            "justify_items": null,
            "left": null,
            "margin": null,
            "max_height": null,
            "max_width": null,
            "min_height": null,
            "min_width": null,
            "object_fit": null,
            "object_position": null,
            "order": null,
            "overflow": null,
            "overflow_x": null,
            "overflow_y": null,
            "padding": null,
            "right": null,
            "top": null,
            "visibility": null,
            "width": null
          }
        },
        "29bf1f75858b4009bed0add9c708fead": {
          "model_module": "@jupyter-widgets/controls",
          "model_name": "DescriptionStyleModel",
          "model_module_version": "1.5.0",
          "state": {
            "_model_module": "@jupyter-widgets/controls",
            "_model_module_version": "1.5.0",
            "_model_name": "DescriptionStyleModel",
            "_view_count": null,
            "_view_module": "@jupyter-widgets/base",
            "_view_module_version": "1.2.0",
            "_view_name": "StyleView",
            "description_width": ""
          }
        },
        "367d9b541dfc4c2caa08572d9dae141b": {
          "model_module": "@jupyter-widgets/base",
          "model_name": "LayoutModel",
          "model_module_version": "1.2.0",
          "state": {
            "_model_module": "@jupyter-widgets/base",
            "_model_module_version": "1.2.0",
            "_model_name": "LayoutModel",
            "_view_count": null,
            "_view_module": "@jupyter-widgets/base",
            "_view_module_version": "1.2.0",
            "_view_name": "LayoutView",
            "align_content": null,
            "align_items": null,
            "align_self": null,
            "border": null,
            "bottom": null,
            "display": null,
            "flex": null,
            "flex_flow": null,
            "grid_area": null,
            "grid_auto_columns": null,
            "grid_auto_flow": null,
            "grid_auto_rows": null,
            "grid_column": null,
            "grid_gap": null,
            "grid_row": null,
            "grid_template_areas": null,
            "grid_template_columns": null,
            "grid_template_rows": null,
            "height": null,
            "justify_content": null,
            "justify_items": null,
            "left": null,
            "margin": null,
            "max_height": null,
            "max_width": null,
            "min_height": null,
            "min_width": null,
            "object_fit": null,
            "object_position": null,
            "order": null,
            "overflow": null,
            "overflow_x": null,
            "overflow_y": null,
            "padding": null,
            "right": null,
            "top": null,
            "visibility": null,
            "width": null
          }
        },
        "22f5f6ca571d46b7b5358a18a9fdb38b": {
          "model_module": "@jupyter-widgets/controls",
          "model_name": "ProgressStyleModel",
          "model_module_version": "1.5.0",
          "state": {
            "_model_module": "@jupyter-widgets/controls",
            "_model_module_version": "1.5.0",
            "_model_name": "ProgressStyleModel",
            "_view_count": null,
            "_view_module": "@jupyter-widgets/base",
            "_view_module_version": "1.2.0",
            "_view_name": "StyleView",
            "bar_color": null,
            "description_width": ""
          }
        },
        "66182674b3ac43abace3e55339da5863": {
          "model_module": "@jupyter-widgets/base",
          "model_name": "LayoutModel",
          "model_module_version": "1.2.0",
          "state": {
            "_model_module": "@jupyter-widgets/base",
            "_model_module_version": "1.2.0",
            "_model_name": "LayoutModel",
            "_view_count": null,
            "_view_module": "@jupyter-widgets/base",
            "_view_module_version": "1.2.0",
            "_view_name": "LayoutView",
            "align_content": null,
            "align_items": null,
            "align_self": null,
            "border": null,
            "bottom": null,
            "display": null,
            "flex": null,
            "flex_flow": null,
            "grid_area": null,
            "grid_auto_columns": null,
            "grid_auto_flow": null,
            "grid_auto_rows": null,
            "grid_column": null,
            "grid_gap": null,
            "grid_row": null,
            "grid_template_areas": null,
            "grid_template_columns": null,
            "grid_template_rows": null,
            "height": null,
            "justify_content": null,
            "justify_items": null,
            "left": null,
            "margin": null,
            "max_height": null,
            "max_width": null,
            "min_height": null,
            "min_width": null,
            "object_fit": null,
            "object_position": null,
            "order": null,
            "overflow": null,
            "overflow_x": null,
            "overflow_y": null,
            "padding": null,
            "right": null,
            "top": null,
            "visibility": null,
            "width": null
          }
        },
        "3cd0cb3122c54f4faed38549bd17e0e7": {
          "model_module": "@jupyter-widgets/controls",
          "model_name": "DescriptionStyleModel",
          "model_module_version": "1.5.0",
          "state": {
            "_model_module": "@jupyter-widgets/controls",
            "_model_module_version": "1.5.0",
            "_model_name": "DescriptionStyleModel",
            "_view_count": null,
            "_view_module": "@jupyter-widgets/base",
            "_view_module_version": "1.2.0",
            "_view_name": "StyleView",
            "description_width": ""
          }
        },
        "dd2e9f50dcea46409c6614463d7fcb58": {
          "model_module": "@jupyter-widgets/controls",
          "model_name": "HBoxModel",
          "model_module_version": "1.5.0",
          "state": {
            "_dom_classes": [],
            "_model_module": "@jupyter-widgets/controls",
            "_model_module_version": "1.5.0",
            "_model_name": "HBoxModel",
            "_view_count": null,
            "_view_module": "@jupyter-widgets/controls",
            "_view_module_version": "1.5.0",
            "_view_name": "HBoxView",
            "box_style": "",
            "children": [
              "IPY_MODEL_d42eca0f884c4fec88ae105d1c0117ec",
              "IPY_MODEL_4fe5f212664d4e97a9e4966b4e890258",
              "IPY_MODEL_57e9b0e18a64439e9bac495a68e758c8"
            ],
            "layout": "IPY_MODEL_f975ce58f6424924a7d0a62779cf0cc0"
          }
        },
        "d42eca0f884c4fec88ae105d1c0117ec": {
          "model_module": "@jupyter-widgets/controls",
          "model_name": "HTMLModel",
          "model_module_version": "1.5.0",
          "state": {
            "_dom_classes": [],
            "_model_module": "@jupyter-widgets/controls",
            "_model_module_version": "1.5.0",
            "_model_name": "HTMLModel",
            "_view_count": null,
            "_view_module": "@jupyter-widgets/controls",
            "_view_module_version": "1.5.0",
            "_view_name": "HTMLView",
            "description": "",
            "description_tooltip": null,
            "layout": "IPY_MODEL_4e3f6c7f05644a15b01ae947c415bbc6",
            "placeholder": "​",
            "style": "IPY_MODEL_a1766db796204a14addbe467c46149ad",
            "value": "100%"
          }
        },
        "4fe5f212664d4e97a9e4966b4e890258": {
          "model_module": "@jupyter-widgets/controls",
          "model_name": "FloatProgressModel",
          "model_module_version": "1.5.0",
          "state": {
            "_dom_classes": [],
            "_model_module": "@jupyter-widgets/controls",
            "_model_module_version": "1.5.0",
            "_model_name": "FloatProgressModel",
            "_view_count": null,
            "_view_module": "@jupyter-widgets/controls",
            "_view_module_version": "1.5.0",
            "_view_name": "ProgressView",
            "bar_style": "success",
            "description": "",
            "description_tooltip": null,
            "layout": "IPY_MODEL_8f6c0874e26c48ab9aeea7286577a9f4",
            "max": 4542,
            "min": 0,
            "orientation": "horizontal",
            "style": "IPY_MODEL_571108fa1251457abd748216d14a9b18",
            "value": 4542
          }
        },
        "57e9b0e18a64439e9bac495a68e758c8": {
          "model_module": "@jupyter-widgets/controls",
          "model_name": "HTMLModel",
          "model_module_version": "1.5.0",
          "state": {
            "_dom_classes": [],
            "_model_module": "@jupyter-widgets/controls",
            "_model_module_version": "1.5.0",
            "_model_name": "HTMLModel",
            "_view_count": null,
            "_view_module": "@jupyter-widgets/controls",
            "_view_module_version": "1.5.0",
            "_view_name": "HTMLView",
            "description": "",
            "description_tooltip": null,
            "layout": "IPY_MODEL_4f1598aa94894dcdbc8bebabd1ea811a",
            "placeholder": "​",
            "style": "IPY_MODEL_00659670ffe74dfdaada889a5071eb5b",
            "value": " 4542/4542 [00:00&lt;00:00, 171871.03it/s]"
          }
        },
        "f975ce58f6424924a7d0a62779cf0cc0": {
          "model_module": "@jupyter-widgets/base",
          "model_name": "LayoutModel",
          "model_module_version": "1.2.0",
          "state": {
            "_model_module": "@jupyter-widgets/base",
            "_model_module_version": "1.2.0",
            "_model_name": "LayoutModel",
            "_view_count": null,
            "_view_module": "@jupyter-widgets/base",
            "_view_module_version": "1.2.0",
            "_view_name": "LayoutView",
            "align_content": null,
            "align_items": null,
            "align_self": null,
            "border": null,
            "bottom": null,
            "display": null,
            "flex": null,
            "flex_flow": null,
            "grid_area": null,
            "grid_auto_columns": null,
            "grid_auto_flow": null,
            "grid_auto_rows": null,
            "grid_column": null,
            "grid_gap": null,
            "grid_row": null,
            "grid_template_areas": null,
            "grid_template_columns": null,
            "grid_template_rows": null,
            "height": null,
            "justify_content": null,
            "justify_items": null,
            "left": null,
            "margin": null,
            "max_height": null,
            "max_width": null,
            "min_height": null,
            "min_width": null,
            "object_fit": null,
            "object_position": null,
            "order": null,
            "overflow": null,
            "overflow_x": null,
            "overflow_y": null,
            "padding": null,
            "right": null,
            "top": null,
            "visibility": null,
            "width": null
          }
        },
        "4e3f6c7f05644a15b01ae947c415bbc6": {
          "model_module": "@jupyter-widgets/base",
          "model_name": "LayoutModel",
          "model_module_version": "1.2.0",
          "state": {
            "_model_module": "@jupyter-widgets/base",
            "_model_module_version": "1.2.0",
            "_model_name": "LayoutModel",
            "_view_count": null,
            "_view_module": "@jupyter-widgets/base",
            "_view_module_version": "1.2.0",
            "_view_name": "LayoutView",
            "align_content": null,
            "align_items": null,
            "align_self": null,
            "border": null,
            "bottom": null,
            "display": null,
            "flex": null,
            "flex_flow": null,
            "grid_area": null,
            "grid_auto_columns": null,
            "grid_auto_flow": null,
            "grid_auto_rows": null,
            "grid_column": null,
            "grid_gap": null,
            "grid_row": null,
            "grid_template_areas": null,
            "grid_template_columns": null,
            "grid_template_rows": null,
            "height": null,
            "justify_content": null,
            "justify_items": null,
            "left": null,
            "margin": null,
            "max_height": null,
            "max_width": null,
            "min_height": null,
            "min_width": null,
            "object_fit": null,
            "object_position": null,
            "order": null,
            "overflow": null,
            "overflow_x": null,
            "overflow_y": null,
            "padding": null,
            "right": null,
            "top": null,
            "visibility": null,
            "width": null
          }
        },
        "a1766db796204a14addbe467c46149ad": {
          "model_module": "@jupyter-widgets/controls",
          "model_name": "DescriptionStyleModel",
          "model_module_version": "1.5.0",
          "state": {
            "_model_module": "@jupyter-widgets/controls",
            "_model_module_version": "1.5.0",
            "_model_name": "DescriptionStyleModel",
            "_view_count": null,
            "_view_module": "@jupyter-widgets/base",
            "_view_module_version": "1.2.0",
            "_view_name": "StyleView",
            "description_width": ""
          }
        },
        "8f6c0874e26c48ab9aeea7286577a9f4": {
          "model_module": "@jupyter-widgets/base",
          "model_name": "LayoutModel",
          "model_module_version": "1.2.0",
          "state": {
            "_model_module": "@jupyter-widgets/base",
            "_model_module_version": "1.2.0",
            "_model_name": "LayoutModel",
            "_view_count": null,
            "_view_module": "@jupyter-widgets/base",
            "_view_module_version": "1.2.0",
            "_view_name": "LayoutView",
            "align_content": null,
            "align_items": null,
            "align_self": null,
            "border": null,
            "bottom": null,
            "display": null,
            "flex": null,
            "flex_flow": null,
            "grid_area": null,
            "grid_auto_columns": null,
            "grid_auto_flow": null,
            "grid_auto_rows": null,
            "grid_column": null,
            "grid_gap": null,
            "grid_row": null,
            "grid_template_areas": null,
            "grid_template_columns": null,
            "grid_template_rows": null,
            "height": null,
            "justify_content": null,
            "justify_items": null,
            "left": null,
            "margin": null,
            "max_height": null,
            "max_width": null,
            "min_height": null,
            "min_width": null,
            "object_fit": null,
            "object_position": null,
            "order": null,
            "overflow": null,
            "overflow_x": null,
            "overflow_y": null,
            "padding": null,
            "right": null,
            "top": null,
            "visibility": null,
            "width": null
          }
        },
        "571108fa1251457abd748216d14a9b18": {
          "model_module": "@jupyter-widgets/controls",
          "model_name": "ProgressStyleModel",
          "model_module_version": "1.5.0",
          "state": {
            "_model_module": "@jupyter-widgets/controls",
            "_model_module_version": "1.5.0",
            "_model_name": "ProgressStyleModel",
            "_view_count": null,
            "_view_module": "@jupyter-widgets/base",
            "_view_module_version": "1.2.0",
            "_view_name": "StyleView",
            "bar_color": null,
            "description_width": ""
          }
        },
        "4f1598aa94894dcdbc8bebabd1ea811a": {
          "model_module": "@jupyter-widgets/base",
          "model_name": "LayoutModel",
          "model_module_version": "1.2.0",
          "state": {
            "_model_module": "@jupyter-widgets/base",
            "_model_module_version": "1.2.0",
            "_model_name": "LayoutModel",
            "_view_count": null,
            "_view_module": "@jupyter-widgets/base",
            "_view_module_version": "1.2.0",
            "_view_name": "LayoutView",
            "align_content": null,
            "align_items": null,
            "align_self": null,
            "border": null,
            "bottom": null,
            "display": null,
            "flex": null,
            "flex_flow": null,
            "grid_area": null,
            "grid_auto_columns": null,
            "grid_auto_flow": null,
            "grid_auto_rows": null,
            "grid_column": null,
            "grid_gap": null,
            "grid_row": null,
            "grid_template_areas": null,
            "grid_template_columns": null,
            "grid_template_rows": null,
            "height": null,
            "justify_content": null,
            "justify_items": null,
            "left": null,
            "margin": null,
            "max_height": null,
            "max_width": null,
            "min_height": null,
            "min_width": null,
            "object_fit": null,
            "object_position": null,
            "order": null,
            "overflow": null,
            "overflow_x": null,
            "overflow_y": null,
            "padding": null,
            "right": null,
            "top": null,
            "visibility": null,
            "width": null
          }
        },
        "00659670ffe74dfdaada889a5071eb5b": {
          "model_module": "@jupyter-widgets/controls",
          "model_name": "DescriptionStyleModel",
          "model_module_version": "1.5.0",
          "state": {
            "_model_module": "@jupyter-widgets/controls",
            "_model_module_version": "1.5.0",
            "_model_name": "DescriptionStyleModel",
            "_view_count": null,
            "_view_module": "@jupyter-widgets/base",
            "_view_module_version": "1.2.0",
            "_view_name": "StyleView",
            "description_width": ""
          }
        }
      }
    }
  },
  "cells": [
    {
      "cell_type": "markdown",
      "metadata": {
        "id": "mO_ynQ1UY7KB"
      },
      "source": [
        "# Deep Learning\n",
        "# DL03 Red neuronales con PyTorch\n",
        "\n",
        "Las redes de aprendizaje profundo tienden a ser masivas con docenas o cientos de capas, de ahí proviene el término \"profundo\". Puede construir una de estas redes profundas utilizando solo matrices de peso como lo hicimos anteriormente, pero en general es muy engorroso y difícil de implementar. PyTorch tiene un buen módulo `nn` que proporciona una buena manera de construir eficientemente grandes redes neuronales."
      ]
    },
    {
      "cell_type": "code",
      "metadata": {
        "id": "9iCgaYM3Y7KH"
      },
      "source": [
        "# Importemos las librerias necesarias.\n",
        "\n",
        "%matplotlib inline\n",
        "%config InlineBackend.figure_format = 'retina'\n",
        "\n",
        "import numpy as np\n",
        "import torch\n",
        "\n",
        "#import helper\n",
        "\n",
        "import matplotlib.pyplot as plt"
      ],
      "execution_count": null,
      "outputs": []
    },
    {
      "cell_type": "markdown",
      "metadata": {
        "id": "pBOg1_krFaTH"
      },
      "source": [
        "### El dataset MNIST"
      ]
    },
    {
      "cell_type": "markdown",
      "metadata": {
        "id": "SZMJgliRY7KI"
      },
      "source": [
        "Ahora vamos a construir una red más grande que pueda resolver un problema difícil. Identificaremos el texto en una imagen. Aquí usaremos el conjunto de datos __MNIST__ que consta de dígitos escritos a mano en escala de grises. Cada imagen es de 28x28 píxeles, puede ver una muestra a continuación:\n",
        "\n",
        "![MNIST](https://drive.google.com/uc?export=view&id=1YzIWb0FariLWdmpoy7dC0OzObAlZibBZ)\n",
        "\n",
        "\n",
        "Nuestro objetivo es construir una red neuronal que pueda tomar una de estas imágenes y predecir el dígito en la imagen. Primero, necesitamos obtener nuestro conjunto de datos. Esto se proporciona a través del paquete `torchvision`. El siguiente código descargará el conjunto de datos MNIST, luego creará conjuntos de datos de *entrenamiento* y prueba para nosotros. No se preocupe demasiado por los detalles aquí, aprenderá más sobre esto más adelante.\n",
        "\n"
      ]
    },
    {
      "cell_type": "markdown",
      "metadata": {
        "id": "kpG8SACtFgzL"
      },
      "source": [
        "### Cargando el dataset.\n",
        "\n",
        "Vamos a cargar el dataset utilizando funcionalidades de Pytorch. Particularmente con `DataLoader` podemos definir el `batch_size` y `shuffle`."
      ]
    },
    {
      "cell_type": "code",
      "metadata": {
        "id": "hmu6GDf9Y7KI",
        "colab": {
          "base_uri": "https://localhost:8080/",
          "height": 423,
          "referenced_widgets": [
            "6793fe7bc1c9464482d00af2c442e5bb",
            "4557e673944c4e46a8c0620eb9260c3c",
            "1e3bcf38a4ab40798d0ba63859322d7a",
            "cba19cb0d95c4bc88eae9e902fde273c",
            "f74f36da871a46ca9624273beb501b48",
            "ce54e1bfe629417f91f4ff3c01ea37fe",
            "66eec23daa844bcb9d4a5b5f76df0e9b",
            "bd9c90c9f49e4af4ae9ff3deed6a98a6",
            "37e61e591dff40b9a0747ea061d7e016",
            "bea7b30b8b874d9ebdcce859999a77cb",
            "1aa92d3c92cd46df93a69fdc28faa26f",
            "3c5d549cf4054e58a07366653873f70e",
            "1ab5aceeb0ad45449288ea6731615764",
            "7c9fd875188243e7943d221ff350cca5",
            "2fe9a0387116407b9b62ffd6db81ed78",
            "d810fc67c96548d7b7d7a7d30551361c",
            "685f5f9367ac4baebe9b618f34035009",
            "4e3acd91a9f844d18e1d32ab1c80d7f4",
            "b44c7a53f14345c7971194978b059b6c",
            "9a8c933491b5454f834feb326aa5ecca",
            "09d33b2a40414bdeaff5557cc3ed23ff",
            "f0a6fb78f14d4ee3936d0241b043b000",
            "be8372c6017546d8920ad789e8b7f8a5",
            "b0c594fc6be948d288458dd6c4dcb8c2",
            "322fe5accf5a4a1d99cb76dac252d490",
            "1d26e4d3ca284373859813eacc277ed8",
            "2be310dea90f48be8d06b5777d2f2ee8",
            "48fc61e1cbc4492eb955dc8c767308eb",
            "29bf1f75858b4009bed0add9c708fead",
            "367d9b541dfc4c2caa08572d9dae141b",
            "22f5f6ca571d46b7b5358a18a9fdb38b",
            "66182674b3ac43abace3e55339da5863",
            "3cd0cb3122c54f4faed38549bd17e0e7",
            "dd2e9f50dcea46409c6614463d7fcb58",
            "d42eca0f884c4fec88ae105d1c0117ec",
            "4fe5f212664d4e97a9e4966b4e890258",
            "57e9b0e18a64439e9bac495a68e758c8",
            "f975ce58f6424924a7d0a62779cf0cc0",
            "4e3f6c7f05644a15b01ae947c415bbc6",
            "a1766db796204a14addbe467c46149ad",
            "8f6c0874e26c48ab9aeea7286577a9f4",
            "571108fa1251457abd748216d14a9b18",
            "4f1598aa94894dcdbc8bebabd1ea811a",
            "00659670ffe74dfdaada889a5071eb5b"
          ]
        },
        "outputId": "c89cc8e4-3dad-4c78-a087-96e5dc7cea79"
      },
      "source": [
        "from six.moves import urllib\n",
        "opener = urllib.request.build_opener()\n",
        "opener.addheaders = [('User-agent', 'Mozilla/5.0')]\n",
        "urllib.request.install_opener(opener)\n",
        "from torchvision import datasets, transforms\n",
        "\n",
        "# Aqui estamos normalizando la data.\n",
        "transform = transforms.Compose([transforms.ToTensor(),\n",
        "                              transforms.Normalize((0.5,), (0.5,)),\n",
        "                              ])\n",
        "# Aqui estamos bajando los datos\n",
        "trainset = datasets.MNIST('~/.pytorch/MNIST_data/', download=True, train=True, transform=transform)\n",
        "# Contiene grupos de 64.\n",
        "trainloader = torch.utils.data.DataLoader(trainset, batch_size=64, shuffle=True)"
      ],
      "execution_count": null,
      "outputs": [
        {
          "output_type": "stream",
          "name": "stdout",
          "text": [
            "Downloading http://yann.lecun.com/exdb/mnist/train-images-idx3-ubyte.gz\n",
            "Downloading http://yann.lecun.com/exdb/mnist/train-images-idx3-ubyte.gz to /root/.pytorch/MNIST_data/MNIST/raw/train-images-idx3-ubyte.gz\n"
          ]
        },
        {
          "output_type": "display_data",
          "data": {
            "text/plain": [
              "  0%|          | 0/9912422 [00:00<?, ?it/s]"
            ],
            "application/vnd.jupyter.widget-view+json": {
              "version_major": 2,
              "version_minor": 0,
              "model_id": "6793fe7bc1c9464482d00af2c442e5bb"
            }
          },
          "metadata": {}
        },
        {
          "output_type": "stream",
          "name": "stdout",
          "text": [
            "Extracting /root/.pytorch/MNIST_data/MNIST/raw/train-images-idx3-ubyte.gz to /root/.pytorch/MNIST_data/MNIST/raw\n",
            "\n",
            "Downloading http://yann.lecun.com/exdb/mnist/train-labels-idx1-ubyte.gz\n",
            "Downloading http://yann.lecun.com/exdb/mnist/train-labels-idx1-ubyte.gz to /root/.pytorch/MNIST_data/MNIST/raw/train-labels-idx1-ubyte.gz\n"
          ]
        },
        {
          "output_type": "display_data",
          "data": {
            "text/plain": [
              "  0%|          | 0/28881 [00:00<?, ?it/s]"
            ],
            "application/vnd.jupyter.widget-view+json": {
              "version_major": 2,
              "version_minor": 0,
              "model_id": "3c5d549cf4054e58a07366653873f70e"
            }
          },
          "metadata": {}
        },
        {
          "output_type": "stream",
          "name": "stdout",
          "text": [
            "Extracting /root/.pytorch/MNIST_data/MNIST/raw/train-labels-idx1-ubyte.gz to /root/.pytorch/MNIST_data/MNIST/raw\n",
            "\n",
            "Downloading http://yann.lecun.com/exdb/mnist/t10k-images-idx3-ubyte.gz\n",
            "Downloading http://yann.lecun.com/exdb/mnist/t10k-images-idx3-ubyte.gz to /root/.pytorch/MNIST_data/MNIST/raw/t10k-images-idx3-ubyte.gz\n"
          ]
        },
        {
          "output_type": "display_data",
          "data": {
            "text/plain": [
              "  0%|          | 0/1648877 [00:00<?, ?it/s]"
            ],
            "application/vnd.jupyter.widget-view+json": {
              "version_major": 2,
              "version_minor": 0,
              "model_id": "be8372c6017546d8920ad789e8b7f8a5"
            }
          },
          "metadata": {}
        },
        {
          "output_type": "stream",
          "name": "stdout",
          "text": [
            "Extracting /root/.pytorch/MNIST_data/MNIST/raw/t10k-images-idx3-ubyte.gz to /root/.pytorch/MNIST_data/MNIST/raw\n",
            "\n",
            "Downloading http://yann.lecun.com/exdb/mnist/t10k-labels-idx1-ubyte.gz\n",
            "Downloading http://yann.lecun.com/exdb/mnist/t10k-labels-idx1-ubyte.gz to /root/.pytorch/MNIST_data/MNIST/raw/t10k-labels-idx1-ubyte.gz\n"
          ]
        },
        {
          "output_type": "display_data",
          "data": {
            "text/plain": [
              "  0%|          | 0/4542 [00:00<?, ?it/s]"
            ],
            "application/vnd.jupyter.widget-view+json": {
              "version_major": 2,
              "version_minor": 0,
              "model_id": "dd2e9f50dcea46409c6614463d7fcb58"
            }
          },
          "metadata": {}
        },
        {
          "output_type": "stream",
          "name": "stdout",
          "text": [
            "Extracting /root/.pytorch/MNIST_data/MNIST/raw/t10k-labels-idx1-ubyte.gz to /root/.pytorch/MNIST_data/MNIST/raw\n",
            "\n"
          ]
        }
      ]
    },
    {
      "cell_type": "markdown",
      "source": [
        "`Compose` crea una serie de transformaciones para preparar el conjunto de datos. `Torchvision` lee conjuntos de datos en `PILImage` (formato de imágenes de Python). `ToTensor` convierte la imagen `PIL` del rango $[0, 255]$ a un `FloatTensor` de forma $(C x H x W)$ con rango $[0.0, 1.0]$. Luego volvemos a normalizar la entrada a $[-1, 1]$ según la siguiente fórmula con $\\mu = \\sigma = 0.5$."
      ],
      "metadata": {
        "id": "MJAcgYPCbgPZ"
      }
    },
    {
      "cell_type": "code",
      "source": [
        "# Obtenemos un objeto que es iterable con iter()\n",
        "type(trainloader)"
      ],
      "metadata": {
        "colab": {
          "base_uri": "https://localhost:8080/"
        },
        "id": "w5eh1MbUblz8",
        "outputId": "e5e29023-772d-414a-c26c-2abcf93c646b"
      },
      "execution_count": null,
      "outputs": [
        {
          "output_type": "execute_result",
          "data": {
            "text/plain": [
              "torch.utils.data.dataloader.DataLoader"
            ]
          },
          "metadata": {},
          "execution_count": 3
        }
      ]
    },
    {
      "cell_type": "code",
      "source": [
        "# DECONSTRUCCION a la antigua. Luego mostraremos otra forma\n",
        "# Imprimimos un lote de 64 imágenes\n",
        "for image, label in trainloader:\n",
        "    print(image)\n",
        "    print(label)\n",
        "    # Nos guardamos el primer tensor\n",
        "    i = image[0]\n",
        "    l = label[0]\n",
        "    break\n",
        "print(i.shape) # Atención que el tensor tiene 3 dimensiones\n",
        "print(i.view(28,28)) # Lo reformateamos a dos dimensiones para poder visualizarlo\n",
        "print('Label = ', l.item())\n",
        "#plt.imshow(i.view(28,28)) # o de la siguiente forma\n",
        "plt.imshow(i[0, :, :])\n",
        "plt.title(\"Plot 2D array\")\n",
        "plt.show()"
      ],
      "metadata": {
        "colab": {
          "base_uri": "https://localhost:8080/",
          "height": 1000
        },
        "id": "LjvrwD0Rbqla",
        "outputId": "da260200-a166-4948-bb81-26a362299f6d"
      },
      "execution_count": null,
      "outputs": [
        {
          "output_type": "stream",
          "name": "stdout",
          "text": [
            "tensor([[[[-1., -1., -1.,  ..., -1., -1., -1.],\n",
            "          [-1., -1., -1.,  ..., -1., -1., -1.],\n",
            "          [-1., -1., -1.,  ..., -1., -1., -1.],\n",
            "          ...,\n",
            "          [-1., -1., -1.,  ..., -1., -1., -1.],\n",
            "          [-1., -1., -1.,  ..., -1., -1., -1.],\n",
            "          [-1., -1., -1.,  ..., -1., -1., -1.]]],\n",
            "\n",
            "\n",
            "        [[[-1., -1., -1.,  ..., -1., -1., -1.],\n",
            "          [-1., -1., -1.,  ..., -1., -1., -1.],\n",
            "          [-1., -1., -1.,  ..., -1., -1., -1.],\n",
            "          ...,\n",
            "          [-1., -1., -1.,  ..., -1., -1., -1.],\n",
            "          [-1., -1., -1.,  ..., -1., -1., -1.],\n",
            "          [-1., -1., -1.,  ..., -1., -1., -1.]]],\n",
            "\n",
            "\n",
            "        [[[-1., -1., -1.,  ..., -1., -1., -1.],\n",
            "          [-1., -1., -1.,  ..., -1., -1., -1.],\n",
            "          [-1., -1., -1.,  ..., -1., -1., -1.],\n",
            "          ...,\n",
            "          [-1., -1., -1.,  ..., -1., -1., -1.],\n",
            "          [-1., -1., -1.,  ..., -1., -1., -1.],\n",
            "          [-1., -1., -1.,  ..., -1., -1., -1.]]],\n",
            "\n",
            "\n",
            "        ...,\n",
            "\n",
            "\n",
            "        [[[-1., -1., -1.,  ..., -1., -1., -1.],\n",
            "          [-1., -1., -1.,  ..., -1., -1., -1.],\n",
            "          [-1., -1., -1.,  ..., -1., -1., -1.],\n",
            "          ...,\n",
            "          [-1., -1., -1.,  ..., -1., -1., -1.],\n",
            "          [-1., -1., -1.,  ..., -1., -1., -1.],\n",
            "          [-1., -1., -1.,  ..., -1., -1., -1.]]],\n",
            "\n",
            "\n",
            "        [[[-1., -1., -1.,  ..., -1., -1., -1.],\n",
            "          [-1., -1., -1.,  ..., -1., -1., -1.],\n",
            "          [-1., -1., -1.,  ..., -1., -1., -1.],\n",
            "          ...,\n",
            "          [-1., -1., -1.,  ..., -1., -1., -1.],\n",
            "          [-1., -1., -1.,  ..., -1., -1., -1.],\n",
            "          [-1., -1., -1.,  ..., -1., -1., -1.]]],\n",
            "\n",
            "\n",
            "        [[[-1., -1., -1.,  ..., -1., -1., -1.],\n",
            "          [-1., -1., -1.,  ..., -1., -1., -1.],\n",
            "          [-1., -1., -1.,  ..., -1., -1., -1.],\n",
            "          ...,\n",
            "          [-1., -1., -1.,  ..., -1., -1., -1.],\n",
            "          [-1., -1., -1.,  ..., -1., -1., -1.],\n",
            "          [-1., -1., -1.,  ..., -1., -1., -1.]]]])\n",
            "tensor([0, 0, 0, 3, 0, 7, 3, 9, 3, 5, 2, 8, 7, 5, 4, 3, 1, 2, 7, 5, 4, 5, 3, 2,\n",
            "        4, 8, 5, 1, 1, 4, 8, 9, 7, 9, 0, 6, 4, 3, 8, 7, 3, 8, 3, 4, 8, 6, 3, 5,\n",
            "        4, 1, 0, 0, 8, 5, 7, 1, 7, 3, 4, 2, 0, 7, 4, 1])\n",
            "torch.Size([1, 28, 28])\n",
            "tensor([[-1.0000, -1.0000, -1.0000, -1.0000, -1.0000, -1.0000, -1.0000, -1.0000,\n",
            "         -1.0000, -1.0000, -1.0000, -1.0000, -1.0000, -1.0000, -1.0000, -1.0000,\n",
            "         -1.0000, -1.0000, -1.0000, -1.0000, -1.0000, -1.0000, -1.0000, -1.0000,\n",
            "         -1.0000, -1.0000, -1.0000, -1.0000],\n",
            "        [-1.0000, -1.0000, -1.0000, -1.0000, -1.0000, -1.0000, -1.0000, -1.0000,\n",
            "         -1.0000, -1.0000, -1.0000, -1.0000, -1.0000, -1.0000, -1.0000, -1.0000,\n",
            "         -1.0000, -1.0000, -1.0000, -1.0000, -1.0000, -1.0000, -1.0000, -1.0000,\n",
            "         -1.0000, -1.0000, -1.0000, -1.0000],\n",
            "        [-1.0000, -1.0000, -1.0000, -1.0000, -1.0000, -1.0000, -1.0000, -1.0000,\n",
            "         -1.0000, -1.0000, -1.0000, -1.0000, -1.0000, -1.0000, -1.0000, -1.0000,\n",
            "         -1.0000, -1.0000, -1.0000, -1.0000, -1.0000, -1.0000, -1.0000, -1.0000,\n",
            "         -1.0000, -1.0000, -1.0000, -1.0000],\n",
            "        [-1.0000, -1.0000, -1.0000, -1.0000, -1.0000, -1.0000, -1.0000, -1.0000,\n",
            "         -1.0000, -1.0000, -1.0000, -1.0000, -1.0000, -1.0000, -1.0000, -1.0000,\n",
            "         -1.0000, -1.0000, -1.0000, -1.0000, -1.0000, -1.0000, -1.0000, -1.0000,\n",
            "         -1.0000, -1.0000, -1.0000, -1.0000],\n",
            "        [-1.0000, -1.0000, -1.0000, -1.0000, -1.0000, -1.0000, -1.0000, -1.0000,\n",
            "         -1.0000, -1.0000, -1.0000, -1.0000, -1.0000, -1.0000, -1.0000, -1.0000,\n",
            "         -1.0000, -1.0000, -1.0000, -1.0000, -1.0000, -1.0000, -1.0000, -1.0000,\n",
            "         -1.0000, -1.0000, -1.0000, -1.0000],\n",
            "        [-1.0000, -1.0000, -1.0000, -1.0000, -1.0000, -1.0000, -1.0000, -1.0000,\n",
            "         -1.0000, -1.0000, -1.0000, -1.0000, -1.0000, -1.0000, -1.0000, -1.0000,\n",
            "         -1.0000, -1.0000, -1.0000, -0.7490, -0.2392, -0.3647, -1.0000, -1.0000,\n",
            "         -1.0000, -1.0000, -1.0000, -1.0000],\n",
            "        [-1.0000, -1.0000, -1.0000, -1.0000, -1.0000, -1.0000, -1.0000, -1.0000,\n",
            "         -1.0000, -1.0000, -1.0000, -1.0000, -1.0000, -1.0000, -0.8824, -0.4039,\n",
            "         -0.3725,  0.6706,  0.6706,  0.7725,  0.9843,  0.9373,  0.5843, -0.7255,\n",
            "         -1.0000, -1.0000, -1.0000, -1.0000],\n",
            "        [-1.0000, -1.0000, -1.0000, -1.0000, -1.0000, -1.0000, -1.0000, -1.0000,\n",
            "         -1.0000, -1.0000, -1.0000, -1.0000, -0.6078, -0.2706,  0.6000,  0.9843,\n",
            "          0.9843,  0.9843,  0.5765,  0.2000,  0.3255,  0.8588,  0.9843, -0.0902,\n",
            "         -1.0000, -1.0000, -1.0000, -1.0000],\n",
            "        [-1.0000, -1.0000, -1.0000, -1.0000, -1.0000, -1.0000, -1.0000, -1.0000,\n",
            "         -0.9608, -0.7255, -0.7255, -0.7255,  0.8039,  0.9137,  0.7176,  0.6000,\n",
            "         -0.3569, -0.3569, -0.9686, -1.0000, -1.0000,  0.4039,  0.9843,  0.0510,\n",
            "         -1.0000, -1.0000, -1.0000, -1.0000],\n",
            "        [-1.0000, -1.0000, -1.0000, -1.0000, -1.0000, -1.0000, -1.0000, -0.6784,\n",
            "          0.2941,  0.9843,  0.9843,  0.9843,  0.5686, -0.4118, -1.0000, -1.0000,\n",
            "         -1.0000, -1.0000, -1.0000, -1.0000, -1.0000,  0.4039,  0.9843,  0.3961,\n",
            "         -1.0000, -1.0000, -1.0000, -1.0000],\n",
            "        [-1.0000, -1.0000, -1.0000, -1.0000, -1.0000, -1.0000, -0.1294,  0.7569,\n",
            "          0.9843,  0.9843,  0.9843,  0.9843,  0.6471, -0.8039, -1.0000, -1.0000,\n",
            "         -1.0000, -1.0000, -1.0000, -1.0000, -1.0000,  0.4039,  0.9843,  0.4275,\n",
            "         -1.0000, -1.0000, -1.0000, -1.0000],\n",
            "        [-1.0000, -1.0000, -1.0000, -1.0000, -1.0000, -0.2549,  0.9765,  0.9843,\n",
            "          0.8667,  0.0588, -0.9529, -0.9529, -0.3647, -0.9843, -1.0000, -1.0000,\n",
            "         -1.0000, -1.0000, -1.0000, -1.0000, -0.7882,  0.6549,  0.9843, -0.0902,\n",
            "         -1.0000, -1.0000, -1.0000, -1.0000],\n",
            "        [-1.0000, -1.0000, -1.0000, -1.0000, -0.6706,  0.7725,  0.9843,  0.2157,\n",
            "         -0.8196, -1.0000, -1.0000, -1.0000, -1.0000, -1.0000, -1.0000, -1.0000,\n",
            "         -1.0000, -1.0000, -1.0000, -1.0000, -0.1294,  0.9843,  0.9843, -0.0902,\n",
            "         -1.0000, -1.0000, -1.0000, -1.0000],\n",
            "        [-1.0000, -1.0000, -1.0000, -1.0000,  0.2078,  0.9843,  0.9843, -0.5216,\n",
            "         -1.0000, -1.0000, -1.0000, -1.0000, -1.0000, -1.0000, -1.0000, -1.0000,\n",
            "         -1.0000, -1.0000, -1.0000, -1.0000,  0.5608,  0.9843,  0.9451, -0.3333,\n",
            "         -1.0000, -1.0000, -1.0000, -1.0000],\n",
            "        [-1.0000, -1.0000, -1.0000, -1.0000,  0.9922,  0.9843,  0.8745, -0.6078,\n",
            "         -1.0000, -1.0000, -1.0000, -1.0000, -1.0000, -1.0000, -1.0000, -1.0000,\n",
            "         -1.0000, -1.0000, -1.0000, -0.8745,  0.6471,  0.9843,  0.8196, -1.0000,\n",
            "         -1.0000, -1.0000, -1.0000, -1.0000],\n",
            "        [-1.0000, -1.0000, -1.0000, -1.0000,  0.9922,  0.9843,  0.3882, -1.0000,\n",
            "         -1.0000, -1.0000, -1.0000, -1.0000, -1.0000, -1.0000, -1.0000, -1.0000,\n",
            "         -1.0000, -1.0000, -1.0000, -0.2314,  0.9843,  0.9529,  0.0353, -1.0000,\n",
            "         -1.0000, -1.0000, -1.0000, -1.0000],\n",
            "        [-1.0000, -1.0000, -1.0000, -1.0000,  0.9922,  0.9843,  0.4039, -0.9843,\n",
            "         -1.0000, -1.0000, -1.0000, -1.0000, -1.0000, -1.0000, -1.0000, -1.0000,\n",
            "         -1.0000, -1.0000, -0.5373,  0.8745,  0.9843,  0.6627, -1.0000, -1.0000,\n",
            "         -1.0000, -1.0000, -1.0000, -1.0000],\n",
            "        [-1.0000, -1.0000, -1.0000, -1.0000,  0.4667,  0.9843,  0.9843,  0.0039,\n",
            "         -1.0000, -1.0000, -1.0000, -1.0000, -1.0000, -1.0000, -1.0000, -1.0000,\n",
            "         -1.0000, -0.5216,  0.3804,  0.9843,  0.9843,  0.1294, -1.0000, -1.0000,\n",
            "         -1.0000, -1.0000, -1.0000, -1.0000],\n",
            "        [-1.0000, -1.0000, -1.0000, -1.0000, -0.9529,  0.4039,  0.9843,  0.9608,\n",
            "          0.7412, -0.1843, -0.6000, -1.0000, -1.0000, -1.0000, -1.0000, -0.9059,\n",
            "         -0.1529,  0.9373,  0.9843,  0.9843, -0.4980, -0.9686, -1.0000, -1.0000,\n",
            "         -1.0000, -1.0000, -1.0000, -1.0000],\n",
            "        [-1.0000, -1.0000, -1.0000, -1.0000, -1.0000, -0.2392,  0.9843,  0.9843,\n",
            "          0.9843,  0.9843,  0.8510,  0.7255,  0.7255,  0.7255,  0.7255,  0.7569,\n",
            "          0.9843,  0.9843,  0.9843,  0.4196, -0.9373, -1.0000, -1.0000, -1.0000,\n",
            "         -1.0000, -1.0000, -1.0000, -1.0000],\n",
            "        [-1.0000, -1.0000, -1.0000, -1.0000, -1.0000, -0.8353, -0.2549,  0.4980,\n",
            "          0.8275,  0.9843,  0.9843,  0.9843,  0.9843,  0.9843,  0.9843,  0.9843,\n",
            "          0.9843,  0.9843,  0.5216, -0.5686, -1.0000, -1.0000, -1.0000, -1.0000,\n",
            "         -1.0000, -1.0000, -1.0000, -1.0000],\n",
            "        [-1.0000, -1.0000, -1.0000, -1.0000, -1.0000, -1.0000, -1.0000, -1.0000,\n",
            "         -0.6000, -0.4118,  0.1373,  0.6627,  0.6627,  0.6627,  0.6627, -0.0353,\n",
            "         -0.4118, -0.4118, -0.9686, -1.0000, -1.0000, -1.0000, -1.0000, -1.0000,\n",
            "         -1.0000, -1.0000, -1.0000, -1.0000],\n",
            "        [-1.0000, -1.0000, -1.0000, -1.0000, -1.0000, -1.0000, -1.0000, -1.0000,\n",
            "         -1.0000, -1.0000, -1.0000, -1.0000, -1.0000, -1.0000, -1.0000, -1.0000,\n",
            "         -1.0000, -1.0000, -1.0000, -1.0000, -1.0000, -1.0000, -1.0000, -1.0000,\n",
            "         -1.0000, -1.0000, -1.0000, -1.0000],\n",
            "        [-1.0000, -1.0000, -1.0000, -1.0000, -1.0000, -1.0000, -1.0000, -1.0000,\n",
            "         -1.0000, -1.0000, -1.0000, -1.0000, -1.0000, -1.0000, -1.0000, -1.0000,\n",
            "         -1.0000, -1.0000, -1.0000, -1.0000, -1.0000, -1.0000, -1.0000, -1.0000,\n",
            "         -1.0000, -1.0000, -1.0000, -1.0000],\n",
            "        [-1.0000, -1.0000, -1.0000, -1.0000, -1.0000, -1.0000, -1.0000, -1.0000,\n",
            "         -1.0000, -1.0000, -1.0000, -1.0000, -1.0000, -1.0000, -1.0000, -1.0000,\n",
            "         -1.0000, -1.0000, -1.0000, -1.0000, -1.0000, -1.0000, -1.0000, -1.0000,\n",
            "         -1.0000, -1.0000, -1.0000, -1.0000],\n",
            "        [-1.0000, -1.0000, -1.0000, -1.0000, -1.0000, -1.0000, -1.0000, -1.0000,\n",
            "         -1.0000, -1.0000, -1.0000, -1.0000, -1.0000, -1.0000, -1.0000, -1.0000,\n",
            "         -1.0000, -1.0000, -1.0000, -1.0000, -1.0000, -1.0000, -1.0000, -1.0000,\n",
            "         -1.0000, -1.0000, -1.0000, -1.0000],\n",
            "        [-1.0000, -1.0000, -1.0000, -1.0000, -1.0000, -1.0000, -1.0000, -1.0000,\n",
            "         -1.0000, -1.0000, -1.0000, -1.0000, -1.0000, -1.0000, -1.0000, -1.0000,\n",
            "         -1.0000, -1.0000, -1.0000, -1.0000, -1.0000, -1.0000, -1.0000, -1.0000,\n",
            "         -1.0000, -1.0000, -1.0000, -1.0000],\n",
            "        [-1.0000, -1.0000, -1.0000, -1.0000, -1.0000, -1.0000, -1.0000, -1.0000,\n",
            "         -1.0000, -1.0000, -1.0000, -1.0000, -1.0000, -1.0000, -1.0000, -1.0000,\n",
            "         -1.0000, -1.0000, -1.0000, -1.0000, -1.0000, -1.0000, -1.0000, -1.0000,\n",
            "         -1.0000, -1.0000, -1.0000, -1.0000]])\n",
            "Label =  0\n"
          ]
        },
        {
          "output_type": "display_data",
          "data": {
            "text/plain": [
              "<Figure size 432x288 with 1 Axes>"
            ],
            "image/png": "[encoded data removed]"
          },
          "metadata": {
            "image/png": {
              "width": 251,
              "height": 263
            },
            "needs_background": "light"
          }
        }
      ]
    },
    {
      "cell_type": "code",
      "source": [
        "i[0,:,:].shape"
      ],
      "metadata": {
        "colab": {
          "base_uri": "https://localhost:8080/"
        },
        "id": "_JkncH96b37y",
        "outputId": "add49f61-2d4c-41d2-c67d-0375cae035f0"
      },
      "execution_count": null,
      "outputs": [
        {
          "output_type": "execute_result",
          "data": {
            "text/plain": [
              "torch.Size([28, 28])"
            ]
          },
          "metadata": {},
          "execution_count": 5
        }
      ]
    },
    {
      "cell_type": "markdown",
      "metadata": {
        "id": "fIv0_SB9Y7KJ"
      },
      "source": [
        "Hasta aqui, tenemos los datos de entrenamiento cargados en `trainloader` y lo podemos iterar con` iter (trainloader) `. Más tarde usaremos la iteracion con el objetivo de  recorrer el conjunto de datos para entrenamiento, por ejemplo:\n",
        "\n",
        "\n",
        "```python\n",
        "for image, label in trainloader:\n",
        "    ## Ejecute acciones con imagenes y labels.\n",
        "```\n",
        "\n",
        "Debemos observar que el `trainloader` tienen un tamaño de lote de 64 y `shuffle = True`. El tamaño del lote es el número de imágenes que obtenemos en una iteración del cargador de datos y pasamos a través de nuestra red, a menudo llamado *lote*. El  `shuffle = True` le dice que baraje el conjunto de datos cada vez que comenzamos a pasar por el cargador de datos nuevamente. Aquí solo tomaremos el primer lote para que podamos ver los datos. Podemos ver a continuación que `imágenes` es solo un tensor con tamaño `(64, 1, 28, 28)`. Entonces, 64 imágenes por lote, 1 canal de color y 28x28 imágenes."
      ]
    },
    {
      "cell_type": "markdown",
      "metadata": {
        "id": "zHzRin37F65_"
      },
      "source": [
        "### Iteremos nuestro trainloader\n",
        "\n",
        "Aquí utilizaremos `iter` para ir iterando, observe la dimensión de los tensores obtenidos."
      ]
    },
    {
      "cell_type": "code",
      "metadata": {
        "colab": {
          "base_uri": "https://localhost:8080/"
        },
        "id": "AyUAbdnDY7KK",
        "outputId": "d4723999-1207-44d5-9a21-38580b3f8e26"
      },
      "source": [
        "# Vamos a mirar una imagen concreta.\n",
        "dataiter = iter(trainloader)\n",
        "images, labels = next(dataiter)\n",
        "#images, labels = dataiter.next()\n",
        "print(type(images))\n",
        "print(images.shape)\n",
        "print(labels.shape)"
      ],
      "execution_count": null,
      "outputs": [
        {
          "output_type": "stream",
          "name": "stdout",
          "text": [
            "<class 'torch.Tensor'>\n",
            "torch.Size([64, 1, 28, 28])\n",
            "torch.Size([64])\n"
          ]
        }
      ]
    },
    {
      "cell_type": "markdown",
      "metadata": {
        "id": "zpl7SxQNY7KM"
      },
      "source": [
        "Así es como se ve una de las imágenes."
      ]
    },
    {
      "cell_type": "code",
      "metadata": {
        "colab": {
          "base_uri": "https://localhost:8080/",
          "height": 265
        },
        "id": "XtL1oymsY7KM",
        "outputId": "d59f0efb-a650-45ed-9dd8-f8cbe3d90253"
      },
      "source": [
        "# Elimina las dimesniones de valor 1. Es decir deja 28, 28.\n",
        "plt.imshow(images[1].numpy().squeeze(), cmap='Greys_r');"
      ],
      "execution_count": null,
      "outputs": [
        {
          "output_type": "display_data",
          "data": {
            "text/plain": [
              "<Figure size 432x288 with 1 Axes>"
            ],
            "image/png": "[encoded data removed]"
          },
          "metadata": {
            "image/png": {
              "width": 251,
              "height": 248
            },
            "needs_background": "light"
          }
        }
      ]
    },
    {
      "cell_type": "markdown",
      "metadata": {
        "id": "Dn86wpE9Y7KN"
      },
      "source": [
        "## Construyendo una red  fully-connected.\n",
        "\n",
        "Primero, intentemos construir una red simple para este conjunto de datos usando matrices de peso y multiplicaciones de matrices. Luego, veremos cómo hacerlo utilizando el módulo `nn` de PyTorch que proporciona un método mucho más conveniente y poderoso para definir arquitecturas de red.\n",
        "\n",
        "Las redes que has visto hasta ahora se llaman redes *fully-connected* o *densas*. Cada unidad en una capa está conectada a cada unidad en la siguiente capa. En redes completamente conectadas, la entrada a cada capa debe ser un vector unidimensional (que puede apilarse en un tensor 2D como un lote de ejemplos múltiples). Sin embargo, nuestras imágenes son tensores 2D de 28x28, por lo que debemos convertirlos en vectores 1D. Pensando en los tamaños, necesitamos convertir el lote de imágenes con forma `(64, 1, 28, 28)` para que tenga una forma de `(64, 784)`, 784 es 28 veces 28. Esto generalmente se llama *Al aplastar(flattening)*, aplanamos las imágenes 2D en vectores 1D.\n",
        "\n",
        "Anteriormente construyó una red con una unidad de salida. Aquí necesitamos 10 unidades de salida, una para cada dígito. Queremos que nuestra red prediga el dígito que se muestra en una imagen, por lo que lo que haremos será calcular las probabilidades de que la imagen sea de un solo dígito o clase. Esto termina siendo una distribución de probabilidad discreta sobre las clases (dígitos) que nos dice la clase más probable para la imagen. Eso significa que necesitamos 10 unidades de salida para las 10 clases (dígitos). A continuación, veremos cómo convertir la salida de la red en una distribución de probabilidad.\n",
        "\n",
        "> **Ejemplo:** Acoplemos el lote de imágenes `images`. Luego construya una red multicapa con 784 unidades de entrada, 256 unidades ocultas y 10 unidades de salida utilizando tensores aleatorios para los pesos y sesgos. Por ahora, use una activación sigmoidea para la capa oculta. Deje la capa de salida sin una activación, agregaremos una que nos da una distribución de probabilidad a continuación."
      ]
    },
    {
      "cell_type": "markdown",
      "metadata": {
        "id": "UzzHgToXGcV3"
      },
      "source": [
        "### Contruyendo la red a mano.\n",
        "\n",
        "Esta red tiene de entrada 28x28 y 256 nodos en la primera capa.\n",
        "\n",
        "1. Se define un primer tensor $w_1$ de 784x256 y un tensor  bias $b_1$ de 256.\n",
        "\n",
        "2. Posteriromente se define otro tensor $w_2$ de 256x10 ademas de un bias $b_2$ de dimension 10."
      ]
    },
    {
      "cell_type": "code",
      "metadata": {
        "id": "mrwxLScOY7KN"
      },
      "source": [
        "## Solution\n",
        "def activation(x):\n",
        "    return 1/(1+torch.exp(-x))\n",
        "\n",
        "# la aplastamos para obtener un vector de 784.\n",
        "inputs = images.view(images.shape[0], -1)\n",
        "\n",
        "# Iniciamos los pesos y los bias. Estamos considerando una red con una capa interna de 256.\n",
        "w1 = torch.randn(784, 256)\n",
        "b1 = torch.randn(256)\n",
        "# Estamos considerando una capa de salida de 10. Uno por cada digito.\n",
        "w2 = torch.randn(256, 10)\n",
        "b2 = torch.randn(10)\n",
        "\n",
        "# Aplicamos la activacion en la capa interna.\n",
        "h = activation(torch.mm(inputs, w1) + b1)\n",
        "\n",
        "# Luego multiplicacion en la capa externa.\n",
        "# ATENCION. No aplicamos la función de activación, sino que aplicaremos otra función denominada 'softmax'\n",
        "out = torch.mm(h, w2) + b2"
      ],
      "execution_count": null,
      "outputs": []
    },
    {
      "cell_type": "code",
      "source": [
        "out"
      ],
      "metadata": {
        "colab": {
          "base_uri": "https://localhost:8080/"
        },
        "id": "VsFPGE3gcaU2",
        "outputId": "8d2d8442-f157-4d46-eb9e-563bcdcda08f"
      },
      "execution_count": null,
      "outputs": [
        {
          "output_type": "execute_result",
          "data": {
            "text/plain": [
              "tensor([[-7.8891e+00,  2.1772e+01,  1.9486e+01,  9.7282e+00,  9.9739e+00,\n",
              "         -1.5591e+01, -1.4341e+01,  4.9321e+00,  3.9628e+00,  6.6659e+00],\n",
              "        [-2.1375e+00,  3.0263e+01, -3.1162e-01,  8.1395e+00,  2.6495e+01,\n",
              "         -1.4231e+01, -7.7680e+00,  2.7931e+00,  9.7102e+00, -1.3439e+00],\n",
              "        [-9.6447e+00,  2.0359e+01,  1.2587e+01,  2.1425e+01,  2.0283e+01,\n",
              "         -8.0466e+00, -9.4096e+00,  1.3270e+00,  4.1708e-01, -2.3720e+00],\n",
              "        [-2.3313e+00,  1.0955e+01,  1.8232e+01,  1.9892e+01,  2.3146e+01,\n",
              "         -1.7390e+01, -1.0051e+01,  2.0115e+00,  7.1387e+00, -6.5063e+00],\n",
              "        [-2.9122e+00,  1.4556e+01,  1.1552e+01,  1.4853e+01,  2.3390e+01,\n",
              "         -2.4787e+01, -1.0038e+01,  1.1449e+01,  4.2367e+00,  3.6052e+00],\n",
              "        [-2.7605e+00,  2.6916e+01,  2.0019e+01,  1.0021e+01,  1.7222e+01,\n",
              "         -9.1340e+00, -1.4625e+01,  5.3383e+00,  1.4395e+00,  5.8550e+00],\n",
              "        [-5.3248e-01,  1.8586e+01,  7.8394e+00,  1.4027e+01,  1.9576e+01,\n",
              "         -7.7596e+00, -1.3370e+01,  9.5423e+00,  3.7884e+00,  6.6670e+00],\n",
              "        [ 3.3141e+00,  1.6844e+01,  6.3337e+00,  1.8540e+01,  1.7219e+01,\n",
              "         -9.1943e+00, -1.9401e+01, -4.0142e+00, -3.8881e+00,  2.2940e+00],\n",
              "        [-1.0453e+01,  1.7522e+01,  1.8279e+01,  1.3214e+01,  3.4105e+01,\n",
              "         -1.7272e+01, -8.7221e+00,  1.0401e+00,  9.2196e+00,  2.7235e+00],\n",
              "        [-1.4709e+01,  2.0639e+01,  1.3095e+01,  7.0026e+00,  3.0330e+01,\n",
              "         -7.4566e+00, -1.3884e+01,  4.1042e+00,  1.4425e+01, -1.6519e+00],\n",
              "        [-2.0645e+00,  2.1371e+01,  1.5353e+01,  2.6508e+01,  1.8579e+01,\n",
              "         -6.2767e+00, -1.3317e+01,  6.9754e+00,  1.7633e+01, -2.2789e+00],\n",
              "        [-6.8796e+00,  2.4012e+01,  1.6455e+01,  7.9598e+00,  2.3618e+01,\n",
              "         -9.5443e+00, -3.2612e+00, -1.2592e+00,  7.6088e+00,  5.7735e+00],\n",
              "        [-8.1583e+00,  2.8873e+01,  1.3344e+01,  1.6873e+01,  2.1980e+01,\n",
              "         -6.6071e+00, -1.1522e+01,  2.5247e+00,  7.9650e+00,  2.3010e-01],\n",
              "        [-5.2018e+00,  2.0187e+01,  7.4285e+00,  3.0069e+00,  2.9469e+01,\n",
              "         -1.7230e+01, -1.1864e+01,  1.5636e+00,  2.6745e+00, -3.4859e+00],\n",
              "        [-1.8779e+00,  1.8353e+01,  3.7704e+00,  1.2986e+00,  2.5823e+01,\n",
              "         -1.4448e+01, -1.8201e+01,  1.0618e+01,  4.8217e+00, -1.6898e+00],\n",
              "        [-7.5590e+00,  2.0157e+01,  5.9364e+00,  6.6463e+00,  2.9207e+01,\n",
              "         -2.0822e+01, -7.9632e+00,  6.4579e+00,  3.3725e+00, -6.2882e-01],\n",
              "        [-6.4593e+00,  2.1244e+01,  1.3576e+01,  7.7128e-02,  2.5906e+01,\n",
              "         -9.9158e+00, -1.1269e+01,  8.3310e+00,  7.8194e+00,  4.2444e+00],\n",
              "        [ 7.9148e-01,  1.7578e+01,  1.1105e+01,  1.3703e+01,  2.8599e+01,\n",
              "         -9.4037e+00, -1.2716e+01,  1.0516e+01, -4.5971e+00,  2.8573e+00],\n",
              "        [-3.6377e-02,  1.7248e+01,  1.1075e+01,  1.1854e+01,  1.5297e+01,\n",
              "         -2.0043e+01, -2.6927e+01,  8.9128e+00,  7.4456e+00,  2.2322e+00],\n",
              "        [-2.5853e+00,  1.9279e+01,  1.2393e+01,  8.5744e+00,  2.8911e+01,\n",
              "         -1.6610e+01, -1.4903e+01,  7.0349e+00,  1.4076e+01,  4.3421e+00],\n",
              "        [-9.7058e+00,  1.9505e+01,  8.4014e+00,  8.1394e+00,  2.4048e+01,\n",
              "         -1.2668e+01, -2.4047e+01,  1.7505e+01,  8.3986e+00, -4.8870e+00],\n",
              "        [-6.6317e+00,  2.7684e+01,  1.8813e+01,  8.7044e+00,  1.7807e+01,\n",
              "         -1.1136e+01, -1.5379e+01,  1.2922e+01,  3.7229e+00, -1.0218e+00],\n",
              "        [-8.1803e+00,  2.3043e+01,  9.9757e+00,  1.5398e+01,  1.8279e+01,\n",
              "          2.4980e+00, -3.6103e+00,  7.0094e+00,  8.5125e+00, -1.4711e+01],\n",
              "        [-1.0330e+01,  2.3103e+01,  1.2913e+01,  1.0440e+01,  2.8399e+01,\n",
              "         -1.3456e+01, -1.2794e+01,  8.3475e+00,  1.1818e-01, -1.7758e+00],\n",
              "        [-4.6492e+00,  2.3026e+01, -2.9586e+00,  4.2713e+00,  2.9429e+01,\n",
              "         -1.7661e+01, -1.4039e+01,  9.4991e-01,  2.0508e+00, -4.0206e+00],\n",
              "        [-7.5102e+00,  2.6048e+01,  1.4267e+01,  1.1117e+01,  2.4730e+01,\n",
              "         -9.2374e+00, -1.6219e+01,  8.4750e+00,  4.1780e+00,  1.1655e+00],\n",
              "        [-1.1237e+01,  2.1182e+01,  7.7616e+00,  1.5262e+01,  2.2334e+01,\n",
              "         -4.7595e+00, -1.1273e+01,  5.5874e+00,  1.0472e+01, -2.8123e+00],\n",
              "        [-9.0223e+00,  2.1804e+01,  1.6538e+01,  9.4542e+00,  2.2628e+01,\n",
              "         -1.8169e+01, -1.8154e+01,  4.3868e+00,  4.4125e+00,  5.4724e+00],\n",
              "        [-6.9766e+00,  2.6036e+01,  1.1783e+01,  5.1296e+00,  3.0039e+01,\n",
              "         -2.1099e+01, -1.1615e+01,  1.3420e+01,  5.7320e+00,  2.8186e-01],\n",
              "        [-7.7622e+00,  3.4237e+01,  1.7256e+01,  1.1997e+01,  2.3916e+01,\n",
              "         -1.2783e+01, -1.3594e+01,  1.2652e+01,  3.7902e+00,  1.0252e+01],\n",
              "        [-1.9833e+00,  2.5421e+01,  1.6602e+01,  2.7730e+00,  1.5396e+01,\n",
              "         -1.2831e+01, -9.2776e+00,  1.0339e+01,  2.3336e+00, -4.5451e+00],\n",
              "        [-4.9458e+00,  2.1565e+01,  1.2095e+01,  1.2563e+01,  1.9002e+01,\n",
              "         -1.4850e+01, -2.2619e+01,  8.7985e+00,  2.5372e+00,  3.1336e+00],\n",
              "        [-7.6868e+00,  2.8989e+01,  3.2742e+00,  1.3529e+01,  1.3946e+01,\n",
              "         -7.4268e+00,  4.4842e-01,  6.3736e+00,  6.0030e+00,  4.6783e+00],\n",
              "        [-1.9571e+01,  1.4098e+01,  1.9560e+01,  1.7285e+01,  2.1553e+01,\n",
              "         -1.8236e+01, -1.4379e+01,  4.2131e+00,  6.7233e+00,  3.6732e+00],\n",
              "        [-1.2080e+01,  2.5246e+01,  1.0226e+01,  1.9567e+01,  2.3001e+01,\n",
              "         -1.8389e+01, -8.7340e+00,  3.0512e+00,  4.2389e+00,  5.2531e-01],\n",
              "        [-5.7487e+00,  2.5118e+01,  1.6264e+01,  8.1964e+00,  1.7640e+01,\n",
              "         -1.3977e+01, -1.7949e+01,  9.3732e+00,  5.6312e+00, -1.9307e+00],\n",
              "        [-5.4464e+00,  1.3255e+01,  1.0746e+01,  1.8075e+01,  3.0970e+01,\n",
              "         -1.0085e+01, -1.7002e+01,  1.1714e+01,  1.1469e+01, -1.1186e+00],\n",
              "        [-3.6132e+00,  2.7548e+01,  1.0898e+01,  1.4301e+01,  1.6573e+01,\n",
              "         -9.3220e+00, -1.1692e+01,  2.8574e+00,  1.5792e+00,  8.9551e-01],\n",
              "        [-1.0488e+00,  2.0495e+01,  1.6737e+01,  1.0524e+01,  1.8726e+01,\n",
              "         -1.1375e+01, -1.6434e+01,  8.1779e+00,  3.7722e+00,  2.5074e+00],\n",
              "        [-1.0119e+01,  2.8040e+01,  9.7181e+00,  1.8441e+01,  2.3001e+01,\n",
              "         -5.5029e+00, -2.4976e+01,  5.5210e+00,  3.5129e+00,  5.0123e+00],\n",
              "        [-7.2605e+00,  1.9863e+01,  1.5334e+01,  1.0178e+01,  2.7829e+01,\n",
              "         -1.3137e+01, -1.2220e+01,  4.4770e+00,  4.6510e+00,  5.2992e-01],\n",
              "        [-3.4277e+00,  2.5695e+01,  1.3290e+01,  2.8795e+00,  2.7663e+01,\n",
              "         -1.7405e+01, -7.2760e+00,  1.6879e+01,  5.6597e+00, -5.8227e+00],\n",
              "        [-7.1322e+00,  2.0406e+01,  4.5181e+00,  1.8060e+01,  9.6448e+00,\n",
              "         -1.4237e+01, -9.1720e+00,  5.0614e+00, -8.1170e+00, -8.7444e-01],\n",
              "        [-7.0562e+00,  2.7068e+01,  9.5252e+00,  1.0173e+01,  2.5721e+01,\n",
              "         -1.5450e+01, -1.2431e+01,  1.1746e+01,  2.5947e+00,  4.4011e+00],\n",
              "        [-1.1422e+01,  3.9777e+01,  9.2646e+00,  9.9978e+00,  2.1114e+01,\n",
              "         -1.2725e+01, -1.0479e+01,  1.0391e+01, -3.5004e+00,  5.8548e+00],\n",
              "        [-9.6449e+00,  2.2463e+01,  1.8241e+01,  1.5249e+01,  1.3939e+01,\n",
              "         -9.0412e+00, -6.0631e+00,  3.5465e+00, -2.7423e+00, -7.4951e-01],\n",
              "        [-1.0118e+00,  2.0249e+01,  2.8612e+00,  1.6384e+01,  2.1448e+01,\n",
              "         -1.2245e+01, -1.1345e+01,  6.5881e+00, -2.9298e+00,  2.4629e+00],\n",
              "        [ 2.0120e+00,  1.1349e+01,  2.3250e+01,  1.5666e+01,  2.5391e+01,\n",
              "         -1.7440e+01, -2.0728e+01,  4.8795e+00,  1.0710e+01, -3.8220e+00],\n",
              "        [ 1.0472e+00,  2.1585e+01,  1.3262e+01,  6.4457e+00,  2.4981e+01,\n",
              "         -1.3363e+01, -1.4788e+01,  1.0124e+00, -7.5427e+00,  2.7809e+00],\n",
              "        [-4.3821e+00,  1.8197e+01,  1.0044e+01,  1.0994e+01,  2.8791e+01,\n",
              "         -9.2745e+00, -1.1415e+01,  1.8192e+01,  1.1094e+00,  6.4638e+00],\n",
              "        [ 1.9150e-02,  2.1843e+01,  5.1466e+00,  1.2132e+01,  1.4533e+01,\n",
              "         -1.8725e+01, -1.0913e+01,  7.8483e+00, -1.1584e+00, -1.2489e+00],\n",
              "        [-7.9097e+00,  1.9867e+01,  7.9300e+00,  7.9032e+00,  2.7945e+01,\n",
              "         -1.2863e+01, -1.0333e+01,  7.4882e+00,  1.5167e+00,  3.3410e-01],\n",
              "        [-1.1473e+01,  2.4556e+01,  1.7311e+01,  1.3403e+01,  1.7071e+01,\n",
              "         -1.1106e+01, -2.0026e+01, -4.1626e+00,  6.0258e+00,  7.2156e+00],\n",
              "        [-1.1958e+01,  1.2089e+01,  6.4542e+00,  1.0748e+01,  2.2830e+01,\n",
              "         -8.7979e+00, -1.7789e+01,  1.1498e+01,  1.2481e+01, -1.2104e+00],\n",
              "        [-9.5051e+00,  2.2761e+01,  8.9939e+00,  1.0159e+01,  1.2405e+01,\n",
              "         -2.4386e+00, -3.6917e+00,  1.1960e+01,  1.5277e+01,  7.6982e-01],\n",
              "        [-5.8797e+00,  2.3280e+01,  1.2921e+01,  6.0817e+00,  2.7106e+01,\n",
              "         -1.5403e+01, -4.9817e+00,  9.5652e+00, -3.2282e+00,  1.2301e+00],\n",
              "        [ 2.8111e+00,  1.6476e+01,  1.6630e+01,  1.6689e+01,  1.9192e+01,\n",
              "         -1.1637e+01, -8.3026e+00,  1.5431e+00,  5.1575e+00, -3.7426e-01],\n",
              "        [-2.6129e+00,  2.1308e+01,  5.4517e+00,  6.2709e+00,  2.1515e+01,\n",
              "         -1.2843e+01, -1.1333e+01,  1.3716e+01, -3.4449e+00,  4.0340e+00],\n",
              "        [-7.7407e+00,  1.7330e+01,  4.4265e+00,  3.1141e+00,  2.1795e+01,\n",
              "         -1.1181e+01, -1.5419e+01,  4.7956e+00,  8.1829e+00,  5.2384e+00],\n",
              "        [-6.3562e+00,  1.8255e+01,  1.3547e+01,  2.0320e+01,  1.7754e+01,\n",
              "         -1.2659e+01, -1.1374e+01,  1.1300e+01,  9.9503e+00,  3.5602e+00],\n",
              "        [-8.2593e+00,  1.5177e+01,  1.9490e+01,  1.9560e+01,  1.9777e+01,\n",
              "         -1.3146e+01, -1.0168e+01,  8.5175e+00,  8.0842e+00,  5.6834e+00],\n",
              "        [-4.4165e+00,  2.3727e+01,  1.9132e+01,  8.6716e+00,  2.0185e+01,\n",
              "         -1.0978e+01, -7.2563e+00,  1.4912e+01,  2.1840e+00, -1.7975e+00],\n",
              "        [-6.4017e+00,  2.2558e+01,  1.0569e+01,  8.4538e+00,  1.4445e+01,\n",
              "         -9.6883e+00, -1.8408e+01,  6.2457e+00, -3.5191e+00,  1.7152e+00],\n",
              "        [-4.2188e+00,  2.7119e+01,  1.4418e+01,  1.4396e+01,  1.6502e+01,\n",
              "         -1.0646e+01, -1.3393e+01,  3.7271e+00,  4.9572e+00,  2.3241e+00]])"
            ]
          },
          "metadata": {},
          "execution_count": 9
        }
      ]
    },
    {
      "cell_type": "markdown",
      "metadata": {
        "id": "LzsZg8S5Y7KO"
      },
      "source": [
        "Ahora tenemos 10 salidas para nuestra red. Queremos pasar una imagen a nuestra red y obtener una distribución de probabilidad sobre las clases que nos indique las clases probables a las que pertenece la imagen. Algo que se parece a esto:\n",
        "![Link](https://i.ibb.co/P4ZsVNx/Untitled.png)\n",
        "\n",
        "Aquí vemos que la probabilidad para cada clase es aproximadamente la misma. Esto representa una red no entrenada, aún no ha visto ningún dato, por lo que solo devuelve una distribución uniforme con iguales probabilidades para cada clase.\n",
        "\n",
        "Para calcular esta distribución de probabilidad, a menudo utilizamos la función [**softmax**](https://en.wikipedia.org/wiki/Softmax_function) o __función exponencial normalizada__. Matemáticamente se ve asi:\n",
        "\n",
        "$$\n",
        "\\sigma(x_i) = \\cfrac{e^{x_i}}{\\sum_k^K{e^{x_k}}}\n",
        "$$\n",
        "\n",
        "Lo que esto hace es aplastar cada entrada $x_i$ entre 0 y 1 y normaliza los valores para darle una distribución de probabilidad adecuada donde las probabilidades suman uno.\n",
        "\n",
        "> **Ejemplo:** Implemente una función `softmax` que realice el cálculo de softmax y devuelva distribuciones de probabilidad para cada ejemplo en el lote. Tenga en cuenta que deberá prestar atención a las formas al hacer esto. Si tiene un tensor `a` con forma` (64, 10) `y un tensor` b` con forma `(64,)`, hacer `a / b` le dará un error porque PyTorch intentará hacer el división a través de las columnas (llamada broadcasting) pero obtendrá un desajuste de tamaño. La forma de pensar sobre esto es para cada uno de los 64 ejemplos, solo desea dividir por un valor, la suma en el denominador. Por lo tanto, necesita 'b' para tener una forma de `(64, 1)`. De esta manera, PyTorch dividirá los 10 valores en cada fila de `a` por el valor uno en cada fila de` b`. Presta atención también a cómo tomas la suma. Tendrá que definir la palabra clave `dim` en` torch.sum`. Establecer `dim = 0` toma la suma a través de las filas, mientras que` dim = 1` toma la suma a través de las columnas."
      ]
    },
    {
      "cell_type": "markdown",
      "metadata": {
        "id": "hosflLEyHgiX"
      },
      "source": [
        "#### Construyamos nuestra función softmax."
      ]
    },
    {
      "cell_type": "code",
      "metadata": {
        "colab": {
          "base_uri": "https://localhost:8080/"
        },
        "id": "_9i2ucWIH4xY",
        "outputId": "f5f6a50c-9bb7-4db4-e058-3a6704f6e233"
      },
      "source": [
        "\"\"\"\n",
        "Esto es un ejemplo para entender la transformacion realizda por torch.exp y torch.sum.\n",
        "\"\"\"\n",
        "print(out.shape)\n",
        "test = torch.sum(torch.exp(out), dim=1).view(-1, 1)\n",
        "print(test.shape)"
      ],
      "execution_count": null,
      "outputs": [
        {
          "output_type": "stream",
          "name": "stdout",
          "text": [
            "torch.Size([64, 10])\n",
            "torch.Size([64, 1])\n"
          ]
        }
      ]
    },
    {
      "cell_type": "code",
      "metadata": {
        "colab": {
          "base_uri": "https://localhost:8080/"
        },
        "id": "eap-TbUBY7KO",
        "outputId": "e0361111-6a26-42a7-a344-30511b001fb9"
      },
      "source": [
        "## Solucion\n",
        "def softmax(x):\n",
        "    return torch.exp(x)/torch.sum(torch.exp(x), dim=1).view(-1, 1)\n",
        "\n",
        "probabilities = softmax(out)\n",
        "print(probabilities.shape)\n",
        "# Suman 1?.\n",
        "print(probabilities.sum(dim=1))"
      ],
      "execution_count": null,
      "outputs": [
        {
          "output_type": "stream",
          "name": "stdout",
          "text": [
            "torch.Size([64, 10])\n",
            "tensor([1.0000, 1.0000, 1.0000, 1.0000, 1.0000, 1.0000, 1.0000, 1.0000, 1.0000,\n",
            "        1.0000, 1.0000, 1.0000, 1.0000, 1.0000, 1.0000, 1.0000, 1.0000, 1.0000,\n",
            "        1.0000, 1.0000, 1.0000, 1.0000, 1.0000, 1.0000, 1.0000, 1.0000, 1.0000,\n",
            "        1.0000, 1.0000, 1.0000, 1.0000, 1.0000, 1.0000, 1.0000, 1.0000, 1.0000,\n",
            "        1.0000, 1.0000, 1.0000, 1.0000, 1.0000, 1.0000, 1.0000, 1.0000, 1.0000,\n",
            "        1.0000, 1.0000, 1.0000, 1.0000, 1.0000, 1.0000, 1.0000, 1.0000, 1.0000,\n",
            "        1.0000, 1.0000, 1.0000, 1.0000, 1.0000, 1.0000, 1.0000, 1.0000, 1.0000,\n",
            "        1.0000])\n"
          ]
        }
      ]
    },
    {
      "cell_type": "code",
      "source": [
        "probabilities[0]"
      ],
      "metadata": {
        "colab": {
          "base_uri": "https://localhost:8080/"
        },
        "id": "hDNShmsscwCB",
        "outputId": "a404934a-2827-4f39-a656-653ff9fb90db"
      },
      "execution_count": null,
      "outputs": [
        {
          "output_type": "execute_result",
          "data": {
            "text/plain": [
              "tensor([1.1924e-13, 9.0768e-01, 9.2308e-02, 5.3397e-06, 6.8265e-06, 5.3882e-17,\n",
              "        1.8806e-16, 4.4114e-08, 1.6735e-08, 2.4977e-07])"
            ]
          },
          "metadata": {},
          "execution_count": 12
        }
      ]
    },
    {
      "cell_type": "markdown",
      "metadata": {
        "id": "kDhMv3DPIzag"
      },
      "source": [
        "Con esto construimos una red neuronal que tiene dos capas ocultas, sobre la primera capa aplica una función sigmoide y sobre la segunda aplica una función softmax."
      ]
    },
    {
      "cell_type": "markdown",
      "metadata": {
        "id": "SMC6MmaBY7KP"
      },
      "source": [
        "### Vamos a construir la red con PyTorch\n",
        "\n",
        "PyTorch proporciona un módulo `nn` que hace que la construcción de redes sea mucho más simple. Aquí mostraremos cómo construir la misma red anterior con 784 entradas, 256 unidades ocultas, 10 unidades de salida y una salida softmax.\n",
        "\n",
        "La función __Linear__, aplica una transformacion lineal de los datos de entrada de la siguiente forma:\n",
        "\n",
        "$$y = xA^T + b$$\n"
      ]
    },
    {
      "cell_type": "markdown",
      "metadata": {
        "id": "VEM_E3X_Y7KP"
      },
      "source": [
        "```python\n",
        "class Network(nn.Module):\n",
        "```\n",
        "Aquí estamos heredando de `nn.Module`. Combinado con `super().__init__()` esto crea una clase que hereda la arquitectura y proporciona  métodos y atributos útiles de la clase base. Es obligatorio heredar de `nn.Module` cuando está creando una clase para su red. El nombre de la clase en sí puede ser cualquier cosa.\n",
        "\n",
        "```python\n",
        "self.hidden = nn.Linear(784, 256)\n",
        "```\n",
        "\n",
        "Esta línea crea un módulo para una transformación lineal, $ x \\mathbf{W} + b $, con 784 entradas y 256 salidas y lo asigna a `self.hidden`. El módulo crea automáticamente los tensores de peso y bias que usaremos en el método `forward`. Puede acceder a los tensores de peso y bias una vez que la red (`net`) se crea con `net.hidden.weight` y `net.hidden.bias`.\n",
        "\n",
        "\n",
        "```python\n",
        "self.output = nn.Linear(256, 10)\n",
        "```\n",
        "\n",
        "Del mismo modo, esto crea otra transformación lineal con 256 entradas y 10 salidas.\n",
        "\n",
        "```python\n",
        "self.sigmoid = nn.Sigmoid()\n",
        "self.softmax = nn.Softmax(dim=1)\n",
        "```\n",
        "Aquí definimos las  operaciones para la activación sigmoidea y la salida softmax. La configuración de `dim = 1` en `nn.Softmax (dim = 1)` calcula softmax en las columnas.\n",
        "\n",
        "\n",
        "```python\n",
        "def forward(self, x):\n",
        "```\n",
        "Las redes PyTorch creadas con `nn.Module` deben tener un método ` forward` definido. Toma un tensor `x` y lo pasa a través de las operaciones que definió en el método `__init__`.\n",
        "\n",
        "\n",
        "```python\n",
        "x = self.hidden(x)\n",
        "x = self.sigmoid(x)\n",
        "x = self.output(x)\n",
        "x = self.softmax(x)\n",
        "```\n",
        "Aquí el tensor de entrada `x` se pasa a través de cada operación y se reasigna a` x`. Podemos ver que el tensor de entrada atraviesa la capa oculta, luego una función sigmoidea, luego la capa de salida y finalmente la función softmax. No importa cómo nombre las variables aquí, siempre que las entradas y salidas de las operaciones coincidan con la arquitectura de red que desea construir. El orden en el que define las cosas en el método `__init__` no importa, pero deberá secuenciar las operaciones correctamente en el método` forward`.\n",
        "\n",
        "Ahora podemos crear un objeto `Network`.\n",
        "\n",
        "\n",
        "\n",
        "```\n",
        "model = Network()\n",
        "model\n",
        "```\n",
        "\n"
      ]
    },
    {
      "cell_type": "markdown",
      "metadata": {
        "id": "8OTQwOG9hjsp"
      },
      "source": [
        "### <font color='green'>**Actividad 1**</font>\n",
        "\n",
        "Construya una clase Network que herede de nn.Module.\n",
        "```\n",
        "class Network(nn.Module):\n",
        "    def __init__(self):\n",
        "        super().__init__()\n",
        "        # Defina una capa escondida fully connected considerando una entrada de 784  y 256 nodos.\n",
        "        # Defina una capa de salida fully connected considerando una entrada de 256  y 10 nodos.  \n",
        "        # Defina una función de activación sigmoidea y una de softmax.\n",
        "        \n",
        "    def forward(self, x):\n",
        "        # Pasemos el tensor de entrada a través de cada una de las operaciones definidas anteriormente.\n",
        "        return x\n",
        "```\n",
        "\n"
      ]
    },
    {
      "cell_type": "code",
      "metadata": {
        "colab": {
          "base_uri": "https://localhost:8080/"
        },
        "id": "cAEJMCzTgqiW",
        "outputId": "ed705ef5-146e-4c76-943c-deb853faa492"
      },
      "source": [
        "# Cree una red y mire su representación.\n",
        "model = Network()\n",
        "model"
      ],
      "execution_count": null,
      "outputs": [
        {
          "output_type": "execute_result",
          "data": {
            "text/plain": [
              "Network(\n",
              "  (hidden): Linear(in_features=784, out_features=256, bias=True)\n",
              "  (output): Linear(in_features=256, out_features=10, bias=True)\n",
              "  (sigmoid): Sigmoid()\n",
              "  (softmax): Softmax(dim=1)\n",
              ")"
            ]
          },
          "metadata": {},
          "execution_count": 15
        }
      ]
    },
    {
      "cell_type": "markdown",
      "metadata": {
        "id": "4jYD3gahhlo2"
      },
      "source": [
        "### <font color='green'>**Fin Actividad 1**</font>"
      ]
    },
    {
      "cell_type": "markdown",
      "metadata": {
        "id": "v-xgvXREY7KQ"
      },
      "source": [
        "Se puede definir la red de manera más concisa y clara utilizando el módulo `torch.nn.functional`. Esta es la forma más común de ver las redes definidas, ya que muchas operaciones son funciones simples basadas en elementos. Normalmente importamos este módulo como `F`,` import torch.nn.functional como F`."
      ]
    },
    {
      "cell_type": "code",
      "metadata": {
        "id": "_Jfo6953Y7KR"
      },
      "source": [
        "import torch.nn.functional as F\n",
        "\n",
        "class Network(nn.Module):\n",
        "    def __init__(self):\n",
        "        super().__init__()\n",
        "        # Entradas a la transformación lineal de capa oculta\n",
        "        self.hidden = nn.Linear(784, 256)\n",
        "        # Capa de salida, 10 unidades, una por cada dígito\n",
        "        self.output = nn.Linear(256, 10)\n",
        "\n",
        "    def forward(self, x): # Es lo mismo que lo anterior pero de forma más concisa\n",
        "        # Capa oculta con activación sigmoidea\n",
        "        x = F.sigmoid(self.hidden(x))\n",
        "        # Capa de salida con activación softmax\n",
        "        x = F.softmax(self.output(x), dim=1)\n",
        "\n",
        "        return x"
      ],
      "execution_count": null,
      "outputs": []
    },
    {
      "cell_type": "markdown",
      "metadata": {
        "id": "hme10UYKY7KR"
      },
      "source": [
        "### Funciones de activación.\n",
        "\n",
        "\n",
        "Hasta ahora solo hemos estado mirando la activación de softmax y la sigmoidea, pero en general cualquier función se puede usar como función de activación. El único requisito es que para que una red se aproxime a una función no lineal, las funciones de activación deben ser no lineales. Aquí hay algunos ejemplos más de funciones de activación comunes: __Tanh__ (tangente hiperbólica) y __ReLU__ (unidad lineal rectificada).\n",
        "\n",
        "\n",
        "\n",
        "![Funciones de activacion](https://drive.google.com/uc?export=view&id=1WoyUS1AHsiIO99lRVwNF0ZpcNlkLQhh0)\n",
        "\n",
        "\n",
        "En la práctica, la función ReLU se usa casi exclusivamente como la función de activación para capas ocultas. Es muy usada para clasificación de imágenes."
      ]
    },
    {
      "cell_type": "markdown",
      "metadata": {
        "id": "J3k7oloDY7KR"
      },
      "source": [
        "### <font color='green'>**Actividad 2**</font>\n",
        "Construya una red neuronal con 3 capas ocultas.\n",
        "\n",
        "![NN 3 capas ocultas](https://drive.google.com/uc?export=view&id=1AsDCgA5GvP7XQMDAVvN7fwYxaku8Z1XR)\n",
        "\n",
        "\n",
        "\n",
        "\n",
        ">**Ejercicio:** Cree una red con 784 unidades de entrada, una capa oculta con 128 unidades y una activación ReLU, luego una capa oculta con 64 unidades y una activación ReLU, y finalmente una capa de salida con una activación softmax como se muestra arriba. Puede utilizar una activación ReLU con el módulo `nn.ReLU` o la función `F.relu`.\n",
        "\n",
        "Es una buena práctica nombrar sus capas por su tipo de red, por ejemplo `fc` para representar una capa completamente conectada. A medida que codifica su solución, use `fc1`, `fc2` y `fc3` como sus nombres de capa."
      ]
    },
    {
      "cell_type": "markdown",
      "metadata": {
        "id": "T1D8PQg3lOBH"
      },
      "source": [
        "### <font color='green'>**Fin Actividad 2**</font>"
      ]
    },
    {
      "cell_type": "markdown",
      "metadata": {
        "id": "3KzC2B1WY7KR"
      },
      "source": [
        "#### Iniciando pesos y bias.\n",
        "\n",
        "Los pesos y bias se inicializan automáticamente, pero tambien es posible personalizar cómo se inicializan. Los pesos y los bias son tensores unidos a la capa que los definió, por ejemplo, puede obtenerlos con `model.fc1.weight`."
      ]
    },
    {
      "cell_type": "code",
      "metadata": {
        "id": "ewkPXzjcY7KS",
        "colab": {
          "base_uri": "https://localhost:8080/"
        },
        "outputId": "ff088a0d-ad27-4b91-e930-bfbe4251295e"
      },
      "source": [
        "print('Pesos')\n",
        "print(model.fc1.weight)\n",
        "print('Bias')\n",
        "print(model.fc1.bias)"
      ],
      "execution_count": null,
      "outputs": [
        {
          "output_type": "stream",
          "name": "stdout",
          "text": [
            "Pesos\n",
            "Parameter containing:\n",
            "tensor([[ 0.0039,  0.0052, -0.0317,  ..., -0.0228, -0.0277, -0.0345],\n",
            "        [-0.0334, -0.0199,  0.0284,  ..., -0.0271, -0.0241,  0.0344],\n",
            "        [-0.0106,  0.0176, -0.0156,  ..., -0.0274,  0.0284,  0.0248],\n",
            "        ...,\n",
            "        [-0.0224,  0.0326, -0.0343,  ...,  0.0307, -0.0143, -0.0105],\n",
            "        [-0.0229,  0.0129, -0.0257,  ...,  0.0185,  0.0073,  0.0207],\n",
            "        [ 0.0014, -0.0278,  0.0041,  ...,  0.0077, -0.0067,  0.0297]],\n",
            "       requires_grad=True)\n",
            "Bias\n",
            "Parameter containing:\n",
            "tensor([-0.0165, -0.0056,  0.0252, -0.0074,  0.0175, -0.0178,  0.0013, -0.0009,\n",
            "        -0.0116,  0.0127, -0.0132, -0.0143,  0.0169,  0.0163,  0.0193,  0.0325,\n",
            "        -0.0041, -0.0039, -0.0274, -0.0243, -0.0145,  0.0297,  0.0129,  0.0301,\n",
            "         0.0095, -0.0277,  0.0059, -0.0049,  0.0216, -0.0042,  0.0347, -0.0159,\n",
            "        -0.0004, -0.0331,  0.0198,  0.0046,  0.0116,  0.0086,  0.0117, -0.0259,\n",
            "         0.0014,  0.0330,  0.0321,  0.0066,  0.0017, -0.0228,  0.0031, -0.0243,\n",
            "         0.0130,  0.0068, -0.0330, -0.0205, -0.0255,  0.0007,  0.0220,  0.0239,\n",
            "        -0.0323, -0.0029,  0.0176, -0.0259, -0.0219,  0.0296,  0.0151,  0.0057,\n",
            "         0.0244, -0.0354, -0.0203,  0.0006, -0.0151,  0.0065,  0.0245,  0.0020,\n",
            "         0.0188,  0.0147,  0.0274, -0.0235, -0.0157, -0.0090, -0.0149, -0.0173,\n",
            "        -0.0204,  0.0097,  0.0024,  0.0179,  0.0210, -0.0112,  0.0040,  0.0279,\n",
            "        -0.0051, -0.0351,  0.0139, -0.0322,  0.0023,  0.0057,  0.0308,  0.0233,\n",
            "        -0.0220, -0.0293,  0.0223, -0.0159, -0.0150,  0.0280, -0.0220,  0.0325,\n",
            "         0.0106, -0.0085, -0.0334,  0.0212,  0.0063, -0.0042, -0.0220, -0.0068,\n",
            "        -0.0320,  0.0136, -0.0215, -0.0216, -0.0140,  0.0283,  0.0243,  0.0199,\n",
            "        -0.0107,  0.0348,  0.0230, -0.0208,  0.0328, -0.0028, -0.0045,  0.0100],\n",
            "       requires_grad=True)\n"
          ]
        }
      ]
    },
    {
      "cell_type": "markdown",
      "metadata": {
        "id": "UTDHyC-XY7KS"
      },
      "source": [
        "Para la inicialización personalizada, queremos modificar estos tensores en su lugar. Necesitamos recuperar los tensores reales con `model.fc1.weight.data`. Una vez que tenemos los tensores, podemos llenarlos con ceros (para bias) o valores normales aleatorios."
      ]
    },
    {
      "cell_type": "code",
      "metadata": {
        "colab": {
          "base_uri": "https://localhost:8080/"
        },
        "id": "RdkN_x53Y7KS",
        "outputId": "fb03a64f-32df-4efb-88c2-9cf9c54ed2d3"
      },
      "source": [
        "# Configure los bias a cero.\n",
        "model.fc1.bias.data.fill_(0)"
      ],
      "execution_count": null,
      "outputs": [
        {
          "output_type": "execute_result",
          "data": {
            "text/plain": [
              "tensor([0., 0., 0., 0., 0., 0., 0., 0., 0., 0., 0., 0., 0., 0., 0., 0., 0., 0., 0., 0., 0., 0., 0., 0.,\n",
              "        0., 0., 0., 0., 0., 0., 0., 0., 0., 0., 0., 0., 0., 0., 0., 0., 0., 0., 0., 0., 0., 0., 0., 0.,\n",
              "        0., 0., 0., 0., 0., 0., 0., 0., 0., 0., 0., 0., 0., 0., 0., 0., 0., 0., 0., 0., 0., 0., 0., 0.,\n",
              "        0., 0., 0., 0., 0., 0., 0., 0., 0., 0., 0., 0., 0., 0., 0., 0., 0., 0., 0., 0., 0., 0., 0., 0.,\n",
              "        0., 0., 0., 0., 0., 0., 0., 0., 0., 0., 0., 0., 0., 0., 0., 0., 0., 0., 0., 0., 0., 0., 0., 0.,\n",
              "        0., 0., 0., 0., 0., 0., 0., 0.])"
            ]
          },
          "metadata": {},
          "execution_count": 19
        }
      ]
    },
    {
      "cell_type": "code",
      "metadata": {
        "colab": {
          "base_uri": "https://localhost:8080/"
        },
        "id": "Mvv_3M93Y7KS",
        "outputId": "5d842d63-4f08-45ad-8860-ebb68d86339c"
      },
      "source": [
        "# muestra de normal aleatorio con dev estándar = 0.01\n",
        "model.fc1.weight.data.normal_(std=0.01)"
      ],
      "execution_count": null,
      "outputs": [
        {
          "output_type": "execute_result",
          "data": {
            "text/plain": [
              "tensor([[ 0.0097, -0.0063,  0.0030,  ...,  0.0008,  0.0096, -0.0001],\n",
              "        [ 0.0066, -0.0058,  0.0116,  ...,  0.0109, -0.0224,  0.0118],\n",
              "        [-0.0035, -0.0044,  0.0045,  ...,  0.0034,  0.0036, -0.0062],\n",
              "        ...,\n",
              "        [-0.0054, -0.0060, -0.0065,  ...,  0.0145, -0.0077,  0.0195],\n",
              "        [-0.0100,  0.0040, -0.0114,  ...,  0.0104,  0.0094, -0.0042],\n",
              "        [-0.0067,  0.0185,  0.0010,  ..., -0.0047,  0.0022, -0.0039]])"
            ]
          },
          "metadata": {},
          "execution_count": 20
        }
      ]
    },
    {
      "cell_type": "markdown",
      "metadata": {
        "id": "1u7Okt4SY7KS"
      },
      "source": [
        "### Forward pass\n",
        "\n",
        "Ahora que tenemos una red construida, veamos qué sucede cuando pasamos una imagen. A continuación una función que nos permite visualizar la imagen."
      ]
    },
    {
      "cell_type": "code",
      "metadata": {
        "id": "1T11RJZbnPdJ"
      },
      "source": [
        "def view_classify(img, ps, version=\"MNIST\"):\n",
        "    ''' Function for viewing an image and it's predicted classes.\n",
        "    '''\n",
        "    ps = ps.data.numpy().squeeze()\n",
        "    # Define el tamaño de la figura y numero de gráficos.\n",
        "    fig, (ax1, ax2) = plt.subplots(figsize=(6,9), ncols=2)\n",
        "    # Se reformatea al original. 28*28 recuerde que lo dejamos como un vector de 784.\n",
        "    ax1.imshow(img.resize_(1, 28, 28).numpy().squeeze())\n",
        "    ax1.axis('off')\n",
        "    # Maquillaje\n",
        "    ax2.barh(np.arange(10), ps)\n",
        "    ax2.set_aspect(0.1)\n",
        "    ax2.set_yticks(np.arange(10))\n",
        "    if version == \"MNIST\":\n",
        "        ax2.set_yticklabels(np.arange(10))\n",
        "    elif version == \"Fashion\":\n",
        "      # Las distintas clases.\n",
        "        ax2.set_yticklabels(['T-shirt/top',\n",
        "                            'Trouser',\n",
        "                            'Pullover',\n",
        "                            'Dress',\n",
        "                            'Coat',\n",
        "                            'Sandal',\n",
        "                            'Shirt',\n",
        "                            'Sneaker',\n",
        "                            'Bag',\n",
        "                            'Ankle Boot'], size='small');\n",
        "    ax2.set_title('Probabilidad de la Class')\n",
        "    ax2.set_xlim(0, 1.1)\n",
        "\n",
        "    plt.tight_layout()"
      ],
      "execution_count": null,
      "outputs": []
    },
    {
      "cell_type": "code",
      "metadata": {
        "colab": {
          "base_uri": "https://localhost:8080/",
          "height": 252
        },
        "id": "sIU9GMvtY7KT",
        "outputId": "a18c9753-5c2e-45a7-cc28-4aae7a39141c"
      },
      "source": [
        "# Tomemos un paquete de imagenes.\n",
        "dataiter = iter(trainloader)\n",
        "images, labels = next(dataiter)\n",
        "\n",
        "# Transformemos la imagen en vector. Le sacamos la dimensiones 28x28\n",
        "images.resize_(64, 1, 784)\n",
        "# o images.resize_(images.shape[0], 1, 784) automaticamente obtener el tamaño del batch.\n",
        "\n",
        "# Pasar forward a través de la red\n",
        "img_idx = 9\n",
        "ps = model.forward(images[img_idx,:])\n",
        "\n",
        "img = images[img_idx]\n",
        "view_classify(img.view(1, 28, 28), ps)"
      ],
      "execution_count": null,
      "outputs": [
        {
          "output_type": "display_data",
          "data": {
            "text/plain": [
              "<Figure size 432x648 with 2 Axes>"
            ],
            "image/png": "[encoded data removed]"
          },
          "metadata": {
            "image/png": {
              "width": 424,
              "height": 235
            },
            "needs_background": "light"
          }
        }
      ]
    },
    {
      "cell_type": "markdown",
      "metadata": {
        "id": "jJlv7sNSL7st"
      },
      "source": [
        "En este momento lo que hemos hecho es pasarle una imagen a la red y ver el resultado. no la hemos entrenado aún. Si se fijan, las probabilidades que entrega __softmax__ son todas muy parecidas."
      ]
    },
    {
      "cell_type": "code",
      "metadata": {
        "id": "B4BPcOGtY7KT",
        "outputId": "8a6d2339-a34b-4c16-bbf6-171be538e92a",
        "colab": {
          "base_uri": "https://localhost:8080/"
        }
      },
      "source": [
        "print(ps)"
      ],
      "execution_count": null,
      "outputs": [
        {
          "output_type": "stream",
          "name": "stdout",
          "text": [
            "tensor([[0.0983, 0.1017, 0.1015, 0.0946, 0.0999, 0.0891, 0.1119, 0.1005, 0.0906,\n",
            "         0.1119]], grad_fn=<SoftmaxBackward0>)\n"
          ]
        }
      ]
    },
    {
      "cell_type": "markdown",
      "metadata": {
        "id": "QVb8vzVKL1eH"
      },
      "source": [
        "## <font color='green'>**Material anexo.**</font>"
      ]
    },
    {
      "cell_type": "markdown",
      "metadata": {
        "id": "W_UPjf8PY7KT"
      },
      "source": [
        "Como puede ver arriba, nuestra red básicamente no tiene idea de qué es este dígito. Es porque todavía no lo hemos entrenado, ¡todos los pesos son aleatorios!\n",
        "\n",
        "### Usando  `nn.Sequential`\n",
        "\n",
        "`nn.Sequential` ([documentation](https://pytorch.org/docs/master/nn.html#torch.nn.Sequential)). Usando esto para construir la red equivalente:"
      ]
    },
    {
      "cell_type": "code",
      "metadata": {
        "colab": {
          "base_uri": "https://localhost:8080/",
          "height": 391
        },
        "id": "aUKQxQUoY7KT",
        "outputId": "677e4852-f183-4956-a13d-78349e893c6d"
      },
      "source": [
        "# Los Hyperparametros de la red.\n",
        "input_size = 784\n",
        "hidden_sizes = [128, 64]\n",
        "output_size = 10\n",
        "\n",
        "# Vamos a construir una red feed/forward.\n",
        "model = nn.Sequential(nn.Linear(input_size, hidden_sizes[0]),\n",
        "                      nn.ReLU(),\n",
        "                      nn.Linear(hidden_sizes[0], hidden_sizes[1]),\n",
        "                      nn.ReLU(),\n",
        "                      nn.Linear(hidden_sizes[1], output_size),\n",
        "                      nn.Softmax(dim=1))\n",
        "print(model)\n",
        "\n",
        "# Forward a través de la red.\n",
        "images, labels = next(iter(trainloader))\n",
        "images.resize_(images.shape[0], 1, 784)\n",
        "ps = model.forward(images[0,:])\n",
        "view_classify(images[0].view(1, 28, 28), ps)"
      ],
      "execution_count": null,
      "outputs": [
        {
          "output_type": "stream",
          "name": "stdout",
          "text": [
            "Sequential(\n",
            "  (0): Linear(in_features=784, out_features=128, bias=True)\n",
            "  (1): ReLU()\n",
            "  (2): Linear(in_features=128, out_features=64, bias=True)\n",
            "  (3): ReLU()\n",
            "  (4): Linear(in_features=64, out_features=10, bias=True)\n",
            "  (5): Softmax(dim=1)\n",
            ")\n"
          ]
        },
        {
          "output_type": "display_data",
          "data": {
            "text/plain": [
              "<Figure size 432x648 with 2 Axes>"
            ],
            "image/png": "[encoded data removed]"
          },
          "metadata": {
            "image/png": {
              "width": 424,
              "height": 235
            },
            "needs_background": "light"
          }
        }
      ]
    },
    {
      "cell_type": "markdown",
      "metadata": {
        "id": "xavE5OHiY7KT"
      },
      "source": [
        "__Nota:__ Las operaciones están disponibles pasando el índice apropiado. Por ejemplo, si desea obtener la primera operación lineal y ver los pesos, usaría `model[0]`."
      ]
    },
    {
      "cell_type": "code",
      "metadata": {
        "colab": {
          "base_uri": "https://localhost:8080/"
        },
        "id": "FNd0pD2rY7KT",
        "outputId": "ad70cbb2-9013-4a30-a515-217b72135483"
      },
      "source": [
        "print(model[0])\n",
        "model[0].weight"
      ],
      "execution_count": null,
      "outputs": [
        {
          "output_type": "stream",
          "name": "stdout",
          "text": [
            "Linear(in_features=784, out_features=128, bias=True)\n"
          ]
        },
        {
          "output_type": "execute_result",
          "data": {
            "text/plain": [
              "Parameter containing:\n",
              "tensor([[ 0.0117, -0.0060, -0.0149,  ..., -0.0340,  0.0205, -0.0049],\n",
              "        [-0.0066, -0.0265, -0.0039,  ..., -0.0208,  0.0044,  0.0158],\n",
              "        [ 0.0338, -0.0196, -0.0144,  ..., -0.0225,  0.0010,  0.0237],\n",
              "        ...,\n",
              "        [ 0.0204,  0.0158, -0.0057,  ..., -0.0055,  0.0039,  0.0050],\n",
              "        [ 0.0313,  0.0256, -0.0140,  ...,  0.0136,  0.0337, -0.0140],\n",
              "        [-0.0141, -0.0073, -0.0196,  ..., -0.0060, -0.0069, -0.0331]],\n",
              "       requires_grad=True)"
            ]
          },
          "metadata": {},
          "execution_count": 25
        }
      ]
    },
    {
      "cell_type": "markdown",
      "metadata": {
        "id": "JQ0dQvz7Y7KU"
      },
      "source": [
        "También puede pasar un `OrderedDict` para nombrar las capas y operaciones individuales, en lugar de usar enteros incrementales. Tenga en cuenta que las claves del diccionario deben ser únicas, por lo que cada operación debe tener un nombre diferente."
      ]
    },
    {
      "cell_type": "code",
      "metadata": {
        "id": "mMOcsLqUY7KU",
        "colab": {
          "base_uri": "https://localhost:8080/"
        },
        "outputId": "867cb2bf-144f-4173-bc65-9f242b7c9b7f"
      },
      "source": [
        "from collections import OrderedDict\n",
        "model = nn.Sequential(OrderedDict([\n",
        "                      ('fc1', nn.Linear(input_size, hidden_sizes[0])),\n",
        "                      ('relu1', nn.ReLU()),\n",
        "                      ('fc2', nn.Linear(hidden_sizes[0], hidden_sizes[1])),\n",
        "                      ('relu2', nn.ReLU()),\n",
        "                      ('output', nn.Linear(hidden_sizes[1], output_size)),\n",
        "                      ('softmax', nn.Softmax(dim=1))]))\n",
        "model"
      ],
      "execution_count": null,
      "outputs": [
        {
          "output_type": "execute_result",
          "data": {
            "text/plain": [
              "Sequential(\n",
              "  (fc1): Linear(in_features=784, out_features=128, bias=True)\n",
              "  (relu1): ReLU()\n",
              "  (fc2): Linear(in_features=128, out_features=64, bias=True)\n",
              "  (relu2): ReLU()\n",
              "  (output): Linear(in_features=64, out_features=10, bias=True)\n",
              "  (softmax): Softmax(dim=1)\n",
              ")"
            ]
          },
          "metadata": {},
          "execution_count": 26
        }
      ]
    },
    {
      "cell_type": "markdown",
      "metadata": {
        "id": "ELKGUX02Y7KU"
      },
      "source": [
        "Ahora puede acceder a las capas ya sea por entero o por el nombre"
      ]
    },
    {
      "cell_type": "code",
      "metadata": {
        "id": "bB5Y7RdaY7KU",
        "outputId": "1e5e04fc-2fdc-4d83-d326-3a797bff7f60",
        "colab": {
          "base_uri": "https://localhost:8080/"
        }
      },
      "source": [
        "print(model[0])\n",
        "print(model.fc1)"
      ],
      "execution_count": null,
      "outputs": [
        {
          "output_type": "stream",
          "name": "stdout",
          "text": [
            "Linear(in_features=784, out_features=128, bias=True)\n",
            "Linear(in_features=784, out_features=128, bias=True)\n"
          ]
        }
      ]
    }
  ]
}